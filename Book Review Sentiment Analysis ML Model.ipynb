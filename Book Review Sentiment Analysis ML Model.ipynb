{
 "cells": [
  {
   "cell_type": "markdown",
   "metadata": {},
   "source": [
    "# Lab 8: Implement Your Machine Learning Project Plan"
   ]
  },
  {
   "cell_type": "markdown",
   "metadata": {},
   "source": [
    "In this lab assignment, you will implement the machine learning project plan you created in the written assignment. You will:\n",
    "\n",
    "1. Load your data set and save it to a Pandas DataFrame.\n",
    "2. Perform exploratory data analysis on your data to determine which feature engineering and data preparation techniques you will use.\n",
    "3. Prepare your data for your model and create features and a label.\n",
    "4. Fit your model to the training data and evaluate your model.\n",
    "5. Improve your model by performing model selection and/or feature selection techniques to find best model for your problem."
   ]
  },
  {
   "cell_type": "markdown",
   "metadata": {},
   "source": [
    "### Import Packages\n",
    "\n",
    "Before you get started, import a few packages."
   ]
  },
  {
   "cell_type": "code",
   "execution_count": 1,
   "metadata": {},
   "outputs": [],
   "source": [
    "import pandas as pd\n",
    "import numpy as np\n",
    "import os \n",
    "import matplotlib.pyplot as plt\n",
    "import seaborn as sns"
   ]
  },
  {
   "cell_type": "markdown",
   "metadata": {},
   "source": [
    "<b>Task:</b> In the code cell below, import additional packages that you have used in this course that you will need for this task."
   ]
  },
  {
   "cell_type": "code",
   "execution_count": 2,
   "metadata": {},
   "outputs": [],
   "source": [
    "# YOUR CODE HERE\n",
    "from sklearn.feature_extraction.text import TfidfVectorizer\n",
    "from sklearn.model_selection import train_test_split, GridSearchCV\n",
    "from sklearn.linear_model import LogisticRegression\n",
    "from sklearn.metrics import plot_roc_curve, accuracy_score, roc_auc_score, roc_curve, auc, confusion_matrix\n",
    "from sklearn.pipeline import Pipeline"
   ]
  },
  {
   "cell_type": "markdown",
   "metadata": {},
   "source": [
    "## Part 1: Load the Data Set\n",
    "\n",
    "\n",
    "You have chosen to work with one of four data sets. The data sets are located in a folder named \"data.\" The file names of the three data sets are as follows:\n",
    "\n",
    "* The \"adult\" data set that contains Census information from 1994 is located in file `adultData.csv`\n",
    "* The airbnb NYC \"listings\" data set is located in file  `airbnbListingsData.csv`\n",
    "* The World Happiness Report (WHR) data set is located in file `WHR2018Chapter2OnlineData.csv`\n",
    "* The book review data set is located in file `bookReviewsData.csv`\n",
    "\n",
    "\n",
    "\n",
    "<b>Task:</b> In the code cell below, use the same method you have been using to load your data using `pd.read_csv()` and save it to DataFrame `df`."
   ]
  },
  {
   "cell_type": "code",
   "execution_count": 3,
   "metadata": {},
   "outputs": [],
   "source": [
    "# YOUR CODE HERE\n",
    "filename = os.path.join(os.getcwd(), \"data\", \"bookReviewsData.csv\")\n",
    "df = pd.read_csv(filename, header = 0)"
   ]
  },
  {
   "cell_type": "markdown",
   "metadata": {},
   "source": [
    "## Part 2: Exploratory Data Analysis\n",
    "\n",
    "The next step is to inspect and analyze your data set with your machine learning problem and project plan in mind. \n",
    "\n",
    "This step will help you determine data preparation and feature engineering techniques you will need to apply to your data to build a balanced modeling data set for your problem and model. These data preparation techniques may include:\n",
    "* addressing missingness, such as replacing missing values with means\n",
    "* renaming features and labels\n",
    "* finding and replacing outliers\n",
    "* performing winsorization if needed\n",
    "* performing one-hot encoding on categorical features\n",
    "* performing vectorization for an NLP problem\n",
    "* addressing class imbalance in your data sample to promote fair AI\n",
    "\n",
    "\n",
    "Think of the different techniques you have used to inspect and analyze your data in this course. These include using Pandas to apply data filters, using the Pandas `describe()` method to get insight into key statistics for each column, using the Pandas `dtypes` property to inspect the data type of each column, and using Matplotlib and Seaborn to detect outliers and visualize relationships between features and labels. If you are working on a classification problem, use techniques you have learned to determine if there is class imbalance.\n",
    "\n",
    "\n",
    "<b>Task</b>: Use the techniques you have learned in this course to inspect and analyze your data. \n",
    "\n",
    "<b>Note</b>: You can add code cells if needed by going to the <b>Insert</b> menu and clicking on <b>Insert Cell Below</b> in the drop-drown menu."
   ]
  },
  {
   "cell_type": "code",
   "execution_count": 4,
   "metadata": {},
   "outputs": [
    {
     "data": {
      "text/html": [
       "<div>\n",
       "<style scoped>\n",
       "    .dataframe tbody tr th:only-of-type {\n",
       "        vertical-align: middle;\n",
       "    }\n",
       "\n",
       "    .dataframe tbody tr th {\n",
       "        vertical-align: top;\n",
       "    }\n",
       "\n",
       "    .dataframe thead th {\n",
       "        text-align: right;\n",
       "    }\n",
       "</style>\n",
       "<table border=\"1\" class=\"dataframe\">\n",
       "  <thead>\n",
       "    <tr style=\"text-align: right;\">\n",
       "      <th></th>\n",
       "      <th>Review</th>\n",
       "      <th>Positive Review</th>\n",
       "    </tr>\n",
       "  </thead>\n",
       "  <tbody>\n",
       "    <tr>\n",
       "      <th>count</th>\n",
       "      <td>1973</td>\n",
       "      <td>1973</td>\n",
       "    </tr>\n",
       "    <tr>\n",
       "      <th>unique</th>\n",
       "      <td>1865</td>\n",
       "      <td>2</td>\n",
       "    </tr>\n",
       "    <tr>\n",
       "      <th>top</th>\n",
       "      <td>I have read several of Hiaasen's books and lov...</td>\n",
       "      <td>False</td>\n",
       "    </tr>\n",
       "    <tr>\n",
       "      <th>freq</th>\n",
       "      <td>3</td>\n",
       "      <td>993</td>\n",
       "    </tr>\n",
       "  </tbody>\n",
       "</table>\n",
       "</div>"
      ],
      "text/plain": [
       "                                                   Review Positive Review\n",
       "count                                                1973            1973\n",
       "unique                                               1865               2\n",
       "top     I have read several of Hiaasen's books and lov...           False\n",
       "freq                                                    3             993"
      ]
     },
     "execution_count": 4,
     "metadata": {},
     "output_type": "execute_result"
    }
   ],
   "source": [
    "# YOUR CODE HERE\n",
    "df.head()\n",
    "df.describe()"
   ]
  },
  {
   "cell_type": "markdown",
   "metadata": {},
   "source": [
    "As seen by the difference in the value for count and unique, there are duplicate examples in this dataset. However, the duplicates serve as a means to balance the classes because there would be a much larger class imbalance without them. This dataset already included these duplicate examples to serve this purpose, therefore I will not remove the duplicates. "
   ]
  },
  {
   "cell_type": "code",
   "execution_count": 5,
   "metadata": {},
   "outputs": [
    {
     "data": {
      "text/plain": [
       "False    993\n",
       "True     980\n",
       "Name: Positive Review, dtype: int64"
      ]
     },
     "execution_count": 5,
     "metadata": {},
     "output_type": "execute_result"
    }
   ],
   "source": [
    "# Check for class imbalance\n",
    "df['Positive Review'].value_counts()"
   ]
  },
  {
   "cell_type": "markdown",
   "metadata": {},
   "source": [
    "## Part 3: Implement Your Project Plan\n",
    "\n",
    "<b>Task:</b> Use the rest of this notebook to carry out your project plan. You will:\n",
    "\n",
    "1. Prepare your data for your model and create features and a label.\n",
    "2. Fit your model to the training data and evaluate your model.\n",
    "3. Improve your model by performing model selection and/or feature selection techniques to find best model for your problem.\n",
    "\n",
    "\n",
    "Add code cells below and populate the notebook with commentary, code, analyses, results, and figures as you see fit."
   ]
  },
  {
   "cell_type": "markdown",
   "metadata": {},
   "source": [
    "### Create Labeled Examples"
   ]
  },
  {
   "cell_type": "code",
   "execution_count": 6,
   "metadata": {},
   "outputs": [
    {
     "data": {
      "text/plain": [
       "(1973,)"
      ]
     },
     "execution_count": 6,
     "metadata": {},
     "output_type": "execute_result"
    }
   ],
   "source": [
    "# YOUR CODE HERE\n",
    "y = df['Positive Review']\n",
    "X = df['Review']\n",
    "\n",
    "X.shape"
   ]
  },
  {
   "cell_type": "code",
   "execution_count": 7,
   "metadata": {},
   "outputs": [
    {
     "data": {
      "text/plain": [
       "0    This was perhaps the best of Johannes Steinhof...\n",
       "1    This very fascinating book is a story written ...\n",
       "2    The four tales in this collection are beautifu...\n",
       "3    The book contained more profanity than I expec...\n",
       "4    We have now entered a second time of deep conc...\n",
       "Name: Review, dtype: object"
      ]
     },
     "execution_count": 7,
     "metadata": {},
     "output_type": "execute_result"
    }
   ],
   "source": [
    "X.head()"
   ]
  },
  {
   "cell_type": "markdown",
   "metadata": {},
   "source": [
    "### Split Labeled Examples into Training and Test Sets"
   ]
  },
  {
   "cell_type": "code",
   "execution_count": 8,
   "metadata": {},
   "outputs": [],
   "source": [
    "X_train, X_test, y_train, y_test = train_test_split(X, y, train_size = .75, random_state = 1234)"
   ]
  },
  {
   "cell_type": "markdown",
   "metadata": {},
   "source": [
    "### Implement TF-IDF Vectorizer to Transform Text"
   ]
  },
  {
   "cell_type": "code",
   "execution_count": 9,
   "metadata": {},
   "outputs": [
    {
     "name": "stdout",
     "output_type": "stream",
     "text": [
      "Vocabulary size 18558: \n",
      "[('there', 16673), ('is', 9043), ('reason', 13533), ('this', 16714), ('book', 2189), ('has', 7803), ('sold', 15423), ('over', 11793), ('180', 73), ('000', 1), ('copies', 3867), ('it', 9076), ('gets', 7240), ('right', 14207), ('to', 16835), ('the', 16627), ('point', 12568), ('accompanies', 444), ('each', 5372), ('strategy', 15943), ('with', 18277), ('visual', 17844), ('aid', 750), ('so', 15386), ('you', 18497), ('can', 2604), ('get', 7239), ('mental', 10534), ('picture', 12402), ('in', 8491), ('your', 18501), ('head', 7844), ('further', 7051), ('its', 9088), ('section', 14743), ('on', 11601), ('analyzing', 974), ('stocks', 15886), ('and', 984), ('commentary', 3384), ('state', 15782), ('of', 11543), ('financial', 6568), ('statements', 15786), ('market', 10286), ('are', 1220), ('money', 10863), ('if', 8336), ('just', 9282), ('starting', 15774)]\n",
      "\n"
     ]
    }
   ],
   "source": [
    "# 1. Create a TfidfVectorizer oject\n",
    "tfidf_vectorizer = TfidfVectorizer()\n",
    "\n",
    "# 2. Fit the vectorizer to X_train\n",
    "tfidf_vectorizer.fit(X_train)\n",
    "\n",
    "# 3. Print the first 50 items in the vocabulary\n",
    "print(\"Vocabulary size {0}: \".format(len(tfidf_vectorizer.vocabulary_)))\n",
    "print(str(list(tfidf_vectorizer.vocabulary_.items())[0:50])+'\\n')\n",
    "\n",
    "# 4. Transform both the training and test data using the fitted vectorizer and its 'transform' attribute\n",
    "X_train_tfidf = tfidf_vectorizer.transform(X_train)\n",
    "X_test_tfidf = tfidf_vectorizer.transform(X_test)"
   ]
  },
  {
   "cell_type": "markdown",
   "metadata": {},
   "source": [
    "### Fit a Logistic Regression Model to the Transformed Training Data and Evaluate the Model"
   ]
  },
  {
   "cell_type": "code",
   "execution_count": 10,
   "metadata": {},
   "outputs": [
    {
     "name": "stdout",
     "output_type": "stream",
     "text": [
      "AUC on the test data: 0.9146\n",
      "The size of the feature space: 18558\n"
     ]
    }
   ],
   "source": [
    "# 1. Create the LogisticRegression model object\n",
    "model = LogisticRegression(max_iter = 200)\n",
    "\n",
    "# 2. Fit the model to the transformed training data\n",
    "model.fit(X_train_tfidf, y_train)\n",
    "\n",
    "# 3. Use the predict_proba() method to make predictions on the test data\n",
    "probability_predictions = model.predict_proba(X_test_tfidf)[:, 1]\n",
    "\n",
    "# 4. Make predictions on the transformed test data using the predict() method\n",
    "class_label_predictions = model.predict(X_test_tfidf)\n",
    "\n",
    "# 5. Compute the area under the ROC curve for the test data.\n",
    "auc_score = roc_auc_score(y_test, probability_predictions)\n",
    "print('AUC on the test data: {:.4f}'.format(auc_score))\n",
    "\n",
    "# 6. Compute the size of the resulting feature space\n",
    "len_feature_space = len(tfidf_vectorizer.vocabulary_)\n",
    "print('The size of the feature space: {0}'.format(len_feature_space))"
   ]
  },
  {
   "cell_type": "markdown",
   "metadata": {},
   "source": [
    "### Check to See if Model Predicts Properly Using 2 Examples"
   ]
  },
  {
   "cell_type": "code",
   "execution_count": 11,
   "metadata": {},
   "outputs": [
    {
     "name": "stdout",
     "output_type": "stream",
     "text": [
      "Review #1:\n",
      "\n",
      "Many words - few practical tips! This book did not give much more (-valuable-) information than I already had found out by reading the manual delivered with my pocket computer. \n",
      "After reading the book I still had to search for web communities, where some of my questions could be answered. \n",
      "My expectations when buying the book were mainly focused on the need for practical hints concerning how to manage tasks, contacts and appointments. Unfortunately, in my view, these important and basic issues were treated too superficially.    \n",
      "\n",
      "\n",
      "Prediction: Is this a good review? True\n",
      "\n",
      "Actual: Is this a good review? False\n",
      "\n"
     ]
    }
   ],
   "source": [
    "print('Review #1:\\n')\n",
    "print(X_test.to_numpy()[108])\n",
    "\n",
    "print('\\nPrediction: Is this a good review? {}\\n'.format(class_label_predictions[108]))\n",
    "\n",
    "print('Actual: Is this a good review? {}\\n'.format(y_test.to_numpy()[108]))"
   ]
  },
  {
   "cell_type": "code",
   "execution_count": 12,
   "metadata": {},
   "outputs": [
    {
     "name": "stdout",
     "output_type": "stream",
     "text": [
      "Review #2:\n",
      "\n",
      "This book teaches poetic technique clearly while remaining friendly and encouraging.  My second-semester poetry creative writing students use this book as a text together with Michael J. Bugeja's ART AND CRAFT OF POETRY\n",
      "\n",
      "\n",
      "Prediction: Is this a good review? True\n",
      "\n",
      "Actual: Is this a good review? True\n",
      "\n"
     ]
    }
   ],
   "source": [
    "print('Review #2:\\n')\n",
    "print(X_test.to_numpy()[342])\n",
    "\n",
    "print('\\nPrediction: Is this a good review? {}\\n'.format(class_label_predictions[342]))\n",
    "\n",
    "print('Actual: Is this a good review? {}\\n'.format(y_test.to_numpy()[342]))"
   ]
  },
  {
   "cell_type": "markdown",
   "metadata": {},
   "source": [
    "One of the reviews was predicted correctly, and the other was wrongly predicted."
   ]
  },
  {
   "cell_type": "markdown",
   "metadata": {},
   "source": [
    "### Experiment with Different Document Frequency Values and Analyze the Results"
   ]
  },
  {
   "cell_type": "code",
   "execution_count": 13,
   "metadata": {},
   "outputs": [
    {
     "name": "stdout",
     "output_type": "stream",
     "text": [
      "\n",
      "Min Document Frequency Value: 1\n",
      "AUC on the test data: 0.9268\n",
      "The size of the feature space: 138486\n",
      "\n",
      "Min Document Frequency Value: 10\n",
      "AUC on the test data: 0.9195\n",
      "The size of the feature space: 4023\n",
      "\n",
      "Min Document Frequency Value: 100\n",
      "AUC on the test data: 0.8463\n",
      "The size of the feature space: 257\n",
      "\n",
      "Min Document Frequency Value: 1000\n",
      "AUC on the test data: 0.6435\n",
      "The size of the feature space: 9\n"
     ]
    }
   ],
   "source": [
    "for min_df in [1,10,100,1000]:\n",
    "\n",
    "    print('\\nMin Document Frequency Value: {0}'.format(min_df))\n",
    "\n",
    "    # 1. Create a TfidfVectorizer object\n",
    "    tfidf_vectorizer = TfidfVectorizer(min_df = min_df, ngram_range = (1,2))\n",
    "\n",
    "    # 2. Fit the vectorizer to X_train\n",
    "    tfidf_vectorizer.fit(X_train)\n",
    "\n",
    "    # 3. Transform the training and test data\n",
    "    X_train_tfidf = tfidf_vectorizer.transform(X_train)\n",
    "    X_test_tfidf = tfidf_vectorizer.transform(X_test)\n",
    "\n",
    "    # 4. Create a LogisticRegression model object, and fit a Logistic Regression model to the transformed training data\n",
    "    model = LogisticRegression(max_iter=200)\n",
    "    model.fit(X_train_tfidf, y_train)\n",
    "\n",
    "    # 5. Make predictions on the transformed test data using the predict_proba() method and save the values of the second column\n",
    "    probability_predictions = model.predict_proba(X_test_tfidf)[:, 1]\n",
    "\n",
    "    # 6. Compute the Area Under the ROC curve (AUC) for the test data.\n",
    "    auc_score = roc_auc_score(y_test, probability_predictions)\n",
    "    print('AUC on the test data: {:.4f}'.format(auc_score))\n",
    "\n",
    "    # 7. Compute the size of the resulting feature space using the 'vocabulary_' attribute of the vectorizer\n",
    "    len_feature_space = len(tfidf_vectorizer.vocabulary_)\n",
    "    print('The size of the feature space: {0}'.format(len_feature_space))"
   ]
  },
  {
   "cell_type": "markdown",
   "metadata": {},
   "source": [
    "### Create a TF-IDF and Logistic Regression Pipeline"
   ]
  },
  {
   "cell_type": "code",
   "execution_count": 14,
   "metadata": {},
   "outputs": [
    {
     "name": "stdout",
     "output_type": "stream",
     "text": [
      "Begin ML pipeline...\n",
      "End pipeline\n"
     ]
    }
   ],
   "source": [
    "print('Begin ML pipeline...')\n",
    "\n",
    "# 1. Define the list of steps:\n",
    "s = [\n",
    "        (\"vectorizer\", TfidfVectorizer(ngram_range = (1, 2), min_df = 10)),\n",
    "        (\"model\", LogisticRegression(max_iter = 200))\n",
    "    ]\n",
    "\n",
    "# 2. Define the pipeline:\n",
    "model_pipeline = Pipeline(steps = s)\n",
    "\n",
    "# 3. Fit the pipeline to the training data\n",
    "model_pipeline.fit(X_train, y_train)\n",
    "\n",
    "# 4. Make predictions on the test data\n",
    "probability_predictions = model_pipeline.predict_proba(X_test)[:, 1]\n",
    "print('End pipeline')"
   ]
  },
  {
   "cell_type": "code",
   "execution_count": 15,
   "metadata": {},
   "outputs": [
    {
     "name": "stdout",
     "output_type": "stream",
     "text": [
      "AUC on the test data: 0.9195\n"
     ]
    }
   ],
   "source": [
    "# Evaluate the performance by computing the AUC\n",
    "auc_score = roc_auc_score(y_test, probability_predictions)\n",
    "print('AUC on the test data: {:.4f}'.format(auc_score))"
   ]
  },
  {
   "cell_type": "code",
   "execution_count": 16,
   "metadata": {},
   "outputs": [
    {
     "data": {
      "text/plain": [
       "<sklearn.metrics._plot.roc_curve.RocCurveDisplay at 0x7f61de899c18>"
      ]
     },
     "execution_count": 16,
     "metadata": {},
     "output_type": "execute_result"
    },
    {
     "data": {
      "image/png": "[encoded data removed]",
      "text/plain": [
       "<Figure size 432x288 with 1 Axes>"
      ]
     },
     "metadata": {
      "needs_background": "light"
     },
     "output_type": "display_data"
    }
   ],
   "source": [
    "# Plot the results\n",
    "plot_roc_curve(model_pipeline, X_test, y_test)"
   ]
  },
  {
   "cell_type": "markdown",
   "metadata": {},
   "source": [
    "### Create Parameter Grid with Hyperparameters to Tune"
   ]
  },
  {
   "cell_type": "code",
   "execution_count": 17,
   "metadata": {},
   "outputs": [
    {
     "data": {
      "text/plain": [
       "{'model__C': [0.1, 1, 10],\n",
       " 'model__max_iter': [100, 200, 300, 500, 1000],\n",
       " 'vectorizer__min_df': [1, 5, 10, 50, 100, 1000],\n",
       " 'vectorizer__ngram_range': [(1, 1), (1, 2)]}"
      ]
     },
     "execution_count": 17,
     "metadata": {},
     "output_type": "execute_result"
    }
   ],
   "source": [
    "param_grid = {\"model__C\": [0.1, 1, 10],\n",
    "              \"model__max_iter\": [100, 200, 300, 500, 1000],\n",
    "              \"vectorizer__ngram_range\": [(1, 1), (1, 2)],\n",
    "              \"vectorizer__min_df\": [1, 5, 10, 50, 100, 1000]\n",
    "              }\n",
    "\n",
    "param_grid"
   ]
  },
  {
   "cell_type": "markdown",
   "metadata": {},
   "source": [
    "### Run GridSearchCV to Find the Best Hyperparameter Values"
   ]
  },
  {
   "cell_type": "code",
   "execution_count": 18,
   "metadata": {},
   "outputs": [
    {
     "name": "stdout",
     "output_type": "stream",
     "text": [
      "Running Grid Search...\n",
      "Fitting 3 folds for each of 180 candidates, totalling 540 fits\n",
      "[CV] model__C=0.1, model__max_iter=100, vectorizer__min_df=1, vectorizer__ngram_range=(1, 1) \n"
     ]
    },
    {
     "name": "stderr",
     "output_type": "stream",
     "text": [
      "[Parallel(n_jobs=1)]: Using backend SequentialBackend with 1 concurrent workers.\n"
     ]
    },
    {
     "name": "stdout",
     "output_type": "stream",
     "text": [
      "[CV]  model__C=0.1, model__max_iter=100, vectorizer__min_df=1, vectorizer__ngram_range=(1, 1), total=   0.4s\n",
      "[CV] model__C=0.1, model__max_iter=100, vectorizer__min_df=1, vectorizer__ngram_range=(1, 1) \n"
     ]
    },
    {
     "name": "stderr",
     "output_type": "stream",
     "text": [
      "[Parallel(n_jobs=1)]: Done   1 out of   1 | elapsed:    0.5s remaining:    0.0s\n"
     ]
    },
    {
     "name": "stdout",
     "output_type": "stream",
     "text": [
      "[CV]  model__C=0.1, model__max_iter=100, vectorizer__min_df=1, vectorizer__ngram_range=(1, 1), total=   0.6s\n",
      "[CV] model__C=0.1, model__max_iter=100, vectorizer__min_df=1, vectorizer__ngram_range=(1, 1) \n",
      "[CV]  model__C=0.1, model__max_iter=100, vectorizer__min_df=1, vectorizer__ngram_range=(1, 1), total=   0.4s\n",
      "[CV] model__C=0.1, model__max_iter=100, vectorizer__min_df=1, vectorizer__ngram_range=(1, 2) \n",
      "[CV]  model__C=0.1, model__max_iter=100, vectorizer__min_df=1, vectorizer__ngram_range=(1, 2), total=   1.6s\n",
      "[CV] model__C=0.1, model__max_iter=100, vectorizer__min_df=1, vectorizer__ngram_range=(1, 2) \n",
      "[CV]  model__C=0.1, model__max_iter=100, vectorizer__min_df=1, vectorizer__ngram_range=(1, 2), total=   1.6s\n",
      "[CV] model__C=0.1, model__max_iter=100, vectorizer__min_df=1, vectorizer__ngram_range=(1, 2) \n",
      "[CV]  model__C=0.1, model__max_iter=100, vectorizer__min_df=1, vectorizer__ngram_range=(1, 2), total=   1.7s\n",
      "[CV] model__C=0.1, model__max_iter=100, vectorizer__min_df=5, vectorizer__ngram_range=(1, 1) \n",
      "[CV]  model__C=0.1, model__max_iter=100, vectorizer__min_df=5, vectorizer__ngram_range=(1, 1), total=   0.3s\n",
      "[CV] model__C=0.1, model__max_iter=100, vectorizer__min_df=5, vectorizer__ngram_range=(1, 1) \n",
      "[CV]  model__C=0.1, model__max_iter=100, vectorizer__min_df=5, vectorizer__ngram_range=(1, 1), total=   0.4s\n",
      "[CV] model__C=0.1, model__max_iter=100, vectorizer__min_df=5, vectorizer__ngram_range=(1, 1) \n",
      "[CV]  model__C=0.1, model__max_iter=100, vectorizer__min_df=5, vectorizer__ngram_range=(1, 1), total=   0.3s\n",
      "[CV] model__C=0.1, model__max_iter=100, vectorizer__min_df=5, vectorizer__ngram_range=(1, 2) \n",
      "[CV]  model__C=0.1, model__max_iter=100, vectorizer__min_df=5, vectorizer__ngram_range=(1, 2), total=   1.0s\n",
      "[CV] model__C=0.1, model__max_iter=100, vectorizer__min_df=5, vectorizer__ngram_range=(1, 2) \n",
      "[CV]  model__C=0.1, model__max_iter=100, vectorizer__min_df=5, vectorizer__ngram_range=(1, 2), total=   1.0s\n",
      "[CV] model__C=0.1, model__max_iter=100, vectorizer__min_df=5, vectorizer__ngram_range=(1, 2) \n",
      "[CV]  model__C=0.1, model__max_iter=100, vectorizer__min_df=5, vectorizer__ngram_range=(1, 2), total=   1.0s\n",
      "[CV] model__C=0.1, model__max_iter=100, vectorizer__min_df=10, vectorizer__ngram_range=(1, 1) \n",
      "[CV]  model__C=0.1, model__max_iter=100, vectorizer__min_df=10, vectorizer__ngram_range=(1, 1), total=   0.3s\n",
      "[CV] model__C=0.1, model__max_iter=100, vectorizer__min_df=10, vectorizer__ngram_range=(1, 1) \n",
      "[CV]  model__C=0.1, model__max_iter=100, vectorizer__min_df=10, vectorizer__ngram_range=(1, 1), total=   0.3s\n",
      "[CV] model__C=0.1, model__max_iter=100, vectorizer__min_df=10, vectorizer__ngram_range=(1, 1) \n",
      "[CV]  model__C=0.1, model__max_iter=100, vectorizer__min_df=10, vectorizer__ngram_range=(1, 1), total=   0.3s\n",
      "[CV] model__C=0.1, model__max_iter=100, vectorizer__min_df=10, vectorizer__ngram_range=(1, 2) \n",
      "[CV]  model__C=0.1, model__max_iter=100, vectorizer__min_df=10, vectorizer__ngram_range=(1, 2), total=   1.0s\n",
      "[CV] model__C=0.1, model__max_iter=100, vectorizer__min_df=10, vectorizer__ngram_range=(1, 2) \n",
      "[CV]  model__C=0.1, model__max_iter=100, vectorizer__min_df=10, vectorizer__ngram_range=(1, 2), total=   1.0s\n",
      "[CV] model__C=0.1, model__max_iter=100, vectorizer__min_df=10, vectorizer__ngram_range=(1, 2) \n",
      "[CV]  model__C=0.1, model__max_iter=100, vectorizer__min_df=10, vectorizer__ngram_range=(1, 2), total=   1.1s\n",
      "[CV] model__C=0.1, model__max_iter=100, vectorizer__min_df=50, vectorizer__ngram_range=(1, 1) \n",
      "[CV]  model__C=0.1, model__max_iter=100, vectorizer__min_df=50, vectorizer__ngram_range=(1, 1), total=   0.3s\n",
      "[CV] model__C=0.1, model__max_iter=100, vectorizer__min_df=50, vectorizer__ngram_range=(1, 1) \n",
      "[CV]  model__C=0.1, model__max_iter=100, vectorizer__min_df=50, vectorizer__ngram_range=(1, 1), total=   0.3s\n",
      "[CV] model__C=0.1, model__max_iter=100, vectorizer__min_df=50, vectorizer__ngram_range=(1, 1) \n",
      "[CV]  model__C=0.1, model__max_iter=100, vectorizer__min_df=50, vectorizer__ngram_range=(1, 1), total=   0.3s\n",
      "[CV] model__C=0.1, model__max_iter=100, vectorizer__min_df=50, vectorizer__ngram_range=(1, 2) \n",
      "[CV]  model__C=0.1, model__max_iter=100, vectorizer__min_df=50, vectorizer__ngram_range=(1, 2), total=   0.8s\n",
      "[CV] model__C=0.1, model__max_iter=100, vectorizer__min_df=50, vectorizer__ngram_range=(1, 2) \n",
      "[CV]  model__C=0.1, model__max_iter=100, vectorizer__min_df=50, vectorizer__ngram_range=(1, 2), total=   0.9s\n",
      "[CV] model__C=0.1, model__max_iter=100, vectorizer__min_df=50, vectorizer__ngram_range=(1, 2) \n",
      "[CV]  model__C=0.1, model__max_iter=100, vectorizer__min_df=50, vectorizer__ngram_range=(1, 2), total=   1.1s\n",
      "[CV] model__C=0.1, model__max_iter=100, vectorizer__min_df=100, vectorizer__ngram_range=(1, 1) \n",
      "[CV]  model__C=0.1, model__max_iter=100, vectorizer__min_df=100, vectorizer__ngram_range=(1, 1), total=   0.4s\n",
      "[CV] model__C=0.1, model__max_iter=100, vectorizer__min_df=100, vectorizer__ngram_range=(1, 1) \n",
      "[CV]  model__C=0.1, model__max_iter=100, vectorizer__min_df=100, vectorizer__ngram_range=(1, 1), total=   0.4s\n",
      "[CV] model__C=0.1, model__max_iter=100, vectorizer__min_df=100, vectorizer__ngram_range=(1, 1) \n",
      "[CV]  model__C=0.1, model__max_iter=100, vectorizer__min_df=100, vectorizer__ngram_range=(1, 1), total=   0.3s\n",
      "[CV] model__C=0.1, model__max_iter=100, vectorizer__min_df=100, vectorizer__ngram_range=(1, 2) \n",
      "[CV]  model__C=0.1, model__max_iter=100, vectorizer__min_df=100, vectorizer__ngram_range=(1, 2), total=   0.9s\n",
      "[CV] model__C=0.1, model__max_iter=100, vectorizer__min_df=100, vectorizer__ngram_range=(1, 2) \n",
      "[CV]  model__C=0.1, model__max_iter=100, vectorizer__min_df=100, vectorizer__ngram_range=(1, 2), total=   0.9s\n",
      "[CV] model__C=0.1, model__max_iter=100, vectorizer__min_df=100, vectorizer__ngram_range=(1, 2) \n",
      "[CV]  model__C=0.1, model__max_iter=100, vectorizer__min_df=100, vectorizer__ngram_range=(1, 2), total=   0.8s\n",
      "[CV] model__C=0.1, model__max_iter=100, vectorizer__min_df=1000, vectorizer__ngram_range=(1, 1) \n",
      "[CV]  model__C=0.1, model__max_iter=100, vectorizer__min_df=1000, vectorizer__ngram_range=(1, 1), total=   0.2s\n",
      "[CV] model__C=0.1, model__max_iter=100, vectorizer__min_df=1000, vectorizer__ngram_range=(1, 1) \n"
     ]
    },
    {
     "name": "stderr",
     "output_type": "stream",
     "text": [
      "/usr/local/lib/python3.6/dist-packages/sklearn/model_selection/_validation.py:536: FitFailedWarning: Estimator fit failed. The score on this train-test partition for these parameters will be set to nan. Details: \n",
      "ValueError: max_df corresponds to < documents than min_df\n",
      "\n",
      "  FitFailedWarning)\n"
     ]
    },
    {
     "name": "stdout",
     "output_type": "stream",
     "text": [
      "[CV]  model__C=0.1, model__max_iter=100, vectorizer__min_df=1000, vectorizer__ngram_range=(1, 1), total=   0.2s\n",
      "[CV] model__C=0.1, model__max_iter=100, vectorizer__min_df=1000, vectorizer__ngram_range=(1, 1) \n",
      "[CV]  model__C=0.1, model__max_iter=100, vectorizer__min_df=1000, vectorizer__ngram_range=(1, 1), total=   0.2s\n",
      "[CV] model__C=0.1, model__max_iter=100, vectorizer__min_df=1000, vectorizer__ngram_range=(1, 2) \n",
      "[CV]  model__C=0.1, model__max_iter=100, vectorizer__min_df=1000, vectorizer__ngram_range=(1, 2), total=   0.5s\n",
      "[CV] model__C=0.1, model__max_iter=100, vectorizer__min_df=1000, vectorizer__ngram_range=(1, 2) \n",
      "[CV]  model__C=0.1, model__max_iter=100, vectorizer__min_df=1000, vectorizer__ngram_range=(1, 2), total=   0.6s\n",
      "[CV] model__C=0.1, model__max_iter=100, vectorizer__min_df=1000, vectorizer__ngram_range=(1, 2) \n",
      "[CV]  model__C=0.1, model__max_iter=100, vectorizer__min_df=1000, vectorizer__ngram_range=(1, 2), total=   0.6s\n",
      "[CV] model__C=0.1, model__max_iter=200, vectorizer__min_df=1, vectorizer__ngram_range=(1, 1) \n",
      "[CV]  model__C=0.1, model__max_iter=200, vectorizer__min_df=1, vectorizer__ngram_range=(1, 1), total=   0.4s\n",
      "[CV] model__C=0.1, model__max_iter=200, vectorizer__min_df=1, vectorizer__ngram_range=(1, 1) \n",
      "[CV]  model__C=0.1, model__max_iter=200, vectorizer__min_df=1, vectorizer__ngram_range=(1, 1), total=   0.5s\n",
      "[CV] model__C=0.1, model__max_iter=200, vectorizer__min_df=1, vectorizer__ngram_range=(1, 1) \n",
      "[CV]  model__C=0.1, model__max_iter=200, vectorizer__min_df=1, vectorizer__ngram_range=(1, 1), total=   0.6s\n",
      "[CV] model__C=0.1, model__max_iter=200, vectorizer__min_df=1, vectorizer__ngram_range=(1, 2) \n",
      "[CV]  model__C=0.1, model__max_iter=200, vectorizer__min_df=1, vectorizer__ngram_range=(1, 2), total=   1.4s\n",
      "[CV] model__C=0.1, model__max_iter=200, vectorizer__min_df=1, vectorizer__ngram_range=(1, 2) \n",
      "[CV]  model__C=0.1, model__max_iter=200, vectorizer__min_df=1, vectorizer__ngram_range=(1, 2), total=   1.4s\n",
      "[CV] model__C=0.1, model__max_iter=200, vectorizer__min_df=1, vectorizer__ngram_range=(1, 2) \n",
      "[CV]  model__C=0.1, model__max_iter=200, vectorizer__min_df=1, vectorizer__ngram_range=(1, 2), total=   1.2s\n",
      "[CV] model__C=0.1, model__max_iter=200, vectorizer__min_df=5, vectorizer__ngram_range=(1, 1) \n",
      "[CV]  model__C=0.1, model__max_iter=200, vectorizer__min_df=5, vectorizer__ngram_range=(1, 1), total=   0.3s\n",
      "[CV] model__C=0.1, model__max_iter=200, vectorizer__min_df=5, vectorizer__ngram_range=(1, 1) \n",
      "[CV]  model__C=0.1, model__max_iter=200, vectorizer__min_df=5, vectorizer__ngram_range=(1, 1), total=   0.3s\n",
      "[CV] model__C=0.1, model__max_iter=200, vectorizer__min_df=5, vectorizer__ngram_range=(1, 1) \n",
      "[CV]  model__C=0.1, model__max_iter=200, vectorizer__min_df=5, vectorizer__ngram_range=(1, 1), total=   0.3s\n",
      "[CV] model__C=0.1, model__max_iter=200, vectorizer__min_df=5, vectorizer__ngram_range=(1, 2) \n",
      "[CV]  model__C=0.1, model__max_iter=200, vectorizer__min_df=5, vectorizer__ngram_range=(1, 2), total=   0.8s\n",
      "[CV] model__C=0.1, model__max_iter=200, vectorizer__min_df=5, vectorizer__ngram_range=(1, 2) \n",
      "[CV]  model__C=0.1, model__max_iter=200, vectorizer__min_df=5, vectorizer__ngram_range=(1, 2), total=   0.8s\n",
      "[CV] model__C=0.1, model__max_iter=200, vectorizer__min_df=5, vectorizer__ngram_range=(1, 2) \n",
      "[CV]  model__C=0.1, model__max_iter=200, vectorizer__min_df=5, vectorizer__ngram_range=(1, 2), total=   0.9s\n",
      "[CV] model__C=0.1, model__max_iter=200, vectorizer__min_df=10, vectorizer__ngram_range=(1, 1) \n",
      "[CV]  model__C=0.1, model__max_iter=200, vectorizer__min_df=10, vectorizer__ngram_range=(1, 1), total=   0.3s\n",
      "[CV] model__C=0.1, model__max_iter=200, vectorizer__min_df=10, vectorizer__ngram_range=(1, 1) \n",
      "[CV]  model__C=0.1, model__max_iter=200, vectorizer__min_df=10, vectorizer__ngram_range=(1, 1), total=   0.3s\n",
      "[CV] model__C=0.1, model__max_iter=200, vectorizer__min_df=10, vectorizer__ngram_range=(1, 1) \n",
      "[CV]  model__C=0.1, model__max_iter=200, vectorizer__min_df=10, vectorizer__ngram_range=(1, 1), total=   0.3s\n",
      "[CV] model__C=0.1, model__max_iter=200, vectorizer__min_df=10, vectorizer__ngram_range=(1, 2) \n",
      "[CV]  model__C=0.1, model__max_iter=200, vectorizer__min_df=10, vectorizer__ngram_range=(1, 2), total=   0.8s\n",
      "[CV] model__C=0.1, model__max_iter=200, vectorizer__min_df=10, vectorizer__ngram_range=(1, 2) \n",
      "[CV]  model__C=0.1, model__max_iter=200, vectorizer__min_df=10, vectorizer__ngram_range=(1, 2), total=   0.9s\n",
      "[CV] model__C=0.1, model__max_iter=200, vectorizer__min_df=10, vectorizer__ngram_range=(1, 2) \n",
      "[CV]  model__C=0.1, model__max_iter=200, vectorizer__min_df=10, vectorizer__ngram_range=(1, 2), total=   0.8s\n",
      "[CV] model__C=0.1, model__max_iter=200, vectorizer__min_df=50, vectorizer__ngram_range=(1, 1) \n",
      "[CV]  model__C=0.1, model__max_iter=200, vectorizer__min_df=50, vectorizer__ngram_range=(1, 1), total=   0.3s\n",
      "[CV] model__C=0.1, model__max_iter=200, vectorizer__min_df=50, vectorizer__ngram_range=(1, 1) \n",
      "[CV]  model__C=0.1, model__max_iter=200, vectorizer__min_df=50, vectorizer__ngram_range=(1, 1), total=   0.3s\n",
      "[CV] model__C=0.1, model__max_iter=200, vectorizer__min_df=50, vectorizer__ngram_range=(1, 1) \n",
      "[CV]  model__C=0.1, model__max_iter=200, vectorizer__min_df=50, vectorizer__ngram_range=(1, 1), total=   0.3s\n",
      "[CV] model__C=0.1, model__max_iter=200, vectorizer__min_df=50, vectorizer__ngram_range=(1, 2) \n",
      "[CV]  model__C=0.1, model__max_iter=200, vectorizer__min_df=50, vectorizer__ngram_range=(1, 2), total=   0.8s\n",
      "[CV] model__C=0.1, model__max_iter=200, vectorizer__min_df=50, vectorizer__ngram_range=(1, 2) \n",
      "[CV]  model__C=0.1, model__max_iter=200, vectorizer__min_df=50, vectorizer__ngram_range=(1, 2), total=   0.8s\n",
      "[CV] model__C=0.1, model__max_iter=200, vectorizer__min_df=50, vectorizer__ngram_range=(1, 2) \n",
      "[CV]  model__C=0.1, model__max_iter=200, vectorizer__min_df=50, vectorizer__ngram_range=(1, 2), total=   0.8s\n",
      "[CV] model__C=0.1, model__max_iter=200, vectorizer__min_df=100, vectorizer__ngram_range=(1, 1) \n",
      "[CV]  model__C=0.1, model__max_iter=200, vectorizer__min_df=100, vectorizer__ngram_range=(1, 1), total=   0.3s\n",
      "[CV] model__C=0.1, model__max_iter=200, vectorizer__min_df=100, vectorizer__ngram_range=(1, 1) \n",
      "[CV]  model__C=0.1, model__max_iter=200, vectorizer__min_df=100, vectorizer__ngram_range=(1, 1), total=   0.3s\n",
      "[CV] model__C=0.1, model__max_iter=200, vectorizer__min_df=100, vectorizer__ngram_range=(1, 1) \n",
      "[CV]  model__C=0.1, model__max_iter=200, vectorizer__min_df=100, vectorizer__ngram_range=(1, 1), total=   0.2s\n",
      "[CV] model__C=0.1, model__max_iter=200, vectorizer__min_df=100, vectorizer__ngram_range=(1, 2) \n",
      "[CV]  model__C=0.1, model__max_iter=200, vectorizer__min_df=100, vectorizer__ngram_range=(1, 2), total=   0.8s\n",
      "[CV] model__C=0.1, model__max_iter=200, vectorizer__min_df=100, vectorizer__ngram_range=(1, 2) \n",
      "[CV]  model__C=0.1, model__max_iter=200, vectorizer__min_df=100, vectorizer__ngram_range=(1, 2), total=   0.8s\n",
      "[CV] model__C=0.1, model__max_iter=200, vectorizer__min_df=100, vectorizer__ngram_range=(1, 2) \n",
      "[CV]  model__C=0.1, model__max_iter=200, vectorizer__min_df=100, vectorizer__ngram_range=(1, 2), total=   0.8s\n",
      "[CV] model__C=0.1, model__max_iter=200, vectorizer__min_df=1000, vectorizer__ngram_range=(1, 1) \n",
      "[CV]  model__C=0.1, model__max_iter=200, vectorizer__min_df=1000, vectorizer__ngram_range=(1, 1), total=   0.2s\n",
      "[CV] model__C=0.1, model__max_iter=200, vectorizer__min_df=1000, vectorizer__ngram_range=(1, 1) \n"
     ]
    },
    {
     "name": "stderr",
     "output_type": "stream",
     "text": [
      "/usr/local/lib/python3.6/dist-packages/sklearn/model_selection/_validation.py:536: FitFailedWarning: Estimator fit failed. The score on this train-test partition for these parameters will be set to nan. Details: \n",
      "ValueError: max_df corresponds to < documents than min_df\n",
      "\n",
      "  FitFailedWarning)\n"
     ]
    },
    {
     "name": "stdout",
     "output_type": "stream",
     "text": [
      "[CV]  model__C=0.1, model__max_iter=200, vectorizer__min_df=1000, vectorizer__ngram_range=(1, 1), total=   0.2s\n",
      "[CV] model__C=0.1, model__max_iter=200, vectorizer__min_df=1000, vectorizer__ngram_range=(1, 1) \n",
      "[CV]  model__C=0.1, model__max_iter=200, vectorizer__min_df=1000, vectorizer__ngram_range=(1, 1), total=   0.2s\n",
      "[CV] model__C=0.1, model__max_iter=200, vectorizer__min_df=1000, vectorizer__ngram_range=(1, 2) \n",
      "[CV]  model__C=0.1, model__max_iter=200, vectorizer__min_df=1000, vectorizer__ngram_range=(1, 2), total=   0.6s\n",
      "[CV] model__C=0.1, model__max_iter=200, vectorizer__min_df=1000, vectorizer__ngram_range=(1, 2) \n",
      "[CV]  model__C=0.1, model__max_iter=200, vectorizer__min_df=1000, vectorizer__ngram_range=(1, 2), total=   0.6s\n",
      "[CV] model__C=0.1, model__max_iter=200, vectorizer__min_df=1000, vectorizer__ngram_range=(1, 2) \n",
      "[CV]  model__C=0.1, model__max_iter=200, vectorizer__min_df=1000, vectorizer__ngram_range=(1, 2), total=   0.6s\n",
      "[CV] model__C=0.1, model__max_iter=300, vectorizer__min_df=1, vectorizer__ngram_range=(1, 1) \n",
      "[CV]  model__C=0.1, model__max_iter=300, vectorizer__min_df=1, vectorizer__ngram_range=(1, 1), total=   0.4s\n",
      "[CV] model__C=0.1, model__max_iter=300, vectorizer__min_df=1, vectorizer__ngram_range=(1, 1) \n",
      "[CV]  model__C=0.1, model__max_iter=300, vectorizer__min_df=1, vectorizer__ngram_range=(1, 1), total=   0.4s\n",
      "[CV] model__C=0.1, model__max_iter=300, vectorizer__min_df=1, vectorizer__ngram_range=(1, 1) \n",
      "[CV]  model__C=0.1, model__max_iter=300, vectorizer__min_df=1, vectorizer__ngram_range=(1, 1), total=   0.5s\n",
      "[CV] model__C=0.1, model__max_iter=300, vectorizer__min_df=1, vectorizer__ngram_range=(1, 2) \n",
      "[CV]  model__C=0.1, model__max_iter=300, vectorizer__min_df=1, vectorizer__ngram_range=(1, 2), total=   1.2s\n",
      "[CV] model__C=0.1, model__max_iter=300, vectorizer__min_df=1, vectorizer__ngram_range=(1, 2) \n",
      "[CV]  model__C=0.1, model__max_iter=300, vectorizer__min_df=1, vectorizer__ngram_range=(1, 2), total=   1.3s\n",
      "[CV] model__C=0.1, model__max_iter=300, vectorizer__min_df=1, vectorizer__ngram_range=(1, 2) \n",
      "[CV]  model__C=0.1, model__max_iter=300, vectorizer__min_df=1, vectorizer__ngram_range=(1, 2), total=   1.3s\n",
      "[CV] model__C=0.1, model__max_iter=300, vectorizer__min_df=5, vectorizer__ngram_range=(1, 1) \n",
      "[CV]  model__C=0.1, model__max_iter=300, vectorizer__min_df=5, vectorizer__ngram_range=(1, 1), total=   0.3s\n",
      "[CV] model__C=0.1, model__max_iter=300, vectorizer__min_df=5, vectorizer__ngram_range=(1, 1) \n",
      "[CV]  model__C=0.1, model__max_iter=300, vectorizer__min_df=5, vectorizer__ngram_range=(1, 1), total=   0.3s\n",
      "[CV] model__C=0.1, model__max_iter=300, vectorizer__min_df=5, vectorizer__ngram_range=(1, 1) \n",
      "[CV]  model__C=0.1, model__max_iter=300, vectorizer__min_df=5, vectorizer__ngram_range=(1, 1), total=   0.3s\n",
      "[CV] model__C=0.1, model__max_iter=300, vectorizer__min_df=5, vectorizer__ngram_range=(1, 2) \n",
      "[CV]  model__C=0.1, model__max_iter=300, vectorizer__min_df=5, vectorizer__ngram_range=(1, 2), total=   0.9s\n",
      "[CV] model__C=0.1, model__max_iter=300, vectorizer__min_df=5, vectorizer__ngram_range=(1, 2) \n",
      "[CV]  model__C=0.1, model__max_iter=300, vectorizer__min_df=5, vectorizer__ngram_range=(1, 2), total=   0.9s\n",
      "[CV] model__C=0.1, model__max_iter=300, vectorizer__min_df=5, vectorizer__ngram_range=(1, 2) \n",
      "[CV]  model__C=0.1, model__max_iter=300, vectorizer__min_df=5, vectorizer__ngram_range=(1, 2), total=   0.8s\n",
      "[CV] model__C=0.1, model__max_iter=300, vectorizer__min_df=10, vectorizer__ngram_range=(1, 1) \n",
      "[CV]  model__C=0.1, model__max_iter=300, vectorizer__min_df=10, vectorizer__ngram_range=(1, 1), total=   0.3s\n",
      "[CV] model__C=0.1, model__max_iter=300, vectorizer__min_df=10, vectorizer__ngram_range=(1, 1) \n",
      "[CV]  model__C=0.1, model__max_iter=300, vectorizer__min_df=10, vectorizer__ngram_range=(1, 1), total=   0.3s\n",
      "[CV] model__C=0.1, model__max_iter=300, vectorizer__min_df=10, vectorizer__ngram_range=(1, 1) \n",
      "[CV]  model__C=0.1, model__max_iter=300, vectorizer__min_df=10, vectorizer__ngram_range=(1, 1), total=   0.3s\n",
      "[CV] model__C=0.1, model__max_iter=300, vectorizer__min_df=10, vectorizer__ngram_range=(1, 2) \n",
      "[CV]  model__C=0.1, model__max_iter=300, vectorizer__min_df=10, vectorizer__ngram_range=(1, 2), total=   0.8s\n",
      "[CV] model__C=0.1, model__max_iter=300, vectorizer__min_df=10, vectorizer__ngram_range=(1, 2) \n",
      "[CV]  model__C=0.1, model__max_iter=300, vectorizer__min_df=10, vectorizer__ngram_range=(1, 2), total=   0.8s\n",
      "[CV] model__C=0.1, model__max_iter=300, vectorizer__min_df=10, vectorizer__ngram_range=(1, 2) \n",
      "[CV]  model__C=0.1, model__max_iter=300, vectorizer__min_df=10, vectorizer__ngram_range=(1, 2), total=   0.8s\n",
      "[CV] model__C=0.1, model__max_iter=300, vectorizer__min_df=50, vectorizer__ngram_range=(1, 1) \n",
      "[CV]  model__C=0.1, model__max_iter=300, vectorizer__min_df=50, vectorizer__ngram_range=(1, 1), total=   0.2s\n",
      "[CV] model__C=0.1, model__max_iter=300, vectorizer__min_df=50, vectorizer__ngram_range=(1, 1) \n",
      "[CV]  model__C=0.1, model__max_iter=300, vectorizer__min_df=50, vectorizer__ngram_range=(1, 1), total=   0.3s\n",
      "[CV] model__C=0.1, model__max_iter=300, vectorizer__min_df=50, vectorizer__ngram_range=(1, 1) \n",
      "[CV]  model__C=0.1, model__max_iter=300, vectorizer__min_df=50, vectorizer__ngram_range=(1, 1), total=   0.2s\n",
      "[CV] model__C=0.1, model__max_iter=300, vectorizer__min_df=50, vectorizer__ngram_range=(1, 2) \n",
      "[CV]  model__C=0.1, model__max_iter=300, vectorizer__min_df=50, vectorizer__ngram_range=(1, 2), total=   0.8s\n",
      "[CV] model__C=0.1, model__max_iter=300, vectorizer__min_df=50, vectorizer__ngram_range=(1, 2) \n",
      "[CV]  model__C=0.1, model__max_iter=300, vectorizer__min_df=50, vectorizer__ngram_range=(1, 2), total=   0.8s\n",
      "[CV] model__C=0.1, model__max_iter=300, vectorizer__min_df=50, vectorizer__ngram_range=(1, 2) \n",
      "[CV]  model__C=0.1, model__max_iter=300, vectorizer__min_df=50, vectorizer__ngram_range=(1, 2), total=   0.8s\n",
      "[CV] model__C=0.1, model__max_iter=300, vectorizer__min_df=100, vectorizer__ngram_range=(1, 1) \n",
      "[CV]  model__C=0.1, model__max_iter=300, vectorizer__min_df=100, vectorizer__ngram_range=(1, 1), total=   0.2s\n",
      "[CV] model__C=0.1, model__max_iter=300, vectorizer__min_df=100, vectorizer__ngram_range=(1, 1) \n",
      "[CV]  model__C=0.1, model__max_iter=300, vectorizer__min_df=100, vectorizer__ngram_range=(1, 1), total=   0.2s\n",
      "[CV] model__C=0.1, model__max_iter=300, vectorizer__min_df=100, vectorizer__ngram_range=(1, 1) \n",
      "[CV]  model__C=0.1, model__max_iter=300, vectorizer__min_df=100, vectorizer__ngram_range=(1, 1), total=   0.2s\n",
      "[CV] model__C=0.1, model__max_iter=300, vectorizer__min_df=100, vectorizer__ngram_range=(1, 2) \n",
      "[CV]  model__C=0.1, model__max_iter=300, vectorizer__min_df=100, vectorizer__ngram_range=(1, 2), total=   0.7s\n",
      "[CV] model__C=0.1, model__max_iter=300, vectorizer__min_df=100, vectorizer__ngram_range=(1, 2) \n",
      "[CV]  model__C=0.1, model__max_iter=300, vectorizer__min_df=100, vectorizer__ngram_range=(1, 2), total=   0.8s\n",
      "[CV] model__C=0.1, model__max_iter=300, vectorizer__min_df=100, vectorizer__ngram_range=(1, 2) \n",
      "[CV]  model__C=0.1, model__max_iter=300, vectorizer__min_df=100, vectorizer__ngram_range=(1, 2), total=   0.8s\n",
      "[CV] model__C=0.1, model__max_iter=300, vectorizer__min_df=1000, vectorizer__ngram_range=(1, 1) \n",
      "[CV]  model__C=0.1, model__max_iter=300, vectorizer__min_df=1000, vectorizer__ngram_range=(1, 1), total=   0.2s\n",
      "[CV] model__C=0.1, model__max_iter=300, vectorizer__min_df=1000, vectorizer__ngram_range=(1, 1) \n"
     ]
    },
    {
     "name": "stderr",
     "output_type": "stream",
     "text": [
      "/usr/local/lib/python3.6/dist-packages/sklearn/model_selection/_validation.py:536: FitFailedWarning: Estimator fit failed. The score on this train-test partition for these parameters will be set to nan. Details: \n",
      "ValueError: max_df corresponds to < documents than min_df\n",
      "\n",
      "  FitFailedWarning)\n"
     ]
    },
    {
     "name": "stdout",
     "output_type": "stream",
     "text": [
      "[CV]  model__C=0.1, model__max_iter=300, vectorizer__min_df=1000, vectorizer__ngram_range=(1, 1), total=   0.2s\n",
      "[CV] model__C=0.1, model__max_iter=300, vectorizer__min_df=1000, vectorizer__ngram_range=(1, 1) \n",
      "[CV]  model__C=0.1, model__max_iter=300, vectorizer__min_df=1000, vectorizer__ngram_range=(1, 1), total=   0.2s\n",
      "[CV] model__C=0.1, model__max_iter=300, vectorizer__min_df=1000, vectorizer__ngram_range=(1, 2) \n",
      "[CV]  model__C=0.1, model__max_iter=300, vectorizer__min_df=1000, vectorizer__ngram_range=(1, 2), total=   0.6s\n",
      "[CV] model__C=0.1, model__max_iter=300, vectorizer__min_df=1000, vectorizer__ngram_range=(1, 2) \n",
      "[CV]  model__C=0.1, model__max_iter=300, vectorizer__min_df=1000, vectorizer__ngram_range=(1, 2), total=   0.6s\n",
      "[CV] model__C=0.1, model__max_iter=300, vectorizer__min_df=1000, vectorizer__ngram_range=(1, 2) \n",
      "[CV]  model__C=0.1, model__max_iter=300, vectorizer__min_df=1000, vectorizer__ngram_range=(1, 2), total=   0.5s\n",
      "[CV] model__C=0.1, model__max_iter=500, vectorizer__min_df=1, vectorizer__ngram_range=(1, 1) \n",
      "[CV]  model__C=0.1, model__max_iter=500, vectorizer__min_df=1, vectorizer__ngram_range=(1, 1), total=   0.3s\n",
      "[CV] model__C=0.1, model__max_iter=500, vectorizer__min_df=1, vectorizer__ngram_range=(1, 1) \n",
      "[CV]  model__C=0.1, model__max_iter=500, vectorizer__min_df=1, vectorizer__ngram_range=(1, 1), total=   0.4s\n",
      "[CV] model__C=0.1, model__max_iter=500, vectorizer__min_df=1, vectorizer__ngram_range=(1, 1) \n",
      "[CV]  model__C=0.1, model__max_iter=500, vectorizer__min_df=1, vectorizer__ngram_range=(1, 1), total=   0.5s\n",
      "[CV] model__C=0.1, model__max_iter=500, vectorizer__min_df=1, vectorizer__ngram_range=(1, 2) \n",
      "[CV]  model__C=0.1, model__max_iter=500, vectorizer__min_df=1, vectorizer__ngram_range=(1, 2), total=   1.1s\n",
      "[CV] model__C=0.1, model__max_iter=500, vectorizer__min_df=1, vectorizer__ngram_range=(1, 2) \n",
      "[CV]  model__C=0.1, model__max_iter=500, vectorizer__min_df=1, vectorizer__ngram_range=(1, 2), total=   1.4s\n",
      "[CV] model__C=0.1, model__max_iter=500, vectorizer__min_df=1, vectorizer__ngram_range=(1, 2) \n",
      "[CV]  model__C=0.1, model__max_iter=500, vectorizer__min_df=1, vectorizer__ngram_range=(1, 2), total=   1.2s\n",
      "[CV] model__C=0.1, model__max_iter=500, vectorizer__min_df=5, vectorizer__ngram_range=(1, 1) \n",
      "[CV]  model__C=0.1, model__max_iter=500, vectorizer__min_df=5, vectorizer__ngram_range=(1, 1), total=   0.3s\n",
      "[CV] model__C=0.1, model__max_iter=500, vectorizer__min_df=5, vectorizer__ngram_range=(1, 1) \n",
      "[CV]  model__C=0.1, model__max_iter=500, vectorizer__min_df=5, vectorizer__ngram_range=(1, 1), total=   0.3s\n",
      "[CV] model__C=0.1, model__max_iter=500, vectorizer__min_df=5, vectorizer__ngram_range=(1, 1) \n",
      "[CV]  model__C=0.1, model__max_iter=500, vectorizer__min_df=5, vectorizer__ngram_range=(1, 1), total=   0.3s\n",
      "[CV] model__C=0.1, model__max_iter=500, vectorizer__min_df=5, vectorizer__ngram_range=(1, 2) \n",
      "[CV]  model__C=0.1, model__max_iter=500, vectorizer__min_df=5, vectorizer__ngram_range=(1, 2), total=   0.8s\n",
      "[CV] model__C=0.1, model__max_iter=500, vectorizer__min_df=5, vectorizer__ngram_range=(1, 2) \n",
      "[CV]  model__C=0.1, model__max_iter=500, vectorizer__min_df=5, vectorizer__ngram_range=(1, 2), total=   0.8s\n",
      "[CV] model__C=0.1, model__max_iter=500, vectorizer__min_df=5, vectorizer__ngram_range=(1, 2) \n",
      "[CV]  model__C=0.1, model__max_iter=500, vectorizer__min_df=5, vectorizer__ngram_range=(1, 2), total=   0.8s\n",
      "[CV] model__C=0.1, model__max_iter=500, vectorizer__min_df=10, vectorizer__ngram_range=(1, 1) \n",
      "[CV]  model__C=0.1, model__max_iter=500, vectorizer__min_df=10, vectorizer__ngram_range=(1, 1), total=   0.3s\n",
      "[CV] model__C=0.1, model__max_iter=500, vectorizer__min_df=10, vectorizer__ngram_range=(1, 1) \n",
      "[CV]  model__C=0.1, model__max_iter=500, vectorizer__min_df=10, vectorizer__ngram_range=(1, 1), total=   0.3s\n",
      "[CV] model__C=0.1, model__max_iter=500, vectorizer__min_df=10, vectorizer__ngram_range=(1, 1) \n",
      "[CV]  model__C=0.1, model__max_iter=500, vectorizer__min_df=10, vectorizer__ngram_range=(1, 1), total=   0.3s\n",
      "[CV] model__C=0.1, model__max_iter=500, vectorizer__min_df=10, vectorizer__ngram_range=(1, 2) \n",
      "[CV]  model__C=0.1, model__max_iter=500, vectorizer__min_df=10, vectorizer__ngram_range=(1, 2), total=   0.8s\n",
      "[CV] model__C=0.1, model__max_iter=500, vectorizer__min_df=10, vectorizer__ngram_range=(1, 2) \n",
      "[CV]  model__C=0.1, model__max_iter=500, vectorizer__min_df=10, vectorizer__ngram_range=(1, 2), total=   0.8s\n",
      "[CV] model__C=0.1, model__max_iter=500, vectorizer__min_df=10, vectorizer__ngram_range=(1, 2) \n",
      "[CV]  model__C=0.1, model__max_iter=500, vectorizer__min_df=10, vectorizer__ngram_range=(1, 2), total=   0.8s\n",
      "[CV] model__C=0.1, model__max_iter=500, vectorizer__min_df=50, vectorizer__ngram_range=(1, 1) \n",
      "[CV]  model__C=0.1, model__max_iter=500, vectorizer__min_df=50, vectorizer__ngram_range=(1, 1), total=   0.3s\n",
      "[CV] model__C=0.1, model__max_iter=500, vectorizer__min_df=50, vectorizer__ngram_range=(1, 1) \n",
      "[CV]  model__C=0.1, model__max_iter=500, vectorizer__min_df=50, vectorizer__ngram_range=(1, 1), total=   0.3s\n",
      "[CV] model__C=0.1, model__max_iter=500, vectorizer__min_df=50, vectorizer__ngram_range=(1, 1) \n",
      "[CV]  model__C=0.1, model__max_iter=500, vectorizer__min_df=50, vectorizer__ngram_range=(1, 1), total=   0.2s\n",
      "[CV] model__C=0.1, model__max_iter=500, vectorizer__min_df=50, vectorizer__ngram_range=(1, 2) \n",
      "[CV]  model__C=0.1, model__max_iter=500, vectorizer__min_df=50, vectorizer__ngram_range=(1, 2), total=   0.7s\n",
      "[CV] model__C=0.1, model__max_iter=500, vectorizer__min_df=50, vectorizer__ngram_range=(1, 2) \n",
      "[CV]  model__C=0.1, model__max_iter=500, vectorizer__min_df=50, vectorizer__ngram_range=(1, 2), total=   0.8s\n",
      "[CV] model__C=0.1, model__max_iter=500, vectorizer__min_df=50, vectorizer__ngram_range=(1, 2) \n",
      "[CV]  model__C=0.1, model__max_iter=500, vectorizer__min_df=50, vectorizer__ngram_range=(1, 2), total=   0.8s\n",
      "[CV] model__C=0.1, model__max_iter=500, vectorizer__min_df=100, vectorizer__ngram_range=(1, 1) \n",
      "[CV]  model__C=0.1, model__max_iter=500, vectorizer__min_df=100, vectorizer__ngram_range=(1, 1), total=   0.2s\n",
      "[CV] model__C=0.1, model__max_iter=500, vectorizer__min_df=100, vectorizer__ngram_range=(1, 1) \n",
      "[CV]  model__C=0.1, model__max_iter=500, vectorizer__min_df=100, vectorizer__ngram_range=(1, 1), total=   0.2s\n",
      "[CV] model__C=0.1, model__max_iter=500, vectorizer__min_df=100, vectorizer__ngram_range=(1, 1) \n",
      "[CV]  model__C=0.1, model__max_iter=500, vectorizer__min_df=100, vectorizer__ngram_range=(1, 1), total=   0.2s\n",
      "[CV] model__C=0.1, model__max_iter=500, vectorizer__min_df=100, vectorizer__ngram_range=(1, 2) \n",
      "[CV]  model__C=0.1, model__max_iter=500, vectorizer__min_df=100, vectorizer__ngram_range=(1, 2), total=   0.7s\n",
      "[CV] model__C=0.1, model__max_iter=500, vectorizer__min_df=100, vectorizer__ngram_range=(1, 2) \n",
      "[CV]  model__C=0.1, model__max_iter=500, vectorizer__min_df=100, vectorizer__ngram_range=(1, 2), total=   0.8s\n",
      "[CV] model__C=0.1, model__max_iter=500, vectorizer__min_df=100, vectorizer__ngram_range=(1, 2) \n",
      "[CV]  model__C=0.1, model__max_iter=500, vectorizer__min_df=100, vectorizer__ngram_range=(1, 2), total=   0.8s\n",
      "[CV] model__C=0.1, model__max_iter=500, vectorizer__min_df=1000, vectorizer__ngram_range=(1, 1) \n",
      "[CV]  model__C=0.1, model__max_iter=500, vectorizer__min_df=1000, vectorizer__ngram_range=(1, 1), total=   0.2s\n",
      "[CV] model__C=0.1, model__max_iter=500, vectorizer__min_df=1000, vectorizer__ngram_range=(1, 1) \n"
     ]
    },
    {
     "name": "stderr",
     "output_type": "stream",
     "text": [
      "/usr/local/lib/python3.6/dist-packages/sklearn/model_selection/_validation.py:536: FitFailedWarning: Estimator fit failed. The score on this train-test partition for these parameters will be set to nan. Details: \n",
      "ValueError: max_df corresponds to < documents than min_df\n",
      "\n",
      "  FitFailedWarning)\n"
     ]
    },
    {
     "name": "stdout",
     "output_type": "stream",
     "text": [
      "[CV]  model__C=0.1, model__max_iter=500, vectorizer__min_df=1000, vectorizer__ngram_range=(1, 1), total=   0.2s\n",
      "[CV] model__C=0.1, model__max_iter=500, vectorizer__min_df=1000, vectorizer__ngram_range=(1, 1) \n",
      "[CV]  model__C=0.1, model__max_iter=500, vectorizer__min_df=1000, vectorizer__ngram_range=(1, 1), total=   0.2s\n",
      "[CV] model__C=0.1, model__max_iter=500, vectorizer__min_df=1000, vectorizer__ngram_range=(1, 2) \n",
      "[CV]  model__C=0.1, model__max_iter=500, vectorizer__min_df=1000, vectorizer__ngram_range=(1, 2), total=   0.5s\n",
      "[CV] model__C=0.1, model__max_iter=500, vectorizer__min_df=1000, vectorizer__ngram_range=(1, 2) \n",
      "[CV]  model__C=0.1, model__max_iter=500, vectorizer__min_df=1000, vectorizer__ngram_range=(1, 2), total=   0.6s\n",
      "[CV] model__C=0.1, model__max_iter=500, vectorizer__min_df=1000, vectorizer__ngram_range=(1, 2) \n",
      "[CV]  model__C=0.1, model__max_iter=500, vectorizer__min_df=1000, vectorizer__ngram_range=(1, 2), total=   0.6s\n",
      "[CV] model__C=0.1, model__max_iter=1000, vectorizer__min_df=1, vectorizer__ngram_range=(1, 1) \n",
      "[CV]  model__C=0.1, model__max_iter=1000, vectorizer__min_df=1, vectorizer__ngram_range=(1, 1), total=   0.3s\n",
      "[CV] model__C=0.1, model__max_iter=1000, vectorizer__min_df=1, vectorizer__ngram_range=(1, 1) \n",
      "[CV]  model__C=0.1, model__max_iter=1000, vectorizer__min_df=1, vectorizer__ngram_range=(1, 1), total=   0.4s\n",
      "[CV] model__C=0.1, model__max_iter=1000, vectorizer__min_df=1, vectorizer__ngram_range=(1, 1) \n",
      "[CV]  model__C=0.1, model__max_iter=1000, vectorizer__min_df=1, vectorizer__ngram_range=(1, 1), total=   0.4s\n",
      "[CV] model__C=0.1, model__max_iter=1000, vectorizer__min_df=1, vectorizer__ngram_range=(1, 2) \n",
      "[CV]  model__C=0.1, model__max_iter=1000, vectorizer__min_df=1, vectorizer__ngram_range=(1, 2), total=   1.1s\n",
      "[CV] model__C=0.1, model__max_iter=1000, vectorizer__min_df=1, vectorizer__ngram_range=(1, 2) \n",
      "[CV]  model__C=0.1, model__max_iter=1000, vectorizer__min_df=1, vectorizer__ngram_range=(1, 2), total=   1.3s\n",
      "[CV] model__C=0.1, model__max_iter=1000, vectorizer__min_df=1, vectorizer__ngram_range=(1, 2) \n",
      "[CV]  model__C=0.1, model__max_iter=1000, vectorizer__min_df=1, vectorizer__ngram_range=(1, 2), total=   1.2s\n",
      "[CV] model__C=0.1, model__max_iter=1000, vectorizer__min_df=5, vectorizer__ngram_range=(1, 1) \n",
      "[CV]  model__C=0.1, model__max_iter=1000, vectorizer__min_df=5, vectorizer__ngram_range=(1, 1), total=   0.3s\n",
      "[CV] model__C=0.1, model__max_iter=1000, vectorizer__min_df=5, vectorizer__ngram_range=(1, 1) \n",
      "[CV]  model__C=0.1, model__max_iter=1000, vectorizer__min_df=5, vectorizer__ngram_range=(1, 1), total=   0.3s\n",
      "[CV] model__C=0.1, model__max_iter=1000, vectorizer__min_df=5, vectorizer__ngram_range=(1, 1) \n",
      "[CV]  model__C=0.1, model__max_iter=1000, vectorizer__min_df=5, vectorizer__ngram_range=(1, 1), total=   0.3s\n",
      "[CV] model__C=0.1, model__max_iter=1000, vectorizer__min_df=5, vectorizer__ngram_range=(1, 2) \n",
      "[CV]  model__C=0.1, model__max_iter=1000, vectorizer__min_df=5, vectorizer__ngram_range=(1, 2), total=   0.8s\n",
      "[CV] model__C=0.1, model__max_iter=1000, vectorizer__min_df=5, vectorizer__ngram_range=(1, 2) \n",
      "[CV]  model__C=0.1, model__max_iter=1000, vectorizer__min_df=5, vectorizer__ngram_range=(1, 2), total=   0.9s\n",
      "[CV] model__C=0.1, model__max_iter=1000, vectorizer__min_df=5, vectorizer__ngram_range=(1, 2) \n",
      "[CV]  model__C=0.1, model__max_iter=1000, vectorizer__min_df=5, vectorizer__ngram_range=(1, 2), total=   0.8s\n",
      "[CV] model__C=0.1, model__max_iter=1000, vectorizer__min_df=10, vectorizer__ngram_range=(1, 1) \n",
      "[CV]  model__C=0.1, model__max_iter=1000, vectorizer__min_df=10, vectorizer__ngram_range=(1, 1), total=   0.3s\n",
      "[CV] model__C=0.1, model__max_iter=1000, vectorizer__min_df=10, vectorizer__ngram_range=(1, 1) \n",
      "[CV]  model__C=0.1, model__max_iter=1000, vectorizer__min_df=10, vectorizer__ngram_range=(1, 1), total=   0.3s\n",
      "[CV] model__C=0.1, model__max_iter=1000, vectorizer__min_df=10, vectorizer__ngram_range=(1, 1) \n",
      "[CV]  model__C=0.1, model__max_iter=1000, vectorizer__min_df=10, vectorizer__ngram_range=(1, 1), total=   0.3s\n",
      "[CV] model__C=0.1, model__max_iter=1000, vectorizer__min_df=10, vectorizer__ngram_range=(1, 2) \n",
      "[CV]  model__C=0.1, model__max_iter=1000, vectorizer__min_df=10, vectorizer__ngram_range=(1, 2), total=   0.8s\n",
      "[CV] model__C=0.1, model__max_iter=1000, vectorizer__min_df=10, vectorizer__ngram_range=(1, 2) \n",
      "[CV]  model__C=0.1, model__max_iter=1000, vectorizer__min_df=10, vectorizer__ngram_range=(1, 2), total=   0.8s\n",
      "[CV] model__C=0.1, model__max_iter=1000, vectorizer__min_df=10, vectorizer__ngram_range=(1, 2) \n",
      "[CV]  model__C=0.1, model__max_iter=1000, vectorizer__min_df=10, vectorizer__ngram_range=(1, 2), total=   0.8s\n",
      "[CV] model__C=0.1, model__max_iter=1000, vectorizer__min_df=50, vectorizer__ngram_range=(1, 1) \n",
      "[CV]  model__C=0.1, model__max_iter=1000, vectorizer__min_df=50, vectorizer__ngram_range=(1, 1), total=   0.3s\n",
      "[CV] model__C=0.1, model__max_iter=1000, vectorizer__min_df=50, vectorizer__ngram_range=(1, 1) \n",
      "[CV]  model__C=0.1, model__max_iter=1000, vectorizer__min_df=50, vectorizer__ngram_range=(1, 1), total=   0.3s\n",
      "[CV] model__C=0.1, model__max_iter=1000, vectorizer__min_df=50, vectorizer__ngram_range=(1, 1) \n",
      "[CV]  model__C=0.1, model__max_iter=1000, vectorizer__min_df=50, vectorizer__ngram_range=(1, 1), total=   0.3s\n",
      "[CV] model__C=0.1, model__max_iter=1000, vectorizer__min_df=50, vectorizer__ngram_range=(1, 2) \n",
      "[CV]  model__C=0.1, model__max_iter=1000, vectorizer__min_df=50, vectorizer__ngram_range=(1, 2), total=   0.8s\n",
      "[CV] model__C=0.1, model__max_iter=1000, vectorizer__min_df=50, vectorizer__ngram_range=(1, 2) \n",
      "[CV]  model__C=0.1, model__max_iter=1000, vectorizer__min_df=50, vectorizer__ngram_range=(1, 2), total=   0.8s\n",
      "[CV] model__C=0.1, model__max_iter=1000, vectorizer__min_df=50, vectorizer__ngram_range=(1, 2) \n",
      "[CV]  model__C=0.1, model__max_iter=1000, vectorizer__min_df=50, vectorizer__ngram_range=(1, 2), total=   0.8s\n",
      "[CV] model__C=0.1, model__max_iter=1000, vectorizer__min_df=100, vectorizer__ngram_range=(1, 1) \n",
      "[CV]  model__C=0.1, model__max_iter=1000, vectorizer__min_df=100, vectorizer__ngram_range=(1, 1), total=   0.3s\n",
      "[CV] model__C=0.1, model__max_iter=1000, vectorizer__min_df=100, vectorizer__ngram_range=(1, 1) \n",
      "[CV]  model__C=0.1, model__max_iter=1000, vectorizer__min_df=100, vectorizer__ngram_range=(1, 1), total=   0.3s\n",
      "[CV] model__C=0.1, model__max_iter=1000, vectorizer__min_df=100, vectorizer__ngram_range=(1, 1) \n",
      "[CV]  model__C=0.1, model__max_iter=1000, vectorizer__min_df=100, vectorizer__ngram_range=(1, 1), total=   0.3s\n",
      "[CV] model__C=0.1, model__max_iter=1000, vectorizer__min_df=100, vectorizer__ngram_range=(1, 2) \n",
      "[CV]  model__C=0.1, model__max_iter=1000, vectorizer__min_df=100, vectorizer__ngram_range=(1, 2), total=   0.9s\n",
      "[CV] model__C=0.1, model__max_iter=1000, vectorizer__min_df=100, vectorizer__ngram_range=(1, 2) \n",
      "[CV]  model__C=0.1, model__max_iter=1000, vectorizer__min_df=100, vectorizer__ngram_range=(1, 2), total=   0.9s\n",
      "[CV] model__C=0.1, model__max_iter=1000, vectorizer__min_df=100, vectorizer__ngram_range=(1, 2) \n",
      "[CV]  model__C=0.1, model__max_iter=1000, vectorizer__min_df=100, vectorizer__ngram_range=(1, 2), total=   1.0s\n",
      "[CV] model__C=0.1, model__max_iter=1000, vectorizer__min_df=1000, vectorizer__ngram_range=(1, 1) \n"
     ]
    },
    {
     "name": "stderr",
     "output_type": "stream",
     "text": [
      "/usr/local/lib/python3.6/dist-packages/sklearn/model_selection/_validation.py:536: FitFailedWarning: Estimator fit failed. The score on this train-test partition for these parameters will be set to nan. Details: \n",
      "ValueError: max_df corresponds to < documents than min_df\n",
      "\n",
      "  FitFailedWarning)\n"
     ]
    },
    {
     "name": "stdout",
     "output_type": "stream",
     "text": [
      "[CV]  model__C=0.1, model__max_iter=1000, vectorizer__min_df=1000, vectorizer__ngram_range=(1, 1), total=   0.2s\n",
      "[CV] model__C=0.1, model__max_iter=1000, vectorizer__min_df=1000, vectorizer__ngram_range=(1, 1) \n",
      "[CV]  model__C=0.1, model__max_iter=1000, vectorizer__min_df=1000, vectorizer__ngram_range=(1, 1), total=   0.3s\n",
      "[CV] model__C=0.1, model__max_iter=1000, vectorizer__min_df=1000, vectorizer__ngram_range=(1, 1) \n",
      "[CV]  model__C=0.1, model__max_iter=1000, vectorizer__min_df=1000, vectorizer__ngram_range=(1, 1), total=   0.2s\n",
      "[CV] model__C=0.1, model__max_iter=1000, vectorizer__min_df=1000, vectorizer__ngram_range=(1, 2) \n",
      "[CV]  model__C=0.1, model__max_iter=1000, vectorizer__min_df=1000, vectorizer__ngram_range=(1, 2), total=   0.8s\n",
      "[CV] model__C=0.1, model__max_iter=1000, vectorizer__min_df=1000, vectorizer__ngram_range=(1, 2) \n",
      "[CV]  model__C=0.1, model__max_iter=1000, vectorizer__min_df=1000, vectorizer__ngram_range=(1, 2), total=   0.7s\n",
      "[CV] model__C=0.1, model__max_iter=1000, vectorizer__min_df=1000, vectorizer__ngram_range=(1, 2) \n",
      "[CV]  model__C=0.1, model__max_iter=1000, vectorizer__min_df=1000, vectorizer__ngram_range=(1, 2), total=   0.6s\n",
      "[CV] model__C=1, model__max_iter=100, vectorizer__min_df=1, vectorizer__ngram_range=(1, 1) \n",
      "[CV]  model__C=1, model__max_iter=100, vectorizer__min_df=1, vectorizer__ngram_range=(1, 1), total=   0.4s\n",
      "[CV] model__C=1, model__max_iter=100, vectorizer__min_df=1, vectorizer__ngram_range=(1, 1) \n",
      "[CV]  model__C=1, model__max_iter=100, vectorizer__min_df=1, vectorizer__ngram_range=(1, 1), total=   0.5s\n",
      "[CV] model__C=1, model__max_iter=100, vectorizer__min_df=1, vectorizer__ngram_range=(1, 1) \n",
      "[CV]  model__C=1, model__max_iter=100, vectorizer__min_df=1, vectorizer__ngram_range=(1, 1), total=   0.4s\n",
      "[CV] model__C=1, model__max_iter=100, vectorizer__min_df=1, vectorizer__ngram_range=(1, 2) \n",
      "[CV]  model__C=1, model__max_iter=100, vectorizer__min_df=1, vectorizer__ngram_range=(1, 2), total=   1.6s\n",
      "[CV] model__C=1, model__max_iter=100, vectorizer__min_df=1, vectorizer__ngram_range=(1, 2) \n",
      "[CV]  model__C=1, model__max_iter=100, vectorizer__min_df=1, vectorizer__ngram_range=(1, 2), total=   2.1s\n",
      "[CV] model__C=1, model__max_iter=100, vectorizer__min_df=1, vectorizer__ngram_range=(1, 2) \n",
      "[CV]  model__C=1, model__max_iter=100, vectorizer__min_df=1, vectorizer__ngram_range=(1, 2), total=   2.6s\n",
      "[CV] model__C=1, model__max_iter=100, vectorizer__min_df=5, vectorizer__ngram_range=(1, 1) \n",
      "[CV]  model__C=1, model__max_iter=100, vectorizer__min_df=5, vectorizer__ngram_range=(1, 1), total=   0.3s\n",
      "[CV] model__C=1, model__max_iter=100, vectorizer__min_df=5, vectorizer__ngram_range=(1, 1) \n",
      "[CV]  model__C=1, model__max_iter=100, vectorizer__min_df=5, vectorizer__ngram_range=(1, 1), total=   0.5s\n",
      "[CV] model__C=1, model__max_iter=100, vectorizer__min_df=5, vectorizer__ngram_range=(1, 1) \n",
      "[CV]  model__C=1, model__max_iter=100, vectorizer__min_df=5, vectorizer__ngram_range=(1, 1), total=   0.3s\n",
      "[CV] model__C=1, model__max_iter=100, vectorizer__min_df=5, vectorizer__ngram_range=(1, 2) \n",
      "[CV]  model__C=1, model__max_iter=100, vectorizer__min_df=5, vectorizer__ngram_range=(1, 2), total=   0.8s\n",
      "[CV] model__C=1, model__max_iter=100, vectorizer__min_df=5, vectorizer__ngram_range=(1, 2) \n",
      "[CV]  model__C=1, model__max_iter=100, vectorizer__min_df=5, vectorizer__ngram_range=(1, 2), total=   0.9s\n",
      "[CV] model__C=1, model__max_iter=100, vectorizer__min_df=5, vectorizer__ngram_range=(1, 2) \n",
      "[CV]  model__C=1, model__max_iter=100, vectorizer__min_df=5, vectorizer__ngram_range=(1, 2), total=   0.8s\n",
      "[CV] model__C=1, model__max_iter=100, vectorizer__min_df=10, vectorizer__ngram_range=(1, 1) \n",
      "[CV]  model__C=1, model__max_iter=100, vectorizer__min_df=10, vectorizer__ngram_range=(1, 1), total=   0.3s\n",
      "[CV] model__C=1, model__max_iter=100, vectorizer__min_df=10, vectorizer__ngram_range=(1, 1) \n",
      "[CV]  model__C=1, model__max_iter=100, vectorizer__min_df=10, vectorizer__ngram_range=(1, 1), total=   0.3s\n",
      "[CV] model__C=1, model__max_iter=100, vectorizer__min_df=10, vectorizer__ngram_range=(1, 1) \n",
      "[CV]  model__C=1, model__max_iter=100, vectorizer__min_df=10, vectorizer__ngram_range=(1, 1), total=   0.3s\n",
      "[CV] model__C=1, model__max_iter=100, vectorizer__min_df=10, vectorizer__ngram_range=(1, 2) \n",
      "[CV]  model__C=1, model__max_iter=100, vectorizer__min_df=10, vectorizer__ngram_range=(1, 2), total=   0.8s\n",
      "[CV] model__C=1, model__max_iter=100, vectorizer__min_df=10, vectorizer__ngram_range=(1, 2) \n",
      "[CV]  model__C=1, model__max_iter=100, vectorizer__min_df=10, vectorizer__ngram_range=(1, 2), total=   0.9s\n",
      "[CV] model__C=1, model__max_iter=100, vectorizer__min_df=10, vectorizer__ngram_range=(1, 2) \n",
      "[CV]  model__C=1, model__max_iter=100, vectorizer__min_df=10, vectorizer__ngram_range=(1, 2), total=   0.9s\n",
      "[CV] model__C=1, model__max_iter=100, vectorizer__min_df=50, vectorizer__ngram_range=(1, 1) \n",
      "[CV]  model__C=1, model__max_iter=100, vectorizer__min_df=50, vectorizer__ngram_range=(1, 1), total=   0.3s\n",
      "[CV] model__C=1, model__max_iter=100, vectorizer__min_df=50, vectorizer__ngram_range=(1, 1) \n",
      "[CV]  model__C=1, model__max_iter=100, vectorizer__min_df=50, vectorizer__ngram_range=(1, 1), total=   0.3s\n",
      "[CV] model__C=1, model__max_iter=100, vectorizer__min_df=50, vectorizer__ngram_range=(1, 1) \n",
      "[CV]  model__C=1, model__max_iter=100, vectorizer__min_df=50, vectorizer__ngram_range=(1, 1), total=   0.3s\n",
      "[CV] model__C=1, model__max_iter=100, vectorizer__min_df=50, vectorizer__ngram_range=(1, 2) \n",
      "[CV]  model__C=1, model__max_iter=100, vectorizer__min_df=50, vectorizer__ngram_range=(1, 2), total=   1.0s\n",
      "[CV] model__C=1, model__max_iter=100, vectorizer__min_df=50, vectorizer__ngram_range=(1, 2) \n",
      "[CV]  model__C=1, model__max_iter=100, vectorizer__min_df=50, vectorizer__ngram_range=(1, 2), total=   1.0s\n",
      "[CV] model__C=1, model__max_iter=100, vectorizer__min_df=50, vectorizer__ngram_range=(1, 2) \n",
      "[CV]  model__C=1, model__max_iter=100, vectorizer__min_df=50, vectorizer__ngram_range=(1, 2), total=   0.9s\n",
      "[CV] model__C=1, model__max_iter=100, vectorizer__min_df=100, vectorizer__ngram_range=(1, 1) \n",
      "[CV]  model__C=1, model__max_iter=100, vectorizer__min_df=100, vectorizer__ngram_range=(1, 1), total=   0.3s\n",
      "[CV] model__C=1, model__max_iter=100, vectorizer__min_df=100, vectorizer__ngram_range=(1, 1) \n",
      "[CV]  model__C=1, model__max_iter=100, vectorizer__min_df=100, vectorizer__ngram_range=(1, 1), total=   0.3s\n",
      "[CV] model__C=1, model__max_iter=100, vectorizer__min_df=100, vectorizer__ngram_range=(1, 1) \n",
      "[CV]  model__C=1, model__max_iter=100, vectorizer__min_df=100, vectorizer__ngram_range=(1, 1), total=   0.3s\n",
      "[CV] model__C=1, model__max_iter=100, vectorizer__min_df=100, vectorizer__ngram_range=(1, 2) \n",
      "[CV]  model__C=1, model__max_iter=100, vectorizer__min_df=100, vectorizer__ngram_range=(1, 2), total=   0.9s\n",
      "[CV] model__C=1, model__max_iter=100, vectorizer__min_df=100, vectorizer__ngram_range=(1, 2) \n",
      "[CV]  model__C=1, model__max_iter=100, vectorizer__min_df=100, vectorizer__ngram_range=(1, 2), total=   0.8s\n",
      "[CV] model__C=1, model__max_iter=100, vectorizer__min_df=100, vectorizer__ngram_range=(1, 2) \n",
      "[CV]  model__C=1, model__max_iter=100, vectorizer__min_df=100, vectorizer__ngram_range=(1, 2), total=   0.8s\n",
      "[CV] model__C=1, model__max_iter=100, vectorizer__min_df=1000, vectorizer__ngram_range=(1, 1) \n",
      "[CV]  model__C=1, model__max_iter=100, vectorizer__min_df=1000, vectorizer__ngram_range=(1, 1), total=   0.2s\n",
      "[CV] model__C=1, model__max_iter=100, vectorizer__min_df=1000, vectorizer__ngram_range=(1, 1) \n"
     ]
    },
    {
     "name": "stderr",
     "output_type": "stream",
     "text": [
      "/usr/local/lib/python3.6/dist-packages/sklearn/model_selection/_validation.py:536: FitFailedWarning: Estimator fit failed. The score on this train-test partition for these parameters will be set to nan. Details: \n",
      "ValueError: max_df corresponds to < documents than min_df\n",
      "\n",
      "  FitFailedWarning)\n"
     ]
    },
    {
     "name": "stdout",
     "output_type": "stream",
     "text": [
      "[CV]  model__C=1, model__max_iter=100, vectorizer__min_df=1000, vectorizer__ngram_range=(1, 1), total=   0.2s\n",
      "[CV] model__C=1, model__max_iter=100, vectorizer__min_df=1000, vectorizer__ngram_range=(1, 1) \n",
      "[CV]  model__C=1, model__max_iter=100, vectorizer__min_df=1000, vectorizer__ngram_range=(1, 1), total=   0.2s\n",
      "[CV] model__C=1, model__max_iter=100, vectorizer__min_df=1000, vectorizer__ngram_range=(1, 2) \n",
      "[CV]  model__C=1, model__max_iter=100, vectorizer__min_df=1000, vectorizer__ngram_range=(1, 2), total=   0.6s\n",
      "[CV] model__C=1, model__max_iter=100, vectorizer__min_df=1000, vectorizer__ngram_range=(1, 2) \n",
      "[CV]  model__C=1, model__max_iter=100, vectorizer__min_df=1000, vectorizer__ngram_range=(1, 2), total=   0.6s\n",
      "[CV] model__C=1, model__max_iter=100, vectorizer__min_df=1000, vectorizer__ngram_range=(1, 2) \n",
      "[CV]  model__C=1, model__max_iter=100, vectorizer__min_df=1000, vectorizer__ngram_range=(1, 2), total=   0.6s\n",
      "[CV] model__C=1, model__max_iter=200, vectorizer__min_df=1, vectorizer__ngram_range=(1, 1) \n",
      "[CV]  model__C=1, model__max_iter=200, vectorizer__min_df=1, vectorizer__ngram_range=(1, 1), total=   0.4s\n",
      "[CV] model__C=1, model__max_iter=200, vectorizer__min_df=1, vectorizer__ngram_range=(1, 1) \n",
      "[CV]  model__C=1, model__max_iter=200, vectorizer__min_df=1, vectorizer__ngram_range=(1, 1), total=   0.4s\n",
      "[CV] model__C=1, model__max_iter=200, vectorizer__min_df=1, vectorizer__ngram_range=(1, 1) \n",
      "[CV]  model__C=1, model__max_iter=200, vectorizer__min_df=1, vectorizer__ngram_range=(1, 1), total=   0.4s\n",
      "[CV] model__C=1, model__max_iter=200, vectorizer__min_df=1, vectorizer__ngram_range=(1, 2) \n",
      "[CV]  model__C=1, model__max_iter=200, vectorizer__min_df=1, vectorizer__ngram_range=(1, 2), total=   1.4s\n",
      "[CV] model__C=1, model__max_iter=200, vectorizer__min_df=1, vectorizer__ngram_range=(1, 2) \n",
      "[CV]  model__C=1, model__max_iter=200, vectorizer__min_df=1, vectorizer__ngram_range=(1, 2), total=   1.3s\n",
      "[CV] model__C=1, model__max_iter=200, vectorizer__min_df=1, vectorizer__ngram_range=(1, 2) \n",
      "[CV]  model__C=1, model__max_iter=200, vectorizer__min_df=1, vectorizer__ngram_range=(1, 2), total=   1.3s\n",
      "[CV] model__C=1, model__max_iter=200, vectorizer__min_df=5, vectorizer__ngram_range=(1, 1) \n",
      "[CV]  model__C=1, model__max_iter=200, vectorizer__min_df=5, vectorizer__ngram_range=(1, 1), total=   0.3s\n",
      "[CV] model__C=1, model__max_iter=200, vectorizer__min_df=5, vectorizer__ngram_range=(1, 1) \n",
      "[CV]  model__C=1, model__max_iter=200, vectorizer__min_df=5, vectorizer__ngram_range=(1, 1), total=   0.3s\n",
      "[CV] model__C=1, model__max_iter=200, vectorizer__min_df=5, vectorizer__ngram_range=(1, 1) \n",
      "[CV]  model__C=1, model__max_iter=200, vectorizer__min_df=5, vectorizer__ngram_range=(1, 1), total=   0.3s\n",
      "[CV] model__C=1, model__max_iter=200, vectorizer__min_df=5, vectorizer__ngram_range=(1, 2) \n",
      "[CV]  model__C=1, model__max_iter=200, vectorizer__min_df=5, vectorizer__ngram_range=(1, 2), total=   0.8s\n",
      "[CV] model__C=1, model__max_iter=200, vectorizer__min_df=5, vectorizer__ngram_range=(1, 2) \n",
      "[CV]  model__C=1, model__max_iter=200, vectorizer__min_df=5, vectorizer__ngram_range=(1, 2), total=   0.8s\n",
      "[CV] model__C=1, model__max_iter=200, vectorizer__min_df=5, vectorizer__ngram_range=(1, 2) \n",
      "[CV]  model__C=1, model__max_iter=200, vectorizer__min_df=5, vectorizer__ngram_range=(1, 2), total=   0.8s\n",
      "[CV] model__C=1, model__max_iter=200, vectorizer__min_df=10, vectorizer__ngram_range=(1, 1) \n",
      "[CV]  model__C=1, model__max_iter=200, vectorizer__min_df=10, vectorizer__ngram_range=(1, 1), total=   0.3s\n",
      "[CV] model__C=1, model__max_iter=200, vectorizer__min_df=10, vectorizer__ngram_range=(1, 1) \n",
      "[CV]  model__C=1, model__max_iter=200, vectorizer__min_df=10, vectorizer__ngram_range=(1, 1), total=   0.3s\n",
      "[CV] model__C=1, model__max_iter=200, vectorizer__min_df=10, vectorizer__ngram_range=(1, 1) \n",
      "[CV]  model__C=1, model__max_iter=200, vectorizer__min_df=10, vectorizer__ngram_range=(1, 1), total=   0.3s\n",
      "[CV] model__C=1, model__max_iter=200, vectorizer__min_df=10, vectorizer__ngram_range=(1, 2) \n",
      "[CV]  model__C=1, model__max_iter=200, vectorizer__min_df=10, vectorizer__ngram_range=(1, 2), total=   0.8s\n",
      "[CV] model__C=1, model__max_iter=200, vectorizer__min_df=10, vectorizer__ngram_range=(1, 2) \n",
      "[CV]  model__C=1, model__max_iter=200, vectorizer__min_df=10, vectorizer__ngram_range=(1, 2), total=   0.8s\n",
      "[CV] model__C=1, model__max_iter=200, vectorizer__min_df=10, vectorizer__ngram_range=(1, 2) \n",
      "[CV]  model__C=1, model__max_iter=200, vectorizer__min_df=10, vectorizer__ngram_range=(1, 2), total=   0.8s\n",
      "[CV] model__C=1, model__max_iter=200, vectorizer__min_df=50, vectorizer__ngram_range=(1, 1) \n",
      "[CV]  model__C=1, model__max_iter=200, vectorizer__min_df=50, vectorizer__ngram_range=(1, 1), total=   0.3s\n",
      "[CV] model__C=1, model__max_iter=200, vectorizer__min_df=50, vectorizer__ngram_range=(1, 1) \n",
      "[CV]  model__C=1, model__max_iter=200, vectorizer__min_df=50, vectorizer__ngram_range=(1, 1), total=   0.3s\n",
      "[CV] model__C=1, model__max_iter=200, vectorizer__min_df=50, vectorizer__ngram_range=(1, 1) \n",
      "[CV]  model__C=1, model__max_iter=200, vectorizer__min_df=50, vectorizer__ngram_range=(1, 1), total=   0.3s\n",
      "[CV] model__C=1, model__max_iter=200, vectorizer__min_df=50, vectorizer__ngram_range=(1, 2) \n",
      "[CV]  model__C=1, model__max_iter=200, vectorizer__min_df=50, vectorizer__ngram_range=(1, 2), total=   0.9s\n",
      "[CV] model__C=1, model__max_iter=200, vectorizer__min_df=50, vectorizer__ngram_range=(1, 2) \n",
      "[CV]  model__C=1, model__max_iter=200, vectorizer__min_df=50, vectorizer__ngram_range=(1, 2), total=   0.8s\n",
      "[CV] model__C=1, model__max_iter=200, vectorizer__min_df=50, vectorizer__ngram_range=(1, 2) \n",
      "[CV]  model__C=1, model__max_iter=200, vectorizer__min_df=50, vectorizer__ngram_range=(1, 2), total=   0.9s\n",
      "[CV] model__C=1, model__max_iter=200, vectorizer__min_df=100, vectorizer__ngram_range=(1, 1) \n",
      "[CV]  model__C=1, model__max_iter=200, vectorizer__min_df=100, vectorizer__ngram_range=(1, 1), total=   0.3s\n",
      "[CV] model__C=1, model__max_iter=200, vectorizer__min_df=100, vectorizer__ngram_range=(1, 1) \n",
      "[CV]  model__C=1, model__max_iter=200, vectorizer__min_df=100, vectorizer__ngram_range=(1, 1), total=   0.3s\n",
      "[CV] model__C=1, model__max_iter=200, vectorizer__min_df=100, vectorizer__ngram_range=(1, 1) \n",
      "[CV]  model__C=1, model__max_iter=200, vectorizer__min_df=100, vectorizer__ngram_range=(1, 1), total=   0.3s\n",
      "[CV] model__C=1, model__max_iter=200, vectorizer__min_df=100, vectorizer__ngram_range=(1, 2) \n",
      "[CV]  model__C=1, model__max_iter=200, vectorizer__min_df=100, vectorizer__ngram_range=(1, 2), total=   0.9s\n",
      "[CV] model__C=1, model__max_iter=200, vectorizer__min_df=100, vectorizer__ngram_range=(1, 2) \n",
      "[CV]  model__C=1, model__max_iter=200, vectorizer__min_df=100, vectorizer__ngram_range=(1, 2), total=   0.9s\n",
      "[CV] model__C=1, model__max_iter=200, vectorizer__min_df=100, vectorizer__ngram_range=(1, 2) \n",
      "[CV]  model__C=1, model__max_iter=200, vectorizer__min_df=100, vectorizer__ngram_range=(1, 2), total=   0.9s\n",
      "[CV] model__C=1, model__max_iter=200, vectorizer__min_df=1000, vectorizer__ngram_range=(1, 1) \n",
      "[CV]  model__C=1, model__max_iter=200, vectorizer__min_df=1000, vectorizer__ngram_range=(1, 1), total=   0.2s\n",
      "[CV] model__C=1, model__max_iter=200, vectorizer__min_df=1000, vectorizer__ngram_range=(1, 1) \n"
     ]
    },
    {
     "name": "stderr",
     "output_type": "stream",
     "text": [
      "/usr/local/lib/python3.6/dist-packages/sklearn/model_selection/_validation.py:536: FitFailedWarning: Estimator fit failed. The score on this train-test partition for these parameters will be set to nan. Details: \n",
      "ValueError: max_df corresponds to < documents than min_df\n",
      "\n",
      "  FitFailedWarning)\n"
     ]
    },
    {
     "name": "stdout",
     "output_type": "stream",
     "text": [
      "[CV]  model__C=1, model__max_iter=200, vectorizer__min_df=1000, vectorizer__ngram_range=(1, 1), total=   0.2s\n",
      "[CV] model__C=1, model__max_iter=200, vectorizer__min_df=1000, vectorizer__ngram_range=(1, 1) \n",
      "[CV]  model__C=1, model__max_iter=200, vectorizer__min_df=1000, vectorizer__ngram_range=(1, 1), total=   0.2s\n",
      "[CV] model__C=1, model__max_iter=200, vectorizer__min_df=1000, vectorizer__ngram_range=(1, 2) \n",
      "[CV]  model__C=1, model__max_iter=200, vectorizer__min_df=1000, vectorizer__ngram_range=(1, 2), total=   0.7s\n",
      "[CV] model__C=1, model__max_iter=200, vectorizer__min_df=1000, vectorizer__ngram_range=(1, 2) \n",
      "[CV]  model__C=1, model__max_iter=200, vectorizer__min_df=1000, vectorizer__ngram_range=(1, 2), total=   0.7s\n",
      "[CV] model__C=1, model__max_iter=200, vectorizer__min_df=1000, vectorizer__ngram_range=(1, 2) \n",
      "[CV]  model__C=1, model__max_iter=200, vectorizer__min_df=1000, vectorizer__ngram_range=(1, 2), total=   0.6s\n",
      "[CV] model__C=1, model__max_iter=300, vectorizer__min_df=1, vectorizer__ngram_range=(1, 1) \n",
      "[CV]  model__C=1, model__max_iter=300, vectorizer__min_df=1, vectorizer__ngram_range=(1, 1), total=   0.4s\n",
      "[CV] model__C=1, model__max_iter=300, vectorizer__min_df=1, vectorizer__ngram_range=(1, 1) \n",
      "[CV]  model__C=1, model__max_iter=300, vectorizer__min_df=1, vectorizer__ngram_range=(1, 1), total=   0.5s\n",
      "[CV] model__C=1, model__max_iter=300, vectorizer__min_df=1, vectorizer__ngram_range=(1, 1) \n",
      "[CV]  model__C=1, model__max_iter=300, vectorizer__min_df=1, vectorizer__ngram_range=(1, 1), total=   0.5s\n",
      "[CV] model__C=1, model__max_iter=300, vectorizer__min_df=1, vectorizer__ngram_range=(1, 2) \n",
      "[CV]  model__C=1, model__max_iter=300, vectorizer__min_df=1, vectorizer__ngram_range=(1, 2), total=   1.7s\n",
      "[CV] model__C=1, model__max_iter=300, vectorizer__min_df=1, vectorizer__ngram_range=(1, 2) \n",
      "[CV]  model__C=1, model__max_iter=300, vectorizer__min_df=1, vectorizer__ngram_range=(1, 2), total=   1.7s\n",
      "[CV] model__C=1, model__max_iter=300, vectorizer__min_df=1, vectorizer__ngram_range=(1, 2) \n",
      "[CV]  model__C=1, model__max_iter=300, vectorizer__min_df=1, vectorizer__ngram_range=(1, 2), total=   1.4s\n",
      "[CV] model__C=1, model__max_iter=300, vectorizer__min_df=5, vectorizer__ngram_range=(1, 1) \n",
      "[CV]  model__C=1, model__max_iter=300, vectorizer__min_df=5, vectorizer__ngram_range=(1, 1), total=   0.3s\n",
      "[CV] model__C=1, model__max_iter=300, vectorizer__min_df=5, vectorizer__ngram_range=(1, 1) \n",
      "[CV]  model__C=1, model__max_iter=300, vectorizer__min_df=5, vectorizer__ngram_range=(1, 1), total=   0.3s\n",
      "[CV] model__C=1, model__max_iter=300, vectorizer__min_df=5, vectorizer__ngram_range=(1, 1) \n",
      "[CV]  model__C=1, model__max_iter=300, vectorizer__min_df=5, vectorizer__ngram_range=(1, 1), total=   0.3s\n",
      "[CV] model__C=1, model__max_iter=300, vectorizer__min_df=5, vectorizer__ngram_range=(1, 2) \n",
      "[CV]  model__C=1, model__max_iter=300, vectorizer__min_df=5, vectorizer__ngram_range=(1, 2), total=   0.8s\n",
      "[CV] model__C=1, model__max_iter=300, vectorizer__min_df=5, vectorizer__ngram_range=(1, 2) \n",
      "[CV]  model__C=1, model__max_iter=300, vectorizer__min_df=5, vectorizer__ngram_range=(1, 2), total=   0.8s\n",
      "[CV] model__C=1, model__max_iter=300, vectorizer__min_df=5, vectorizer__ngram_range=(1, 2) \n",
      "[CV]  model__C=1, model__max_iter=300, vectorizer__min_df=5, vectorizer__ngram_range=(1, 2), total=   0.8s\n",
      "[CV] model__C=1, model__max_iter=300, vectorizer__min_df=10, vectorizer__ngram_range=(1, 1) \n",
      "[CV]  model__C=1, model__max_iter=300, vectorizer__min_df=10, vectorizer__ngram_range=(1, 1), total=   0.3s\n",
      "[CV] model__C=1, model__max_iter=300, vectorizer__min_df=10, vectorizer__ngram_range=(1, 1) \n",
      "[CV]  model__C=1, model__max_iter=300, vectorizer__min_df=10, vectorizer__ngram_range=(1, 1), total=   0.3s\n",
      "[CV] model__C=1, model__max_iter=300, vectorizer__min_df=10, vectorizer__ngram_range=(1, 1) \n",
      "[CV]  model__C=1, model__max_iter=300, vectorizer__min_df=10, vectorizer__ngram_range=(1, 1), total=   0.3s\n",
      "[CV] model__C=1, model__max_iter=300, vectorizer__min_df=10, vectorizer__ngram_range=(1, 2) \n",
      "[CV]  model__C=1, model__max_iter=300, vectorizer__min_df=10, vectorizer__ngram_range=(1, 2), total=   0.9s\n",
      "[CV] model__C=1, model__max_iter=300, vectorizer__min_df=10, vectorizer__ngram_range=(1, 2) \n",
      "[CV]  model__C=1, model__max_iter=300, vectorizer__min_df=10, vectorizer__ngram_range=(1, 2), total=   1.0s\n",
      "[CV] model__C=1, model__max_iter=300, vectorizer__min_df=10, vectorizer__ngram_range=(1, 2) \n",
      "[CV]  model__C=1, model__max_iter=300, vectorizer__min_df=10, vectorizer__ngram_range=(1, 2), total=   0.9s\n",
      "[CV] model__C=1, model__max_iter=300, vectorizer__min_df=50, vectorizer__ngram_range=(1, 1) \n",
      "[CV]  model__C=1, model__max_iter=300, vectorizer__min_df=50, vectorizer__ngram_range=(1, 1), total=   0.3s\n",
      "[CV] model__C=1, model__max_iter=300, vectorizer__min_df=50, vectorizer__ngram_range=(1, 1) \n",
      "[CV]  model__C=1, model__max_iter=300, vectorizer__min_df=50, vectorizer__ngram_range=(1, 1), total=   0.3s\n",
      "[CV] model__C=1, model__max_iter=300, vectorizer__min_df=50, vectorizer__ngram_range=(1, 1) \n",
      "[CV]  model__C=1, model__max_iter=300, vectorizer__min_df=50, vectorizer__ngram_range=(1, 1), total=   0.3s\n",
      "[CV] model__C=1, model__max_iter=300, vectorizer__min_df=50, vectorizer__ngram_range=(1, 2) \n",
      "[CV]  model__C=1, model__max_iter=300, vectorizer__min_df=50, vectorizer__ngram_range=(1, 2), total=   0.9s\n",
      "[CV] model__C=1, model__max_iter=300, vectorizer__min_df=50, vectorizer__ngram_range=(1, 2) \n",
      "[CV]  model__C=1, model__max_iter=300, vectorizer__min_df=50, vectorizer__ngram_range=(1, 2), total=   0.9s\n",
      "[CV] model__C=1, model__max_iter=300, vectorizer__min_df=50, vectorizer__ngram_range=(1, 2) \n",
      "[CV]  model__C=1, model__max_iter=300, vectorizer__min_df=50, vectorizer__ngram_range=(1, 2), total=   0.8s\n",
      "[CV] model__C=1, model__max_iter=300, vectorizer__min_df=100, vectorizer__ngram_range=(1, 1) \n",
      "[CV]  model__C=1, model__max_iter=300, vectorizer__min_df=100, vectorizer__ngram_range=(1, 1), total=   0.3s\n",
      "[CV] model__C=1, model__max_iter=300, vectorizer__min_df=100, vectorizer__ngram_range=(1, 1) \n",
      "[CV]  model__C=1, model__max_iter=300, vectorizer__min_df=100, vectorizer__ngram_range=(1, 1), total=   0.3s\n",
      "[CV] model__C=1, model__max_iter=300, vectorizer__min_df=100, vectorizer__ngram_range=(1, 1) \n",
      "[CV]  model__C=1, model__max_iter=300, vectorizer__min_df=100, vectorizer__ngram_range=(1, 1), total=   0.3s\n",
      "[CV] model__C=1, model__max_iter=300, vectorizer__min_df=100, vectorizer__ngram_range=(1, 2) \n",
      "[CV]  model__C=1, model__max_iter=300, vectorizer__min_df=100, vectorizer__ngram_range=(1, 2), total=   0.8s\n",
      "[CV] model__C=1, model__max_iter=300, vectorizer__min_df=100, vectorizer__ngram_range=(1, 2) \n",
      "[CV]  model__C=1, model__max_iter=300, vectorizer__min_df=100, vectorizer__ngram_range=(1, 2), total=   0.8s\n",
      "[CV] model__C=1, model__max_iter=300, vectorizer__min_df=100, vectorizer__ngram_range=(1, 2) \n",
      "[CV]  model__C=1, model__max_iter=300, vectorizer__min_df=100, vectorizer__ngram_range=(1, 2), total=   0.9s\n",
      "[CV] model__C=1, model__max_iter=300, vectorizer__min_df=1000, vectorizer__ngram_range=(1, 1) \n",
      "[CV]  model__C=1, model__max_iter=300, vectorizer__min_df=1000, vectorizer__ngram_range=(1, 1), total=   0.2s\n",
      "[CV] model__C=1, model__max_iter=300, vectorizer__min_df=1000, vectorizer__ngram_range=(1, 1) \n"
     ]
    },
    {
     "name": "stderr",
     "output_type": "stream",
     "text": [
      "/usr/local/lib/python3.6/dist-packages/sklearn/model_selection/_validation.py:536: FitFailedWarning: Estimator fit failed. The score on this train-test partition for these parameters will be set to nan. Details: \n",
      "ValueError: max_df corresponds to < documents than min_df\n",
      "\n",
      "  FitFailedWarning)\n"
     ]
    },
    {
     "name": "stdout",
     "output_type": "stream",
     "text": [
      "[CV]  model__C=1, model__max_iter=300, vectorizer__min_df=1000, vectorizer__ngram_range=(1, 1), total=   0.2s\n",
      "[CV] model__C=1, model__max_iter=300, vectorizer__min_df=1000, vectorizer__ngram_range=(1, 1) \n",
      "[CV]  model__C=1, model__max_iter=300, vectorizer__min_df=1000, vectorizer__ngram_range=(1, 1), total=   0.2s\n",
      "[CV] model__C=1, model__max_iter=300, vectorizer__min_df=1000, vectorizer__ngram_range=(1, 2) \n",
      "[CV]  model__C=1, model__max_iter=300, vectorizer__min_df=1000, vectorizer__ngram_range=(1, 2), total=   0.5s\n",
      "[CV] model__C=1, model__max_iter=300, vectorizer__min_df=1000, vectorizer__ngram_range=(1, 2) \n",
      "[CV]  model__C=1, model__max_iter=300, vectorizer__min_df=1000, vectorizer__ngram_range=(1, 2), total=   0.6s\n",
      "[CV] model__C=1, model__max_iter=300, vectorizer__min_df=1000, vectorizer__ngram_range=(1, 2) \n",
      "[CV]  model__C=1, model__max_iter=300, vectorizer__min_df=1000, vectorizer__ngram_range=(1, 2), total=   0.6s\n",
      "[CV] model__C=1, model__max_iter=500, vectorizer__min_df=1, vectorizer__ngram_range=(1, 1) \n",
      "[CV]  model__C=1, model__max_iter=500, vectorizer__min_df=1, vectorizer__ngram_range=(1, 1), total=   0.4s\n",
      "[CV] model__C=1, model__max_iter=500, vectorizer__min_df=1, vectorizer__ngram_range=(1, 1) \n",
      "[CV]  model__C=1, model__max_iter=500, vectorizer__min_df=1, vectorizer__ngram_range=(1, 1), total=   0.6s\n",
      "[CV] model__C=1, model__max_iter=500, vectorizer__min_df=1, vectorizer__ngram_range=(1, 1) \n",
      "[CV]  model__C=1, model__max_iter=500, vectorizer__min_df=1, vectorizer__ngram_range=(1, 1), total=   0.4s\n",
      "[CV] model__C=1, model__max_iter=500, vectorizer__min_df=1, vectorizer__ngram_range=(1, 2) \n",
      "[CV]  model__C=1, model__max_iter=500, vectorizer__min_df=1, vectorizer__ngram_range=(1, 2), total=   1.3s\n",
      "[CV] model__C=1, model__max_iter=500, vectorizer__min_df=1, vectorizer__ngram_range=(1, 2) \n",
      "[CV]  model__C=1, model__max_iter=500, vectorizer__min_df=1, vectorizer__ngram_range=(1, 2), total=   1.4s\n",
      "[CV] model__C=1, model__max_iter=500, vectorizer__min_df=1, vectorizer__ngram_range=(1, 2) \n",
      "[CV]  model__C=1, model__max_iter=500, vectorizer__min_df=1, vectorizer__ngram_range=(1, 2), total=   1.4s\n",
      "[CV] model__C=1, model__max_iter=500, vectorizer__min_df=5, vectorizer__ngram_range=(1, 1) \n",
      "[CV]  model__C=1, model__max_iter=500, vectorizer__min_df=5, vectorizer__ngram_range=(1, 1), total=   0.3s\n",
      "[CV] model__C=1, model__max_iter=500, vectorizer__min_df=5, vectorizer__ngram_range=(1, 1) \n",
      "[CV]  model__C=1, model__max_iter=500, vectorizer__min_df=5, vectorizer__ngram_range=(1, 1), total=   0.4s\n",
      "[CV] model__C=1, model__max_iter=500, vectorizer__min_df=5, vectorizer__ngram_range=(1, 1) \n",
      "[CV]  model__C=1, model__max_iter=500, vectorizer__min_df=5, vectorizer__ngram_range=(1, 1), total=   0.3s\n",
      "[CV] model__C=1, model__max_iter=500, vectorizer__min_df=5, vectorizer__ngram_range=(1, 2) \n",
      "[CV]  model__C=1, model__max_iter=500, vectorizer__min_df=5, vectorizer__ngram_range=(1, 2), total=   0.8s\n",
      "[CV] model__C=1, model__max_iter=500, vectorizer__min_df=5, vectorizer__ngram_range=(1, 2) \n",
      "[CV]  model__C=1, model__max_iter=500, vectorizer__min_df=5, vectorizer__ngram_range=(1, 2), total=   0.8s\n",
      "[CV] model__C=1, model__max_iter=500, vectorizer__min_df=5, vectorizer__ngram_range=(1, 2) \n",
      "[CV]  model__C=1, model__max_iter=500, vectorizer__min_df=5, vectorizer__ngram_range=(1, 2), total=   0.8s\n",
      "[CV] model__C=1, model__max_iter=500, vectorizer__min_df=10, vectorizer__ngram_range=(1, 1) \n",
      "[CV]  model__C=1, model__max_iter=500, vectorizer__min_df=10, vectorizer__ngram_range=(1, 1), total=   0.3s\n",
      "[CV] model__C=1, model__max_iter=500, vectorizer__min_df=10, vectorizer__ngram_range=(1, 1) \n",
      "[CV]  model__C=1, model__max_iter=500, vectorizer__min_df=10, vectorizer__ngram_range=(1, 1), total=   0.3s\n",
      "[CV] model__C=1, model__max_iter=500, vectorizer__min_df=10, vectorizer__ngram_range=(1, 1) \n",
      "[CV]  model__C=1, model__max_iter=500, vectorizer__min_df=10, vectorizer__ngram_range=(1, 1), total=   0.3s\n",
      "[CV] model__C=1, model__max_iter=500, vectorizer__min_df=10, vectorizer__ngram_range=(1, 2) \n",
      "[CV]  model__C=1, model__max_iter=500, vectorizer__min_df=10, vectorizer__ngram_range=(1, 2), total=   0.8s\n",
      "[CV] model__C=1, model__max_iter=500, vectorizer__min_df=10, vectorizer__ngram_range=(1, 2) \n",
      "[CV]  model__C=1, model__max_iter=500, vectorizer__min_df=10, vectorizer__ngram_range=(1, 2), total=   0.8s\n",
      "[CV] model__C=1, model__max_iter=500, vectorizer__min_df=10, vectorizer__ngram_range=(1, 2) \n",
      "[CV]  model__C=1, model__max_iter=500, vectorizer__min_df=10, vectorizer__ngram_range=(1, 2), total=   0.9s\n",
      "[CV] model__C=1, model__max_iter=500, vectorizer__min_df=50, vectorizer__ngram_range=(1, 1) \n",
      "[CV]  model__C=1, model__max_iter=500, vectorizer__min_df=50, vectorizer__ngram_range=(1, 1), total=   0.3s\n",
      "[CV] model__C=1, model__max_iter=500, vectorizer__min_df=50, vectorizer__ngram_range=(1, 1) \n",
      "[CV]  model__C=1, model__max_iter=500, vectorizer__min_df=50, vectorizer__ngram_range=(1, 1), total=   0.3s\n",
      "[CV] model__C=1, model__max_iter=500, vectorizer__min_df=50, vectorizer__ngram_range=(1, 1) \n",
      "[CV]  model__C=1, model__max_iter=500, vectorizer__min_df=50, vectorizer__ngram_range=(1, 1), total=   0.3s\n",
      "[CV] model__C=1, model__max_iter=500, vectorizer__min_df=50, vectorizer__ngram_range=(1, 2) \n",
      "[CV]  model__C=1, model__max_iter=500, vectorizer__min_df=50, vectorizer__ngram_range=(1, 2), total=   0.9s\n",
      "[CV] model__C=1, model__max_iter=500, vectorizer__min_df=50, vectorizer__ngram_range=(1, 2) \n",
      "[CV]  model__C=1, model__max_iter=500, vectorizer__min_df=50, vectorizer__ngram_range=(1, 2), total=   0.9s\n",
      "[CV] model__C=1, model__max_iter=500, vectorizer__min_df=50, vectorizer__ngram_range=(1, 2) \n",
      "[CV]  model__C=1, model__max_iter=500, vectorizer__min_df=50, vectorizer__ngram_range=(1, 2), total=   0.9s\n",
      "[CV] model__C=1, model__max_iter=500, vectorizer__min_df=100, vectorizer__ngram_range=(1, 1) \n",
      "[CV]  model__C=1, model__max_iter=500, vectorizer__min_df=100, vectorizer__ngram_range=(1, 1), total=   0.3s\n",
      "[CV] model__C=1, model__max_iter=500, vectorizer__min_df=100, vectorizer__ngram_range=(1, 1) \n",
      "[CV]  model__C=1, model__max_iter=500, vectorizer__min_df=100, vectorizer__ngram_range=(1, 1), total=   0.3s\n",
      "[CV] model__C=1, model__max_iter=500, vectorizer__min_df=100, vectorizer__ngram_range=(1, 1) \n",
      "[CV]  model__C=1, model__max_iter=500, vectorizer__min_df=100, vectorizer__ngram_range=(1, 1), total=   0.3s\n",
      "[CV] model__C=1, model__max_iter=500, vectorizer__min_df=100, vectorizer__ngram_range=(1, 2) \n",
      "[CV]  model__C=1, model__max_iter=500, vectorizer__min_df=100, vectorizer__ngram_range=(1, 2), total=   0.8s\n",
      "[CV] model__C=1, model__max_iter=500, vectorizer__min_df=100, vectorizer__ngram_range=(1, 2) \n",
      "[CV]  model__C=1, model__max_iter=500, vectorizer__min_df=100, vectorizer__ngram_range=(1, 2), total=   0.8s\n",
      "[CV] model__C=1, model__max_iter=500, vectorizer__min_df=100, vectorizer__ngram_range=(1, 2) \n",
      "[CV]  model__C=1, model__max_iter=500, vectorizer__min_df=100, vectorizer__ngram_range=(1, 2), total=   0.8s\n",
      "[CV] model__C=1, model__max_iter=500, vectorizer__min_df=1000, vectorizer__ngram_range=(1, 1) \n",
      "[CV]  model__C=1, model__max_iter=500, vectorizer__min_df=1000, vectorizer__ngram_range=(1, 1), total=   0.2s\n",
      "[CV] model__C=1, model__max_iter=500, vectorizer__min_df=1000, vectorizer__ngram_range=(1, 1) \n"
     ]
    },
    {
     "name": "stderr",
     "output_type": "stream",
     "text": [
      "/usr/local/lib/python3.6/dist-packages/sklearn/model_selection/_validation.py:536: FitFailedWarning: Estimator fit failed. The score on this train-test partition for these parameters will be set to nan. Details: \n",
      "ValueError: max_df corresponds to < documents than min_df\n",
      "\n",
      "  FitFailedWarning)\n"
     ]
    },
    {
     "name": "stdout",
     "output_type": "stream",
     "text": [
      "[CV]  model__C=1, model__max_iter=500, vectorizer__min_df=1000, vectorizer__ngram_range=(1, 1), total=   0.2s\n",
      "[CV] model__C=1, model__max_iter=500, vectorizer__min_df=1000, vectorizer__ngram_range=(1, 1) \n",
      "[CV]  model__C=1, model__max_iter=500, vectorizer__min_df=1000, vectorizer__ngram_range=(1, 1), total=   0.2s\n",
      "[CV] model__C=1, model__max_iter=500, vectorizer__min_df=1000, vectorizer__ngram_range=(1, 2) \n",
      "[CV]  model__C=1, model__max_iter=500, vectorizer__min_df=1000, vectorizer__ngram_range=(1, 2), total=   0.5s\n",
      "[CV] model__C=1, model__max_iter=500, vectorizer__min_df=1000, vectorizer__ngram_range=(1, 2) \n",
      "[CV]  model__C=1, model__max_iter=500, vectorizer__min_df=1000, vectorizer__ngram_range=(1, 2), total=   0.6s\n",
      "[CV] model__C=1, model__max_iter=500, vectorizer__min_df=1000, vectorizer__ngram_range=(1, 2) \n",
      "[CV]  model__C=1, model__max_iter=500, vectorizer__min_df=1000, vectorizer__ngram_range=(1, 2), total=   0.5s\n",
      "[CV] model__C=1, model__max_iter=1000, vectorizer__min_df=1, vectorizer__ngram_range=(1, 1) \n",
      "[CV]  model__C=1, model__max_iter=1000, vectorizer__min_df=1, vectorizer__ngram_range=(1, 1), total=   0.3s\n",
      "[CV] model__C=1, model__max_iter=1000, vectorizer__min_df=1, vectorizer__ngram_range=(1, 1) \n",
      "[CV]  model__C=1, model__max_iter=1000, vectorizer__min_df=1, vectorizer__ngram_range=(1, 1), total=   0.4s\n",
      "[CV] model__C=1, model__max_iter=1000, vectorizer__min_df=1, vectorizer__ngram_range=(1, 1) \n",
      "[CV]  model__C=1, model__max_iter=1000, vectorizer__min_df=1, vectorizer__ngram_range=(1, 1), total=   0.4s\n",
      "[CV] model__C=1, model__max_iter=1000, vectorizer__min_df=1, vectorizer__ngram_range=(1, 2) \n",
      "[CV]  model__C=1, model__max_iter=1000, vectorizer__min_df=1, vectorizer__ngram_range=(1, 2), total=   1.2s\n",
      "[CV] model__C=1, model__max_iter=1000, vectorizer__min_df=1, vectorizer__ngram_range=(1, 2) \n",
      "[CV]  model__C=1, model__max_iter=1000, vectorizer__min_df=1, vectorizer__ngram_range=(1, 2), total=   1.4s\n",
      "[CV] model__C=1, model__max_iter=1000, vectorizer__min_df=1, vectorizer__ngram_range=(1, 2) \n",
      "[CV]  model__C=1, model__max_iter=1000, vectorizer__min_df=1, vectorizer__ngram_range=(1, 2), total=   1.4s\n",
      "[CV] model__C=1, model__max_iter=1000, vectorizer__min_df=5, vectorizer__ngram_range=(1, 1) \n",
      "[CV]  model__C=1, model__max_iter=1000, vectorizer__min_df=5, vectorizer__ngram_range=(1, 1), total=   0.3s\n",
      "[CV] model__C=1, model__max_iter=1000, vectorizer__min_df=5, vectorizer__ngram_range=(1, 1) \n",
      "[CV]  model__C=1, model__max_iter=1000, vectorizer__min_df=5, vectorizer__ngram_range=(1, 1), total=   0.3s\n",
      "[CV] model__C=1, model__max_iter=1000, vectorizer__min_df=5, vectorizer__ngram_range=(1, 1) \n",
      "[CV]  model__C=1, model__max_iter=1000, vectorizer__min_df=5, vectorizer__ngram_range=(1, 1), total=   0.3s\n",
      "[CV] model__C=1, model__max_iter=1000, vectorizer__min_df=5, vectorizer__ngram_range=(1, 2) \n",
      "[CV]  model__C=1, model__max_iter=1000, vectorizer__min_df=5, vectorizer__ngram_range=(1, 2), total=   0.8s\n",
      "[CV] model__C=1, model__max_iter=1000, vectorizer__min_df=5, vectorizer__ngram_range=(1, 2) \n",
      "[CV]  model__C=1, model__max_iter=1000, vectorizer__min_df=5, vectorizer__ngram_range=(1, 2), total=   0.8s\n",
      "[CV] model__C=1, model__max_iter=1000, vectorizer__min_df=5, vectorizer__ngram_range=(1, 2) \n",
      "[CV]  model__C=1, model__max_iter=1000, vectorizer__min_df=5, vectorizer__ngram_range=(1, 2), total=   0.8s\n",
      "[CV] model__C=1, model__max_iter=1000, vectorizer__min_df=10, vectorizer__ngram_range=(1, 1) \n",
      "[CV]  model__C=1, model__max_iter=1000, vectorizer__min_df=10, vectorizer__ngram_range=(1, 1), total=   0.3s\n",
      "[CV] model__C=1, model__max_iter=1000, vectorizer__min_df=10, vectorizer__ngram_range=(1, 1) \n",
      "[CV]  model__C=1, model__max_iter=1000, vectorizer__min_df=10, vectorizer__ngram_range=(1, 1), total=   0.3s\n",
      "[CV] model__C=1, model__max_iter=1000, vectorizer__min_df=10, vectorizer__ngram_range=(1, 1) \n",
      "[CV]  model__C=1, model__max_iter=1000, vectorizer__min_df=10, vectorizer__ngram_range=(1, 1), total=   0.3s\n",
      "[CV] model__C=1, model__max_iter=1000, vectorizer__min_df=10, vectorizer__ngram_range=(1, 2) \n",
      "[CV]  model__C=1, model__max_iter=1000, vectorizer__min_df=10, vectorizer__ngram_range=(1, 2), total=   0.8s\n",
      "[CV] model__C=1, model__max_iter=1000, vectorizer__min_df=10, vectorizer__ngram_range=(1, 2) \n",
      "[CV]  model__C=1, model__max_iter=1000, vectorizer__min_df=10, vectorizer__ngram_range=(1, 2), total=   1.0s\n",
      "[CV] model__C=1, model__max_iter=1000, vectorizer__min_df=10, vectorizer__ngram_range=(1, 2) \n",
      "[CV]  model__C=1, model__max_iter=1000, vectorizer__min_df=10, vectorizer__ngram_range=(1, 2), total=   0.9s\n",
      "[CV] model__C=1, model__max_iter=1000, vectorizer__min_df=50, vectorizer__ngram_range=(1, 1) \n",
      "[CV]  model__C=1, model__max_iter=1000, vectorizer__min_df=50, vectorizer__ngram_range=(1, 1), total=   0.3s\n",
      "[CV] model__C=1, model__max_iter=1000, vectorizer__min_df=50, vectorizer__ngram_range=(1, 1) \n",
      "[CV]  model__C=1, model__max_iter=1000, vectorizer__min_df=50, vectorizer__ngram_range=(1, 1), total=   0.3s\n",
      "[CV] model__C=1, model__max_iter=1000, vectorizer__min_df=50, vectorizer__ngram_range=(1, 1) \n",
      "[CV]  model__C=1, model__max_iter=1000, vectorizer__min_df=50, vectorizer__ngram_range=(1, 1), total=   0.3s\n",
      "[CV] model__C=1, model__max_iter=1000, vectorizer__min_df=50, vectorizer__ngram_range=(1, 2) \n",
      "[CV]  model__C=1, model__max_iter=1000, vectorizer__min_df=50, vectorizer__ngram_range=(1, 2), total=   0.8s\n",
      "[CV] model__C=1, model__max_iter=1000, vectorizer__min_df=50, vectorizer__ngram_range=(1, 2) \n",
      "[CV]  model__C=1, model__max_iter=1000, vectorizer__min_df=50, vectorizer__ngram_range=(1, 2), total=   0.8s\n",
      "[CV] model__C=1, model__max_iter=1000, vectorizer__min_df=50, vectorizer__ngram_range=(1, 2) \n",
      "[CV]  model__C=1, model__max_iter=1000, vectorizer__min_df=50, vectorizer__ngram_range=(1, 2), total=   0.9s\n",
      "[CV] model__C=1, model__max_iter=1000, vectorizer__min_df=100, vectorizer__ngram_range=(1, 1) \n",
      "[CV]  model__C=1, model__max_iter=1000, vectorizer__min_df=100, vectorizer__ngram_range=(1, 1), total=   0.3s\n",
      "[CV] model__C=1, model__max_iter=1000, vectorizer__min_df=100, vectorizer__ngram_range=(1, 1) \n",
      "[CV]  model__C=1, model__max_iter=1000, vectorizer__min_df=100, vectorizer__ngram_range=(1, 1), total=   0.3s\n",
      "[CV] model__C=1, model__max_iter=1000, vectorizer__min_df=100, vectorizer__ngram_range=(1, 1) \n",
      "[CV]  model__C=1, model__max_iter=1000, vectorizer__min_df=100, vectorizer__ngram_range=(1, 1), total=   0.3s\n",
      "[CV] model__C=1, model__max_iter=1000, vectorizer__min_df=100, vectorizer__ngram_range=(1, 2) \n",
      "[CV]  model__C=1, model__max_iter=1000, vectorizer__min_df=100, vectorizer__ngram_range=(1, 2), total=   0.9s\n",
      "[CV] model__C=1, model__max_iter=1000, vectorizer__min_df=100, vectorizer__ngram_range=(1, 2) \n",
      "[CV]  model__C=1, model__max_iter=1000, vectorizer__min_df=100, vectorizer__ngram_range=(1, 2), total=   0.8s\n",
      "[CV] model__C=1, model__max_iter=1000, vectorizer__min_df=100, vectorizer__ngram_range=(1, 2) \n",
      "[CV]  model__C=1, model__max_iter=1000, vectorizer__min_df=100, vectorizer__ngram_range=(1, 2), total=   0.8s\n",
      "[CV] model__C=1, model__max_iter=1000, vectorizer__min_df=1000, vectorizer__ngram_range=(1, 1) \n",
      "[CV]  model__C=1, model__max_iter=1000, vectorizer__min_df=1000, vectorizer__ngram_range=(1, 1), total=   0.2s\n",
      "[CV] model__C=1, model__max_iter=1000, vectorizer__min_df=1000, vectorizer__ngram_range=(1, 1) \n"
     ]
    },
    {
     "name": "stderr",
     "output_type": "stream",
     "text": [
      "/usr/local/lib/python3.6/dist-packages/sklearn/model_selection/_validation.py:536: FitFailedWarning: Estimator fit failed. The score on this train-test partition for these parameters will be set to nan. Details: \n",
      "ValueError: max_df corresponds to < documents than min_df\n",
      "\n",
      "  FitFailedWarning)\n"
     ]
    },
    {
     "name": "stdout",
     "output_type": "stream",
     "text": [
      "[CV]  model__C=1, model__max_iter=1000, vectorizer__min_df=1000, vectorizer__ngram_range=(1, 1), total=   0.2s\n",
      "[CV] model__C=1, model__max_iter=1000, vectorizer__min_df=1000, vectorizer__ngram_range=(1, 1) \n",
      "[CV]  model__C=1, model__max_iter=1000, vectorizer__min_df=1000, vectorizer__ngram_range=(1, 1), total=   0.2s\n",
      "[CV] model__C=1, model__max_iter=1000, vectorizer__min_df=1000, vectorizer__ngram_range=(1, 2) \n",
      "[CV]  model__C=1, model__max_iter=1000, vectorizer__min_df=1000, vectorizer__ngram_range=(1, 2), total=   0.6s\n",
      "[CV] model__C=1, model__max_iter=1000, vectorizer__min_df=1000, vectorizer__ngram_range=(1, 2) \n",
      "[CV]  model__C=1, model__max_iter=1000, vectorizer__min_df=1000, vectorizer__ngram_range=(1, 2), total=   0.6s\n",
      "[CV] model__C=1, model__max_iter=1000, vectorizer__min_df=1000, vectorizer__ngram_range=(1, 2) \n",
      "[CV]  model__C=1, model__max_iter=1000, vectorizer__min_df=1000, vectorizer__ngram_range=(1, 2), total=   0.6s\n",
      "[CV] model__C=10, model__max_iter=100, vectorizer__min_df=1, vectorizer__ngram_range=(1, 1) \n",
      "[CV]  model__C=10, model__max_iter=100, vectorizer__min_df=1, vectorizer__ngram_range=(1, 1), total=   0.5s\n",
      "[CV] model__C=10, model__max_iter=100, vectorizer__min_df=1, vectorizer__ngram_range=(1, 1) \n",
      "[CV]  model__C=10, model__max_iter=100, vectorizer__min_df=1, vectorizer__ngram_range=(1, 1), total=   0.4s\n",
      "[CV] model__C=10, model__max_iter=100, vectorizer__min_df=1, vectorizer__ngram_range=(1, 1) \n",
      "[CV]  model__C=10, model__max_iter=100, vectorizer__min_df=1, vectorizer__ngram_range=(1, 1), total=   0.6s\n",
      "[CV] model__C=10, model__max_iter=100, vectorizer__min_df=1, vectorizer__ngram_range=(1, 2) \n",
      "[CV]  model__C=10, model__max_iter=100, vectorizer__min_df=1, vectorizer__ngram_range=(1, 2), total=   1.9s\n",
      "[CV] model__C=10, model__max_iter=100, vectorizer__min_df=1, vectorizer__ngram_range=(1, 2) \n",
      "[CV]  model__C=10, model__max_iter=100, vectorizer__min_df=1, vectorizer__ngram_range=(1, 2), total=   1.6s\n",
      "[CV] model__C=10, model__max_iter=100, vectorizer__min_df=1, vectorizer__ngram_range=(1, 2) \n",
      "[CV]  model__C=10, model__max_iter=100, vectorizer__min_df=1, vectorizer__ngram_range=(1, 2), total=   1.6s\n",
      "[CV] model__C=10, model__max_iter=100, vectorizer__min_df=5, vectorizer__ngram_range=(1, 1) \n",
      "[CV]  model__C=10, model__max_iter=100, vectorizer__min_df=5, vectorizer__ngram_range=(1, 1), total=   0.3s\n",
      "[CV] model__C=10, model__max_iter=100, vectorizer__min_df=5, vectorizer__ngram_range=(1, 1) \n",
      "[CV]  model__C=10, model__max_iter=100, vectorizer__min_df=5, vectorizer__ngram_range=(1, 1), total=   0.4s\n",
      "[CV] model__C=10, model__max_iter=100, vectorizer__min_df=5, vectorizer__ngram_range=(1, 1) \n",
      "[CV]  model__C=10, model__max_iter=100, vectorizer__min_df=5, vectorizer__ngram_range=(1, 1), total=   0.3s\n",
      "[CV] model__C=10, model__max_iter=100, vectorizer__min_df=5, vectorizer__ngram_range=(1, 2) \n",
      "[CV]  model__C=10, model__max_iter=100, vectorizer__min_df=5, vectorizer__ngram_range=(1, 2), total=   0.9s\n",
      "[CV] model__C=10, model__max_iter=100, vectorizer__min_df=5, vectorizer__ngram_range=(1, 2) \n",
      "[CV]  model__C=10, model__max_iter=100, vectorizer__min_df=5, vectorizer__ngram_range=(1, 2), total=   0.9s\n",
      "[CV] model__C=10, model__max_iter=100, vectorizer__min_df=5, vectorizer__ngram_range=(1, 2) \n",
      "[CV]  model__C=10, model__max_iter=100, vectorizer__min_df=5, vectorizer__ngram_range=(1, 2), total=   0.9s\n",
      "[CV] model__C=10, model__max_iter=100, vectorizer__min_df=10, vectorizer__ngram_range=(1, 1) \n",
      "[CV]  model__C=10, model__max_iter=100, vectorizer__min_df=10, vectorizer__ngram_range=(1, 1), total=   0.3s\n",
      "[CV] model__C=10, model__max_iter=100, vectorizer__min_df=10, vectorizer__ngram_range=(1, 1) \n",
      "[CV]  model__C=10, model__max_iter=100, vectorizer__min_df=10, vectorizer__ngram_range=(1, 1), total=   0.3s\n",
      "[CV] model__C=10, model__max_iter=100, vectorizer__min_df=10, vectorizer__ngram_range=(1, 1) \n",
      "[CV]  model__C=10, model__max_iter=100, vectorizer__min_df=10, vectorizer__ngram_range=(1, 1), total=   0.3s\n",
      "[CV] model__C=10, model__max_iter=100, vectorizer__min_df=10, vectorizer__ngram_range=(1, 2) \n",
      "[CV]  model__C=10, model__max_iter=100, vectorizer__min_df=10, vectorizer__ngram_range=(1, 2), total=   0.9s\n",
      "[CV] model__C=10, model__max_iter=100, vectorizer__min_df=10, vectorizer__ngram_range=(1, 2) \n",
      "[CV]  model__C=10, model__max_iter=100, vectorizer__min_df=10, vectorizer__ngram_range=(1, 2), total=   1.0s\n",
      "[CV] model__C=10, model__max_iter=100, vectorizer__min_df=10, vectorizer__ngram_range=(1, 2) \n",
      "[CV]  model__C=10, model__max_iter=100, vectorizer__min_df=10, vectorizer__ngram_range=(1, 2), total=   1.0s\n",
      "[CV] model__C=10, model__max_iter=100, vectorizer__min_df=50, vectorizer__ngram_range=(1, 1) \n",
      "[CV]  model__C=10, model__max_iter=100, vectorizer__min_df=50, vectorizer__ngram_range=(1, 1), total=   0.3s\n",
      "[CV] model__C=10, model__max_iter=100, vectorizer__min_df=50, vectorizer__ngram_range=(1, 1) \n",
      "[CV]  model__C=10, model__max_iter=100, vectorizer__min_df=50, vectorizer__ngram_range=(1, 1), total=   0.3s\n",
      "[CV] model__C=10, model__max_iter=100, vectorizer__min_df=50, vectorizer__ngram_range=(1, 1) \n",
      "[CV]  model__C=10, model__max_iter=100, vectorizer__min_df=50, vectorizer__ngram_range=(1, 1), total=   0.3s\n",
      "[CV] model__C=10, model__max_iter=100, vectorizer__min_df=50, vectorizer__ngram_range=(1, 2) \n",
      "[CV]  model__C=10, model__max_iter=100, vectorizer__min_df=50, vectorizer__ngram_range=(1, 2), total=   0.9s\n",
      "[CV] model__C=10, model__max_iter=100, vectorizer__min_df=50, vectorizer__ngram_range=(1, 2) \n",
      "[CV]  model__C=10, model__max_iter=100, vectorizer__min_df=50, vectorizer__ngram_range=(1, 2), total=   1.0s\n",
      "[CV] model__C=10, model__max_iter=100, vectorizer__min_df=50, vectorizer__ngram_range=(1, 2) \n",
      "[CV]  model__C=10, model__max_iter=100, vectorizer__min_df=50, vectorizer__ngram_range=(1, 2), total=   0.9s\n",
      "[CV] model__C=10, model__max_iter=100, vectorizer__min_df=100, vectorizer__ngram_range=(1, 1) \n",
      "[CV]  model__C=10, model__max_iter=100, vectorizer__min_df=100, vectorizer__ngram_range=(1, 1), total=   0.3s\n",
      "[CV] model__C=10, model__max_iter=100, vectorizer__min_df=100, vectorizer__ngram_range=(1, 1) \n",
      "[CV]  model__C=10, model__max_iter=100, vectorizer__min_df=100, vectorizer__ngram_range=(1, 1), total=   0.3s\n",
      "[CV] model__C=10, model__max_iter=100, vectorizer__min_df=100, vectorizer__ngram_range=(1, 1) \n",
      "[CV]  model__C=10, model__max_iter=100, vectorizer__min_df=100, vectorizer__ngram_range=(1, 1), total=   0.3s\n",
      "[CV] model__C=10, model__max_iter=100, vectorizer__min_df=100, vectorizer__ngram_range=(1, 2) \n",
      "[CV]  model__C=10, model__max_iter=100, vectorizer__min_df=100, vectorizer__ngram_range=(1, 2), total=   1.0s\n",
      "[CV] model__C=10, model__max_iter=100, vectorizer__min_df=100, vectorizer__ngram_range=(1, 2) \n",
      "[CV]  model__C=10, model__max_iter=100, vectorizer__min_df=100, vectorizer__ngram_range=(1, 2), total=   0.9s\n",
      "[CV] model__C=10, model__max_iter=100, vectorizer__min_df=100, vectorizer__ngram_range=(1, 2) \n",
      "[CV]  model__C=10, model__max_iter=100, vectorizer__min_df=100, vectorizer__ngram_range=(1, 2), total=   0.8s\n",
      "[CV] model__C=10, model__max_iter=100, vectorizer__min_df=1000, vectorizer__ngram_range=(1, 1) \n",
      "[CV]  model__C=10, model__max_iter=100, vectorizer__min_df=1000, vectorizer__ngram_range=(1, 1), total=   0.2s\n",
      "[CV] model__C=10, model__max_iter=100, vectorizer__min_df=1000, vectorizer__ngram_range=(1, 1) \n"
     ]
    },
    {
     "name": "stderr",
     "output_type": "stream",
     "text": [
      "/usr/local/lib/python3.6/dist-packages/sklearn/model_selection/_validation.py:536: FitFailedWarning: Estimator fit failed. The score on this train-test partition for these parameters will be set to nan. Details: \n",
      "ValueError: max_df corresponds to < documents than min_df\n",
      "\n",
      "  FitFailedWarning)\n"
     ]
    },
    {
     "name": "stdout",
     "output_type": "stream",
     "text": [
      "[CV]  model__C=10, model__max_iter=100, vectorizer__min_df=1000, vectorizer__ngram_range=(1, 1), total=   0.2s\n",
      "[CV] model__C=10, model__max_iter=100, vectorizer__min_df=1000, vectorizer__ngram_range=(1, 1) \n",
      "[CV]  model__C=10, model__max_iter=100, vectorizer__min_df=1000, vectorizer__ngram_range=(1, 1), total=   0.2s\n",
      "[CV] model__C=10, model__max_iter=100, vectorizer__min_df=1000, vectorizer__ngram_range=(1, 2) \n",
      "[CV]  model__C=10, model__max_iter=100, vectorizer__min_df=1000, vectorizer__ngram_range=(1, 2), total=   0.7s\n",
      "[CV] model__C=10, model__max_iter=100, vectorizer__min_df=1000, vectorizer__ngram_range=(1, 2) \n",
      "[CV]  model__C=10, model__max_iter=100, vectorizer__min_df=1000, vectorizer__ngram_range=(1, 2), total=   0.8s\n",
      "[CV] model__C=10, model__max_iter=100, vectorizer__min_df=1000, vectorizer__ngram_range=(1, 2) \n",
      "[CV]  model__C=10, model__max_iter=100, vectorizer__min_df=1000, vectorizer__ngram_range=(1, 2), total=   0.7s\n",
      "[CV] model__C=10, model__max_iter=200, vectorizer__min_df=1, vectorizer__ngram_range=(1, 1) \n",
      "[CV]  model__C=10, model__max_iter=200, vectorizer__min_df=1, vectorizer__ngram_range=(1, 1), total=   1.2s\n",
      "[CV] model__C=10, model__max_iter=200, vectorizer__min_df=1, vectorizer__ngram_range=(1, 1) \n",
      "[CV]  model__C=10, model__max_iter=200, vectorizer__min_df=1, vectorizer__ngram_range=(1, 1), total=   0.5s\n",
      "[CV] model__C=10, model__max_iter=200, vectorizer__min_df=1, vectorizer__ngram_range=(1, 1) \n",
      "[CV]  model__C=10, model__max_iter=200, vectorizer__min_df=1, vectorizer__ngram_range=(1, 1), total=   0.9s\n",
      "[CV] model__C=10, model__max_iter=200, vectorizer__min_df=1, vectorizer__ngram_range=(1, 2) \n",
      "[CV]  model__C=10, model__max_iter=200, vectorizer__min_df=1, vectorizer__ngram_range=(1, 2), total=   1.4s\n",
      "[CV] model__C=10, model__max_iter=200, vectorizer__min_df=1, vectorizer__ngram_range=(1, 2) \n",
      "[CV]  model__C=10, model__max_iter=200, vectorizer__min_df=1, vectorizer__ngram_range=(1, 2), total=   1.5s\n",
      "[CV] model__C=10, model__max_iter=200, vectorizer__min_df=1, vectorizer__ngram_range=(1, 2) \n",
      "[CV]  model__C=10, model__max_iter=200, vectorizer__min_df=1, vectorizer__ngram_range=(1, 2), total=   2.0s\n",
      "[CV] model__C=10, model__max_iter=200, vectorizer__min_df=5, vectorizer__ngram_range=(1, 1) \n",
      "[CV]  model__C=10, model__max_iter=200, vectorizer__min_df=5, vectorizer__ngram_range=(1, 1), total=   0.3s\n",
      "[CV] model__C=10, model__max_iter=200, vectorizer__min_df=5, vectorizer__ngram_range=(1, 1) \n",
      "[CV]  model__C=10, model__max_iter=200, vectorizer__min_df=5, vectorizer__ngram_range=(1, 1), total=   0.4s\n",
      "[CV] model__C=10, model__max_iter=200, vectorizer__min_df=5, vectorizer__ngram_range=(1, 1) \n",
      "[CV]  model__C=10, model__max_iter=200, vectorizer__min_df=5, vectorizer__ngram_range=(1, 1), total=   0.3s\n",
      "[CV] model__C=10, model__max_iter=200, vectorizer__min_df=5, vectorizer__ngram_range=(1, 2) \n",
      "[CV]  model__C=10, model__max_iter=200, vectorizer__min_df=5, vectorizer__ngram_range=(1, 2), total=   0.9s\n",
      "[CV] model__C=10, model__max_iter=200, vectorizer__min_df=5, vectorizer__ngram_range=(1, 2) \n",
      "[CV]  model__C=10, model__max_iter=200, vectorizer__min_df=5, vectorizer__ngram_range=(1, 2), total=   0.9s\n",
      "[CV] model__C=10, model__max_iter=200, vectorizer__min_df=5, vectorizer__ngram_range=(1, 2) \n",
      "[CV]  model__C=10, model__max_iter=200, vectorizer__min_df=5, vectorizer__ngram_range=(1, 2), total=   0.9s\n",
      "[CV] model__C=10, model__max_iter=200, vectorizer__min_df=10, vectorizer__ngram_range=(1, 1) \n",
      "[CV]  model__C=10, model__max_iter=200, vectorizer__min_df=10, vectorizer__ngram_range=(1, 1), total=   0.3s\n",
      "[CV] model__C=10, model__max_iter=200, vectorizer__min_df=10, vectorizer__ngram_range=(1, 1) \n",
      "[CV]  model__C=10, model__max_iter=200, vectorizer__min_df=10, vectorizer__ngram_range=(1, 1), total=   0.3s\n",
      "[CV] model__C=10, model__max_iter=200, vectorizer__min_df=10, vectorizer__ngram_range=(1, 1) \n",
      "[CV]  model__C=10, model__max_iter=200, vectorizer__min_df=10, vectorizer__ngram_range=(1, 1), total=   0.3s\n",
      "[CV] model__C=10, model__max_iter=200, vectorizer__min_df=10, vectorizer__ngram_range=(1, 2) \n",
      "[CV]  model__C=10, model__max_iter=200, vectorizer__min_df=10, vectorizer__ngram_range=(1, 2), total=   0.9s\n",
      "[CV] model__C=10, model__max_iter=200, vectorizer__min_df=10, vectorizer__ngram_range=(1, 2) \n",
      "[CV]  model__C=10, model__max_iter=200, vectorizer__min_df=10, vectorizer__ngram_range=(1, 2), total=   1.0s\n",
      "[CV] model__C=10, model__max_iter=200, vectorizer__min_df=10, vectorizer__ngram_range=(1, 2) \n",
      "[CV]  model__C=10, model__max_iter=200, vectorizer__min_df=10, vectorizer__ngram_range=(1, 2), total=   1.0s\n",
      "[CV] model__C=10, model__max_iter=200, vectorizer__min_df=50, vectorizer__ngram_range=(1, 1) \n",
      "[CV]  model__C=10, model__max_iter=200, vectorizer__min_df=50, vectorizer__ngram_range=(1, 1), total=   0.3s\n",
      "[CV] model__C=10, model__max_iter=200, vectorizer__min_df=50, vectorizer__ngram_range=(1, 1) \n",
      "[CV]  model__C=10, model__max_iter=200, vectorizer__min_df=50, vectorizer__ngram_range=(1, 1), total=   0.4s\n",
      "[CV] model__C=10, model__max_iter=200, vectorizer__min_df=50, vectorizer__ngram_range=(1, 1) \n",
      "[CV]  model__C=10, model__max_iter=200, vectorizer__min_df=50, vectorizer__ngram_range=(1, 1), total=   0.3s\n",
      "[CV] model__C=10, model__max_iter=200, vectorizer__min_df=50, vectorizer__ngram_range=(1, 2) \n",
      "[CV]  model__C=10, model__max_iter=200, vectorizer__min_df=50, vectorizer__ngram_range=(1, 2), total=   0.8s\n",
      "[CV] model__C=10, model__max_iter=200, vectorizer__min_df=50, vectorizer__ngram_range=(1, 2) \n",
      "[CV]  model__C=10, model__max_iter=200, vectorizer__min_df=50, vectorizer__ngram_range=(1, 2), total=   0.9s\n",
      "[CV] model__C=10, model__max_iter=200, vectorizer__min_df=50, vectorizer__ngram_range=(1, 2) \n",
      "[CV]  model__C=10, model__max_iter=200, vectorizer__min_df=50, vectorizer__ngram_range=(1, 2), total=   0.9s\n",
      "[CV] model__C=10, model__max_iter=200, vectorizer__min_df=100, vectorizer__ngram_range=(1, 1) \n",
      "[CV]  model__C=10, model__max_iter=200, vectorizer__min_df=100, vectorizer__ngram_range=(1, 1), total=   0.3s\n",
      "[CV] model__C=10, model__max_iter=200, vectorizer__min_df=100, vectorizer__ngram_range=(1, 1) \n",
      "[CV]  model__C=10, model__max_iter=200, vectorizer__min_df=100, vectorizer__ngram_range=(1, 1), total=   0.3s\n",
      "[CV] model__C=10, model__max_iter=200, vectorizer__min_df=100, vectorizer__ngram_range=(1, 1) \n",
      "[CV]  model__C=10, model__max_iter=200, vectorizer__min_df=100, vectorizer__ngram_range=(1, 1), total=   0.3s\n",
      "[CV] model__C=10, model__max_iter=200, vectorizer__min_df=100, vectorizer__ngram_range=(1, 2) \n",
      "[CV]  model__C=10, model__max_iter=200, vectorizer__min_df=100, vectorizer__ngram_range=(1, 2), total=   1.0s\n",
      "[CV] model__C=10, model__max_iter=200, vectorizer__min_df=100, vectorizer__ngram_range=(1, 2) \n",
      "[CV]  model__C=10, model__max_iter=200, vectorizer__min_df=100, vectorizer__ngram_range=(1, 2), total=   0.9s\n",
      "[CV] model__C=10, model__max_iter=200, vectorizer__min_df=100, vectorizer__ngram_range=(1, 2) \n",
      "[CV]  model__C=10, model__max_iter=200, vectorizer__min_df=100, vectorizer__ngram_range=(1, 2), total=   0.8s\n",
      "[CV] model__C=10, model__max_iter=200, vectorizer__min_df=1000, vectorizer__ngram_range=(1, 1) \n",
      "[CV]  model__C=10, model__max_iter=200, vectorizer__min_df=1000, vectorizer__ngram_range=(1, 1), total=   0.2s\n",
      "[CV] model__C=10, model__max_iter=200, vectorizer__min_df=1000, vectorizer__ngram_range=(1, 1) \n"
     ]
    },
    {
     "name": "stderr",
     "output_type": "stream",
     "text": [
      "/usr/local/lib/python3.6/dist-packages/sklearn/model_selection/_validation.py:536: FitFailedWarning: Estimator fit failed. The score on this train-test partition for these parameters will be set to nan. Details: \n",
      "ValueError: max_df corresponds to < documents than min_df\n",
      "\n",
      "  FitFailedWarning)\n"
     ]
    },
    {
     "name": "stdout",
     "output_type": "stream",
     "text": [
      "[CV]  model__C=10, model__max_iter=200, vectorizer__min_df=1000, vectorizer__ngram_range=(1, 1), total=   0.2s\n",
      "[CV] model__C=10, model__max_iter=200, vectorizer__min_df=1000, vectorizer__ngram_range=(1, 1) \n",
      "[CV]  model__C=10, model__max_iter=200, vectorizer__min_df=1000, vectorizer__ngram_range=(1, 1), total=   0.2s\n",
      "[CV] model__C=10, model__max_iter=200, vectorizer__min_df=1000, vectorizer__ngram_range=(1, 2) \n",
      "[CV]  model__C=10, model__max_iter=200, vectorizer__min_df=1000, vectorizer__ngram_range=(1, 2), total=   0.7s\n",
      "[CV] model__C=10, model__max_iter=200, vectorizer__min_df=1000, vectorizer__ngram_range=(1, 2) \n",
      "[CV]  model__C=10, model__max_iter=200, vectorizer__min_df=1000, vectorizer__ngram_range=(1, 2), total=   0.6s\n",
      "[CV] model__C=10, model__max_iter=200, vectorizer__min_df=1000, vectorizer__ngram_range=(1, 2) \n",
      "[CV]  model__C=10, model__max_iter=200, vectorizer__min_df=1000, vectorizer__ngram_range=(1, 2), total=   0.7s\n",
      "[CV] model__C=10, model__max_iter=300, vectorizer__min_df=1, vectorizer__ngram_range=(1, 1) \n",
      "[CV]  model__C=10, model__max_iter=300, vectorizer__min_df=1, vectorizer__ngram_range=(1, 1), total=   0.8s\n",
      "[CV] model__C=10, model__max_iter=300, vectorizer__min_df=1, vectorizer__ngram_range=(1, 1) \n",
      "[CV]  model__C=10, model__max_iter=300, vectorizer__min_df=1, vectorizer__ngram_range=(1, 1), total=   0.7s\n",
      "[CV] model__C=10, model__max_iter=300, vectorizer__min_df=1, vectorizer__ngram_range=(1, 1) \n",
      "[CV]  model__C=10, model__max_iter=300, vectorizer__min_df=1, vectorizer__ngram_range=(1, 1), total=   0.8s\n",
      "[CV] model__C=10, model__max_iter=300, vectorizer__min_df=1, vectorizer__ngram_range=(1, 2) \n",
      "[CV]  model__C=10, model__max_iter=300, vectorizer__min_df=1, vectorizer__ngram_range=(1, 2), total=   2.1s\n",
      "[CV] model__C=10, model__max_iter=300, vectorizer__min_df=1, vectorizer__ngram_range=(1, 2) \n",
      "[CV]  model__C=10, model__max_iter=300, vectorizer__min_df=1, vectorizer__ngram_range=(1, 2), total=   1.9s\n",
      "[CV] model__C=10, model__max_iter=300, vectorizer__min_df=1, vectorizer__ngram_range=(1, 2) \n",
      "[CV]  model__C=10, model__max_iter=300, vectorizer__min_df=1, vectorizer__ngram_range=(1, 2), total=   2.0s\n",
      "[CV] model__C=10, model__max_iter=300, vectorizer__min_df=5, vectorizer__ngram_range=(1, 1) \n",
      "[CV]  model__C=10, model__max_iter=300, vectorizer__min_df=5, vectorizer__ngram_range=(1, 1), total=   0.3s\n",
      "[CV] model__C=10, model__max_iter=300, vectorizer__min_df=5, vectorizer__ngram_range=(1, 1) \n",
      "[CV]  model__C=10, model__max_iter=300, vectorizer__min_df=5, vectorizer__ngram_range=(1, 1), total=   0.4s\n",
      "[CV] model__C=10, model__max_iter=300, vectorizer__min_df=5, vectorizer__ngram_range=(1, 1) \n",
      "[CV]  model__C=10, model__max_iter=300, vectorizer__min_df=5, vectorizer__ngram_range=(1, 1), total=   0.3s\n",
      "[CV] model__C=10, model__max_iter=300, vectorizer__min_df=5, vectorizer__ngram_range=(1, 2) \n",
      "[CV]  model__C=10, model__max_iter=300, vectorizer__min_df=5, vectorizer__ngram_range=(1, 2), total=   1.1s\n",
      "[CV] model__C=10, model__max_iter=300, vectorizer__min_df=5, vectorizer__ngram_range=(1, 2) \n",
      "[CV]  model__C=10, model__max_iter=300, vectorizer__min_df=5, vectorizer__ngram_range=(1, 2), total=   1.2s\n",
      "[CV] model__C=10, model__max_iter=300, vectorizer__min_df=5, vectorizer__ngram_range=(1, 2) \n",
      "[CV]  model__C=10, model__max_iter=300, vectorizer__min_df=5, vectorizer__ngram_range=(1, 2), total=   1.0s\n",
      "[CV] model__C=10, model__max_iter=300, vectorizer__min_df=10, vectorizer__ngram_range=(1, 1) \n",
      "[CV]  model__C=10, model__max_iter=300, vectorizer__min_df=10, vectorizer__ngram_range=(1, 1), total=   0.4s\n",
      "[CV] model__C=10, model__max_iter=300, vectorizer__min_df=10, vectorizer__ngram_range=(1, 1) \n",
      "[CV]  model__C=10, model__max_iter=300, vectorizer__min_df=10, vectorizer__ngram_range=(1, 1), total=   0.4s\n",
      "[CV] model__C=10, model__max_iter=300, vectorizer__min_df=10, vectorizer__ngram_range=(1, 1) \n",
      "[CV]  model__C=10, model__max_iter=300, vectorizer__min_df=10, vectorizer__ngram_range=(1, 1), total=   0.3s\n",
      "[CV] model__C=10, model__max_iter=300, vectorizer__min_df=10, vectorizer__ngram_range=(1, 2) \n",
      "[CV]  model__C=10, model__max_iter=300, vectorizer__min_df=10, vectorizer__ngram_range=(1, 2), total=   1.3s\n",
      "[CV] model__C=10, model__max_iter=300, vectorizer__min_df=10, vectorizer__ngram_range=(1, 2) \n",
      "[CV]  model__C=10, model__max_iter=300, vectorizer__min_df=10, vectorizer__ngram_range=(1, 2), total=   1.6s\n",
      "[CV] model__C=10, model__max_iter=300, vectorizer__min_df=10, vectorizer__ngram_range=(1, 2) \n",
      "[CV]  model__C=10, model__max_iter=300, vectorizer__min_df=10, vectorizer__ngram_range=(1, 2), total=   1.3s\n",
      "[CV] model__C=10, model__max_iter=300, vectorizer__min_df=50, vectorizer__ngram_range=(1, 1) \n",
      "[CV]  model__C=10, model__max_iter=300, vectorizer__min_df=50, vectorizer__ngram_range=(1, 1), total=   0.4s\n",
      "[CV] model__C=10, model__max_iter=300, vectorizer__min_df=50, vectorizer__ngram_range=(1, 1) \n",
      "[CV]  model__C=10, model__max_iter=300, vectorizer__min_df=50, vectorizer__ngram_range=(1, 1), total=   0.3s\n",
      "[CV] model__C=10, model__max_iter=300, vectorizer__min_df=50, vectorizer__ngram_range=(1, 1) \n",
      "[CV]  model__C=10, model__max_iter=300, vectorizer__min_df=50, vectorizer__ngram_range=(1, 1), total=   0.3s\n",
      "[CV] model__C=10, model__max_iter=300, vectorizer__min_df=50, vectorizer__ngram_range=(1, 2) \n",
      "[CV]  model__C=10, model__max_iter=300, vectorizer__min_df=50, vectorizer__ngram_range=(1, 2), total=   1.0s\n",
      "[CV] model__C=10, model__max_iter=300, vectorizer__min_df=50, vectorizer__ngram_range=(1, 2) \n",
      "[CV]  model__C=10, model__max_iter=300, vectorizer__min_df=50, vectorizer__ngram_range=(1, 2), total=   1.0s\n",
      "[CV] model__C=10, model__max_iter=300, vectorizer__min_df=50, vectorizer__ngram_range=(1, 2) \n",
      "[CV]  model__C=10, model__max_iter=300, vectorizer__min_df=50, vectorizer__ngram_range=(1, 2), total=   1.0s\n",
      "[CV] model__C=10, model__max_iter=300, vectorizer__min_df=100, vectorizer__ngram_range=(1, 1) \n",
      "[CV]  model__C=10, model__max_iter=300, vectorizer__min_df=100, vectorizer__ngram_range=(1, 1), total=   0.4s\n",
      "[CV] model__C=10, model__max_iter=300, vectorizer__min_df=100, vectorizer__ngram_range=(1, 1) \n",
      "[CV]  model__C=10, model__max_iter=300, vectorizer__min_df=100, vectorizer__ngram_range=(1, 1), total=   0.4s\n",
      "[CV] model__C=10, model__max_iter=300, vectorizer__min_df=100, vectorizer__ngram_range=(1, 1) \n",
      "[CV]  model__C=10, model__max_iter=300, vectorizer__min_df=100, vectorizer__ngram_range=(1, 1), total=   0.3s\n",
      "[CV] model__C=10, model__max_iter=300, vectorizer__min_df=100, vectorizer__ngram_range=(1, 2) \n",
      "[CV]  model__C=10, model__max_iter=300, vectorizer__min_df=100, vectorizer__ngram_range=(1, 2), total=   0.9s\n",
      "[CV] model__C=10, model__max_iter=300, vectorizer__min_df=100, vectorizer__ngram_range=(1, 2) \n",
      "[CV]  model__C=10, model__max_iter=300, vectorizer__min_df=100, vectorizer__ngram_range=(1, 2), total=   0.9s\n",
      "[CV] model__C=10, model__max_iter=300, vectorizer__min_df=100, vectorizer__ngram_range=(1, 2) \n",
      "[CV]  model__C=10, model__max_iter=300, vectorizer__min_df=100, vectorizer__ngram_range=(1, 2), total=   0.9s\n",
      "[CV] model__C=10, model__max_iter=300, vectorizer__min_df=1000, vectorizer__ngram_range=(1, 1) \n"
     ]
    },
    {
     "name": "stderr",
     "output_type": "stream",
     "text": [
      "/usr/local/lib/python3.6/dist-packages/sklearn/model_selection/_validation.py:536: FitFailedWarning: Estimator fit failed. The score on this train-test partition for these parameters will be set to nan. Details: \n",
      "ValueError: max_df corresponds to < documents than min_df\n",
      "\n",
      "  FitFailedWarning)\n"
     ]
    },
    {
     "name": "stdout",
     "output_type": "stream",
     "text": [
      "[CV]  model__C=10, model__max_iter=300, vectorizer__min_df=1000, vectorizer__ngram_range=(1, 1), total=   0.2s\n",
      "[CV] model__C=10, model__max_iter=300, vectorizer__min_df=1000, vectorizer__ngram_range=(1, 1) \n",
      "[CV]  model__C=10, model__max_iter=300, vectorizer__min_df=1000, vectorizer__ngram_range=(1, 1), total=   0.2s\n",
      "[CV] model__C=10, model__max_iter=300, vectorizer__min_df=1000, vectorizer__ngram_range=(1, 1) \n",
      "[CV]  model__C=10, model__max_iter=300, vectorizer__min_df=1000, vectorizer__ngram_range=(1, 1), total=   0.2s\n",
      "[CV] model__C=10, model__max_iter=300, vectorizer__min_df=1000, vectorizer__ngram_range=(1, 2) \n",
      "[CV]  model__C=10, model__max_iter=300, vectorizer__min_df=1000, vectorizer__ngram_range=(1, 2), total=   0.6s\n",
      "[CV] model__C=10, model__max_iter=300, vectorizer__min_df=1000, vectorizer__ngram_range=(1, 2) \n",
      "[CV]  model__C=10, model__max_iter=300, vectorizer__min_df=1000, vectorizer__ngram_range=(1, 2), total=   0.6s\n",
      "[CV] model__C=10, model__max_iter=300, vectorizer__min_df=1000, vectorizer__ngram_range=(1, 2) \n",
      "[CV]  model__C=10, model__max_iter=300, vectorizer__min_df=1000, vectorizer__ngram_range=(1, 2), total=   0.6s\n",
      "[CV] model__C=10, model__max_iter=500, vectorizer__min_df=1, vectorizer__ngram_range=(1, 1) \n",
      "[CV]  model__C=10, model__max_iter=500, vectorizer__min_df=1, vectorizer__ngram_range=(1, 1), total=   1.2s\n",
      "[CV] model__C=10, model__max_iter=500, vectorizer__min_df=1, vectorizer__ngram_range=(1, 1) \n",
      "[CV]  model__C=10, model__max_iter=500, vectorizer__min_df=1, vectorizer__ngram_range=(1, 1), total=   0.7s\n",
      "[CV] model__C=10, model__max_iter=500, vectorizer__min_df=1, vectorizer__ngram_range=(1, 1) \n",
      "[CV]  model__C=10, model__max_iter=500, vectorizer__min_df=1, vectorizer__ngram_range=(1, 1), total=   0.9s\n",
      "[CV] model__C=10, model__max_iter=500, vectorizer__min_df=1, vectorizer__ngram_range=(1, 2) \n",
      "[CV]  model__C=10, model__max_iter=500, vectorizer__min_df=1, vectorizer__ngram_range=(1, 2), total=   2.1s\n",
      "[CV] model__C=10, model__max_iter=500, vectorizer__min_df=1, vectorizer__ngram_range=(1, 2) \n",
      "[CV]  model__C=10, model__max_iter=500, vectorizer__min_df=1, vectorizer__ngram_range=(1, 2), total=   1.9s\n",
      "[CV] model__C=10, model__max_iter=500, vectorizer__min_df=1, vectorizer__ngram_range=(1, 2) \n",
      "[CV]  model__C=10, model__max_iter=500, vectorizer__min_df=1, vectorizer__ngram_range=(1, 2), total=   2.5s\n",
      "[CV] model__C=10, model__max_iter=500, vectorizer__min_df=5, vectorizer__ngram_range=(1, 1) \n",
      "[CV]  model__C=10, model__max_iter=500, vectorizer__min_df=5, vectorizer__ngram_range=(1, 1), total=   0.3s\n",
      "[CV] model__C=10, model__max_iter=500, vectorizer__min_df=5, vectorizer__ngram_range=(1, 1) \n",
      "[CV]  model__C=10, model__max_iter=500, vectorizer__min_df=5, vectorizer__ngram_range=(1, 1), total=   0.4s\n",
      "[CV] model__C=10, model__max_iter=500, vectorizer__min_df=5, vectorizer__ngram_range=(1, 1) \n",
      "[CV]  model__C=10, model__max_iter=500, vectorizer__min_df=5, vectorizer__ngram_range=(1, 1), total=   0.3s\n",
      "[CV] model__C=10, model__max_iter=500, vectorizer__min_df=5, vectorizer__ngram_range=(1, 2) \n",
      "[CV]  model__C=10, model__max_iter=500, vectorizer__min_df=5, vectorizer__ngram_range=(1, 2), total=   0.9s\n",
      "[CV] model__C=10, model__max_iter=500, vectorizer__min_df=5, vectorizer__ngram_range=(1, 2) \n",
      "[CV]  model__C=10, model__max_iter=500, vectorizer__min_df=5, vectorizer__ngram_range=(1, 2), total=   1.1s\n",
      "[CV] model__C=10, model__max_iter=500, vectorizer__min_df=5, vectorizer__ngram_range=(1, 2) \n",
      "[CV]  model__C=10, model__max_iter=500, vectorizer__min_df=5, vectorizer__ngram_range=(1, 2), total=   1.1s\n",
      "[CV] model__C=10, model__max_iter=500, vectorizer__min_df=10, vectorizer__ngram_range=(1, 1) \n",
      "[CV]  model__C=10, model__max_iter=500, vectorizer__min_df=10, vectorizer__ngram_range=(1, 1), total=   0.3s\n",
      "[CV] model__C=10, model__max_iter=500, vectorizer__min_df=10, vectorizer__ngram_range=(1, 1) \n",
      "[CV]  model__C=10, model__max_iter=500, vectorizer__min_df=10, vectorizer__ngram_range=(1, 1), total=   0.3s\n",
      "[CV] model__C=10, model__max_iter=500, vectorizer__min_df=10, vectorizer__ngram_range=(1, 1) \n",
      "[CV]  model__C=10, model__max_iter=500, vectorizer__min_df=10, vectorizer__ngram_range=(1, 1), total=   0.3s\n",
      "[CV] model__C=10, model__max_iter=500, vectorizer__min_df=10, vectorizer__ngram_range=(1, 2) \n",
      "[CV]  model__C=10, model__max_iter=500, vectorizer__min_df=10, vectorizer__ngram_range=(1, 2), total=   0.9s\n",
      "[CV] model__C=10, model__max_iter=500, vectorizer__min_df=10, vectorizer__ngram_range=(1, 2) \n",
      "[CV]  model__C=10, model__max_iter=500, vectorizer__min_df=10, vectorizer__ngram_range=(1, 2), total=   1.0s\n",
      "[CV] model__C=10, model__max_iter=500, vectorizer__min_df=10, vectorizer__ngram_range=(1, 2) \n",
      "[CV]  model__C=10, model__max_iter=500, vectorizer__min_df=10, vectorizer__ngram_range=(1, 2), total=   1.0s\n",
      "[CV] model__C=10, model__max_iter=500, vectorizer__min_df=50, vectorizer__ngram_range=(1, 1) \n",
      "[CV]  model__C=10, model__max_iter=500, vectorizer__min_df=50, vectorizer__ngram_range=(1, 1), total=   0.3s\n",
      "[CV] model__C=10, model__max_iter=500, vectorizer__min_df=50, vectorizer__ngram_range=(1, 1) \n",
      "[CV]  model__C=10, model__max_iter=500, vectorizer__min_df=50, vectorizer__ngram_range=(1, 1), total=   0.3s\n",
      "[CV] model__C=10, model__max_iter=500, vectorizer__min_df=50, vectorizer__ngram_range=(1, 1) \n",
      "[CV]  model__C=10, model__max_iter=500, vectorizer__min_df=50, vectorizer__ngram_range=(1, 1), total=   0.3s\n",
      "[CV] model__C=10, model__max_iter=500, vectorizer__min_df=50, vectorizer__ngram_range=(1, 2) \n",
      "[CV]  model__C=10, model__max_iter=500, vectorizer__min_df=50, vectorizer__ngram_range=(1, 2), total=   1.0s\n",
      "[CV] model__C=10, model__max_iter=500, vectorizer__min_df=50, vectorizer__ngram_range=(1, 2) \n",
      "[CV]  model__C=10, model__max_iter=500, vectorizer__min_df=50, vectorizer__ngram_range=(1, 2), total=   1.0s\n",
      "[CV] model__C=10, model__max_iter=500, vectorizer__min_df=50, vectorizer__ngram_range=(1, 2) \n",
      "[CV]  model__C=10, model__max_iter=500, vectorizer__min_df=50, vectorizer__ngram_range=(1, 2), total=   0.9s\n",
      "[CV] model__C=10, model__max_iter=500, vectorizer__min_df=100, vectorizer__ngram_range=(1, 1) \n",
      "[CV]  model__C=10, model__max_iter=500, vectorizer__min_df=100, vectorizer__ngram_range=(1, 1), total=   0.3s\n",
      "[CV] model__C=10, model__max_iter=500, vectorizer__min_df=100, vectorizer__ngram_range=(1, 1) \n",
      "[CV]  model__C=10, model__max_iter=500, vectorizer__min_df=100, vectorizer__ngram_range=(1, 1), total=   0.3s\n",
      "[CV] model__C=10, model__max_iter=500, vectorizer__min_df=100, vectorizer__ngram_range=(1, 1) \n",
      "[CV]  model__C=10, model__max_iter=500, vectorizer__min_df=100, vectorizer__ngram_range=(1, 1), total=   0.4s\n",
      "[CV] model__C=10, model__max_iter=500, vectorizer__min_df=100, vectorizer__ngram_range=(1, 2) \n",
      "[CV]  model__C=10, model__max_iter=500, vectorizer__min_df=100, vectorizer__ngram_range=(1, 2), total=   0.9s\n",
      "[CV] model__C=10, model__max_iter=500, vectorizer__min_df=100, vectorizer__ngram_range=(1, 2) \n",
      "[CV]  model__C=10, model__max_iter=500, vectorizer__min_df=100, vectorizer__ngram_range=(1, 2), total=   1.0s\n",
      "[CV] model__C=10, model__max_iter=500, vectorizer__min_df=100, vectorizer__ngram_range=(1, 2) \n",
      "[CV]  model__C=10, model__max_iter=500, vectorizer__min_df=100, vectorizer__ngram_range=(1, 2), total=   1.0s\n",
      "[CV] model__C=10, model__max_iter=500, vectorizer__min_df=1000, vectorizer__ngram_range=(1, 1) \n",
      "[CV]  model__C=10, model__max_iter=500, vectorizer__min_df=1000, vectorizer__ngram_range=(1, 1), total=   0.2s\n",
      "[CV] model__C=10, model__max_iter=500, vectorizer__min_df=1000, vectorizer__ngram_range=(1, 1) \n"
     ]
    },
    {
     "name": "stderr",
     "output_type": "stream",
     "text": [
      "/usr/local/lib/python3.6/dist-packages/sklearn/model_selection/_validation.py:536: FitFailedWarning: Estimator fit failed. The score on this train-test partition for these parameters will be set to nan. Details: \n",
      "ValueError: max_df corresponds to < documents than min_df\n",
      "\n",
      "  FitFailedWarning)\n"
     ]
    },
    {
     "name": "stdout",
     "output_type": "stream",
     "text": [
      "[CV]  model__C=10, model__max_iter=500, vectorizer__min_df=1000, vectorizer__ngram_range=(1, 1), total=   0.2s\n",
      "[CV] model__C=10, model__max_iter=500, vectorizer__min_df=1000, vectorizer__ngram_range=(1, 1) \n",
      "[CV]  model__C=10, model__max_iter=500, vectorizer__min_df=1000, vectorizer__ngram_range=(1, 1), total=   0.2s\n",
      "[CV] model__C=10, model__max_iter=500, vectorizer__min_df=1000, vectorizer__ngram_range=(1, 2) \n",
      "[CV]  model__C=10, model__max_iter=500, vectorizer__min_df=1000, vectorizer__ngram_range=(1, 2), total=   0.7s\n",
      "[CV] model__C=10, model__max_iter=500, vectorizer__min_df=1000, vectorizer__ngram_range=(1, 2) \n",
      "[CV]  model__C=10, model__max_iter=500, vectorizer__min_df=1000, vectorizer__ngram_range=(1, 2), total=   0.8s\n",
      "[CV] model__C=10, model__max_iter=500, vectorizer__min_df=1000, vectorizer__ngram_range=(1, 2) \n",
      "[CV]  model__C=10, model__max_iter=500, vectorizer__min_df=1000, vectorizer__ngram_range=(1, 2), total=   0.8s\n",
      "[CV] model__C=10, model__max_iter=1000, vectorizer__min_df=1, vectorizer__ngram_range=(1, 1) \n",
      "[CV]  model__C=10, model__max_iter=1000, vectorizer__min_df=1, vectorizer__ngram_range=(1, 1), total=   1.8s\n",
      "[CV] model__C=10, model__max_iter=1000, vectorizer__min_df=1, vectorizer__ngram_range=(1, 1) \n",
      "[CV]  model__C=10, model__max_iter=1000, vectorizer__min_df=1, vectorizer__ngram_range=(1, 1), total=   1.0s\n",
      "[CV] model__C=10, model__max_iter=1000, vectorizer__min_df=1, vectorizer__ngram_range=(1, 1) \n",
      "[CV]  model__C=10, model__max_iter=1000, vectorizer__min_df=1, vectorizer__ngram_range=(1, 1), total=   1.5s\n",
      "[CV] model__C=10, model__max_iter=1000, vectorizer__min_df=1, vectorizer__ngram_range=(1, 2) \n",
      "[CV]  model__C=10, model__max_iter=1000, vectorizer__min_df=1, vectorizer__ngram_range=(1, 2), total=   3.1s\n",
      "[CV] model__C=10, model__max_iter=1000, vectorizer__min_df=1, vectorizer__ngram_range=(1, 2) \n",
      "[CV]  model__C=10, model__max_iter=1000, vectorizer__min_df=1, vectorizer__ngram_range=(1, 2), total=   2.4s\n",
      "[CV] model__C=10, model__max_iter=1000, vectorizer__min_df=1, vectorizer__ngram_range=(1, 2) \n",
      "[CV]  model__C=10, model__max_iter=1000, vectorizer__min_df=1, vectorizer__ngram_range=(1, 2), total=   2.4s\n",
      "[CV] model__C=10, model__max_iter=1000, vectorizer__min_df=5, vectorizer__ngram_range=(1, 1) \n",
      "[CV]  model__C=10, model__max_iter=1000, vectorizer__min_df=5, vectorizer__ngram_range=(1, 1), total=   0.3s\n",
      "[CV] model__C=10, model__max_iter=1000, vectorizer__min_df=5, vectorizer__ngram_range=(1, 1) \n",
      "[CV]  model__C=10, model__max_iter=1000, vectorizer__min_df=5, vectorizer__ngram_range=(1, 1), total=   0.4s\n",
      "[CV] model__C=10, model__max_iter=1000, vectorizer__min_df=5, vectorizer__ngram_range=(1, 1) \n",
      "[CV]  model__C=10, model__max_iter=1000, vectorizer__min_df=5, vectorizer__ngram_range=(1, 1), total=   0.3s\n",
      "[CV] model__C=10, model__max_iter=1000, vectorizer__min_df=5, vectorizer__ngram_range=(1, 2) \n",
      "[CV]  model__C=10, model__max_iter=1000, vectorizer__min_df=5, vectorizer__ngram_range=(1, 2), total=   1.0s\n",
      "[CV] model__C=10, model__max_iter=1000, vectorizer__min_df=5, vectorizer__ngram_range=(1, 2) \n",
      "[CV]  model__C=10, model__max_iter=1000, vectorizer__min_df=5, vectorizer__ngram_range=(1, 2), total=   1.0s\n",
      "[CV] model__C=10, model__max_iter=1000, vectorizer__min_df=5, vectorizer__ngram_range=(1, 2) \n",
      "[CV]  model__C=10, model__max_iter=1000, vectorizer__min_df=5, vectorizer__ngram_range=(1, 2), total=   0.9s\n",
      "[CV] model__C=10, model__max_iter=1000, vectorizer__min_df=10, vectorizer__ngram_range=(1, 1) \n",
      "[CV]  model__C=10, model__max_iter=1000, vectorizer__min_df=10, vectorizer__ngram_range=(1, 1), total=   0.3s\n",
      "[CV] model__C=10, model__max_iter=1000, vectorizer__min_df=10, vectorizer__ngram_range=(1, 1) \n",
      "[CV]  model__C=10, model__max_iter=1000, vectorizer__min_df=10, vectorizer__ngram_range=(1, 1), total=   0.3s\n",
      "[CV] model__C=10, model__max_iter=1000, vectorizer__min_df=10, vectorizer__ngram_range=(1, 1) \n",
      "[CV]  model__C=10, model__max_iter=1000, vectorizer__min_df=10, vectorizer__ngram_range=(1, 1), total=   0.3s\n",
      "[CV] model__C=10, model__max_iter=1000, vectorizer__min_df=10, vectorizer__ngram_range=(1, 2) \n",
      "[CV]  model__C=10, model__max_iter=1000, vectorizer__min_df=10, vectorizer__ngram_range=(1, 2), total=   0.9s\n",
      "[CV] model__C=10, model__max_iter=1000, vectorizer__min_df=10, vectorizer__ngram_range=(1, 2) \n",
      "[CV]  model__C=10, model__max_iter=1000, vectorizer__min_df=10, vectorizer__ngram_range=(1, 2), total=   0.9s\n",
      "[CV] model__C=10, model__max_iter=1000, vectorizer__min_df=10, vectorizer__ngram_range=(1, 2) \n",
      "[CV]  model__C=10, model__max_iter=1000, vectorizer__min_df=10, vectorizer__ngram_range=(1, 2), total=   1.0s\n",
      "[CV] model__C=10, model__max_iter=1000, vectorizer__min_df=50, vectorizer__ngram_range=(1, 1) \n",
      "[CV]  model__C=10, model__max_iter=1000, vectorizer__min_df=50, vectorizer__ngram_range=(1, 1), total=   0.3s\n",
      "[CV] model__C=10, model__max_iter=1000, vectorizer__min_df=50, vectorizer__ngram_range=(1, 1) \n",
      "[CV]  model__C=10, model__max_iter=1000, vectorizer__min_df=50, vectorizer__ngram_range=(1, 1), total=   0.3s\n",
      "[CV] model__C=10, model__max_iter=1000, vectorizer__min_df=50, vectorizer__ngram_range=(1, 1) \n",
      "[CV]  model__C=10, model__max_iter=1000, vectorizer__min_df=50, vectorizer__ngram_range=(1, 1), total=   0.3s\n",
      "[CV] model__C=10, model__max_iter=1000, vectorizer__min_df=50, vectorizer__ngram_range=(1, 2) \n",
      "[CV]  model__C=10, model__max_iter=1000, vectorizer__min_df=50, vectorizer__ngram_range=(1, 2), total=   0.9s\n",
      "[CV] model__C=10, model__max_iter=1000, vectorizer__min_df=50, vectorizer__ngram_range=(1, 2) \n",
      "[CV]  model__C=10, model__max_iter=1000, vectorizer__min_df=50, vectorizer__ngram_range=(1, 2), total=   0.9s\n",
      "[CV] model__C=10, model__max_iter=1000, vectorizer__min_df=50, vectorizer__ngram_range=(1, 2) \n",
      "[CV]  model__C=10, model__max_iter=1000, vectorizer__min_df=50, vectorizer__ngram_range=(1, 2), total=   0.9s\n",
      "[CV] model__C=10, model__max_iter=1000, vectorizer__min_df=100, vectorizer__ngram_range=(1, 1) \n",
      "[CV]  model__C=10, model__max_iter=1000, vectorizer__min_df=100, vectorizer__ngram_range=(1, 1), total=   0.3s\n",
      "[CV] model__C=10, model__max_iter=1000, vectorizer__min_df=100, vectorizer__ngram_range=(1, 1) \n",
      "[CV]  model__C=10, model__max_iter=1000, vectorizer__min_df=100, vectorizer__ngram_range=(1, 1), total=   0.3s\n",
      "[CV] model__C=10, model__max_iter=1000, vectorizer__min_df=100, vectorizer__ngram_range=(1, 1) \n",
      "[CV]  model__C=10, model__max_iter=1000, vectorizer__min_df=100, vectorizer__ngram_range=(1, 1), total=   0.3s\n",
      "[CV] model__C=10, model__max_iter=1000, vectorizer__min_df=100, vectorizer__ngram_range=(1, 2) \n",
      "[CV]  model__C=10, model__max_iter=1000, vectorizer__min_df=100, vectorizer__ngram_range=(1, 2), total=   0.8s\n",
      "[CV] model__C=10, model__max_iter=1000, vectorizer__min_df=100, vectorizer__ngram_range=(1, 2) \n",
      "[CV]  model__C=10, model__max_iter=1000, vectorizer__min_df=100, vectorizer__ngram_range=(1, 2), total=   0.8s\n",
      "[CV] model__C=10, model__max_iter=1000, vectorizer__min_df=100, vectorizer__ngram_range=(1, 2) \n",
      "[CV]  model__C=10, model__max_iter=1000, vectorizer__min_df=100, vectorizer__ngram_range=(1, 2), total=   0.8s\n",
      "[CV] model__C=10, model__max_iter=1000, vectorizer__min_df=1000, vectorizer__ngram_range=(1, 1) \n",
      "[CV]  model__C=10, model__max_iter=1000, vectorizer__min_df=1000, vectorizer__ngram_range=(1, 1), total=   0.2s\n",
      "[CV] model__C=10, model__max_iter=1000, vectorizer__min_df=1000, vectorizer__ngram_range=(1, 1) \n"
     ]
    },
    {
     "name": "stderr",
     "output_type": "stream",
     "text": [
      "/usr/local/lib/python3.6/dist-packages/sklearn/model_selection/_validation.py:536: FitFailedWarning: Estimator fit failed. The score on this train-test partition for these parameters will be set to nan. Details: \n",
      "ValueError: max_df corresponds to < documents than min_df\n",
      "\n",
      "  FitFailedWarning)\n"
     ]
    },
    {
     "name": "stdout",
     "output_type": "stream",
     "text": [
      "[CV]  model__C=10, model__max_iter=1000, vectorizer__min_df=1000, vectorizer__ngram_range=(1, 1), total=   0.2s\n",
      "[CV] model__C=10, model__max_iter=1000, vectorizer__min_df=1000, vectorizer__ngram_range=(1, 1) \n",
      "[CV]  model__C=10, model__max_iter=1000, vectorizer__min_df=1000, vectorizer__ngram_range=(1, 1), total=   0.2s\n",
      "[CV] model__C=10, model__max_iter=1000, vectorizer__min_df=1000, vectorizer__ngram_range=(1, 2) \n",
      "[CV]  model__C=10, model__max_iter=1000, vectorizer__min_df=1000, vectorizer__ngram_range=(1, 2), total=   0.6s\n",
      "[CV] model__C=10, model__max_iter=1000, vectorizer__min_df=1000, vectorizer__ngram_range=(1, 2) \n",
      "[CV]  model__C=10, model__max_iter=1000, vectorizer__min_df=1000, vectorizer__ngram_range=(1, 2), total=   0.6s\n",
      "[CV] model__C=10, model__max_iter=1000, vectorizer__min_df=1000, vectorizer__ngram_range=(1, 2) \n",
      "[CV]  model__C=10, model__max_iter=1000, vectorizer__min_df=1000, vectorizer__ngram_range=(1, 2), total=   0.5s\n"
     ]
    },
    {
     "name": "stderr",
     "output_type": "stream",
     "text": [
      "[Parallel(n_jobs=1)]: Done 540 out of 540 | elapsed:  5.9min finished\n"
     ]
    },
    {
     "name": "stdout",
     "output_type": "stream",
     "text": [
      "Done\n"
     ]
    }
   ],
   "source": [
    "print('Running Grid Search...')\n",
    "\n",
    "# 1. Run a Grid Search with 3-fold cross-validation\n",
    "grid = GridSearchCV(model_pipeline, param_grid, cv = 3, scoring = 'roc_auc', verbose = 2)\n",
    "\n",
    "# 2. Fit the model on the training data\n",
    "grid_search = grid.fit(X_train, y_train)\n",
    "\n",
    "print('Done')"
   ]
  },
  {
   "cell_type": "markdown",
   "metadata": {},
   "source": [
    "### Find the Best HyperParameter Configuration Determined by the Grid Search"
   ]
  },
  {
   "cell_type": "code",
   "execution_count": 19,
   "metadata": {},
   "outputs": [
    {
     "data": {
      "text/plain": [
       "Pipeline(memory=None,\n",
       "         steps=[('vectorizer',\n",
       "                 TfidfVectorizer(analyzer='word', binary=False,\n",
       "                                 decode_error='strict',\n",
       "                                 dtype=<class 'numpy.float64'>,\n",
       "                                 encoding='utf-8', input='content',\n",
       "                                 lowercase=True, max_df=1.0, max_features=None,\n",
       "                                 min_df=1, ngram_range=(1, 2), norm='l2',\n",
       "                                 preprocessor=None, smooth_idf=True,\n",
       "                                 stop_words=None, strip_accents=None,\n",
       "                                 sublinear_tf=False,\n",
       "                                 token_pattern='(?u)\\\\b\\\\w\\\\w+\\\\b',\n",
       "                                 tokenizer=None, use_idf=True,\n",
       "                                 vocabulary=None)),\n",
       "                ('model',\n",
       "                 LogisticRegression(C=10, class_weight=None, dual=False,\n",
       "                                    fit_intercept=True, intercept_scaling=1,\n",
       "                                    l1_ratio=None, max_iter=100,\n",
       "                                    multi_class='auto', n_jobs=None,\n",
       "                                    penalty='l2', random_state=None,\n",
       "                                    solver='lbfgs', tol=0.0001, verbose=0,\n",
       "                                    warm_start=False))],\n",
       "         verbose=False)"
      ]
     },
     "execution_count": 19,
     "metadata": {},
     "output_type": "execute_result"
    }
   ],
   "source": [
    "grid_search.best_estimator_"
   ]
  },
  {
   "cell_type": "code",
   "execution_count": 20,
   "metadata": {},
   "outputs": [
    {
     "data": {
      "text/plain": [
       "{'model__C': 10,\n",
       " 'model__max_iter': 100,\n",
       " 'vectorizer__min_df': 1,\n",
       " 'vectorizer__ngram_range': (1, 2)}"
      ]
     },
     "execution_count": 20,
     "metadata": {},
     "output_type": "execute_result"
    }
   ],
   "source": [
    "best_params = grid_search.best_params_\n",
    "best_params"
   ]
  },
  {
   "cell_type": "markdown",
   "metadata": {},
   "source": [
    "### Plot the Results with the Best Hyperparameter Values"
   ]
  },
  {
   "cell_type": "code",
   "execution_count": 21,
   "metadata": {},
   "outputs": [
    {
     "data": {
      "text/plain": [
       "<sklearn.metrics._plot.roc_curve.RocCurveDisplay at 0x7f61de406c50>"
      ]
     },
     "execution_count": 21,
     "metadata": {},
     "output_type": "execute_result"
    },
    {
     "data": {
      "image/png": "[encoded data removed]",
      "text/plain": [
       "<Figure size 432x288 with 1 Axes>"
      ]
     },
     "metadata": {
      "needs_background": "light"
     },
     "output_type": "display_data"
    }
   ],
   "source": [
    "plot_roc_curve(grid_search.best_estimator_, X_test, y_test)"
   ]
  },
  {
   "cell_type": "markdown",
   "metadata": {},
   "source": [
    "### Fit Model Using the Best Hyperparameters"
   ]
  },
  {
   "cell_type": "code",
   "execution_count": 22,
   "metadata": {},
   "outputs": [
    {
     "name": "stdout",
     "output_type": "stream",
     "text": [
      "AUC on the test data: 0.9346\n"
     ]
    }
   ],
   "source": [
    "# 1. Create a TfidfVectorizer oject using best hyperparameters\n",
    "tfidf_vectorizer = TfidfVectorizer(min_df = best_params['vectorizer__min_df'], ngram_range = best_params['vectorizer__ngram_range'])\n",
    "\n",
    "# 2. Fit the vectorizer to X_train\n",
    "tfidf_vectorizer.fit(X_train)\n",
    "\n",
    "# 3. Transform the training and test data\n",
    "X_train_tfidf = tfidf_vectorizer.transform(X_train)\n",
    "X_test_tfidf = tfidf_vectorizer.transform(X_test)\n",
    "\n",
    "# 4. Create a LogisticRegression model object using the best hyperparameters, and fit the Logistic Regression model to the transformed training data\n",
    "model_best = LogisticRegression(max_iter = best_params['model__max_iter'], C = best_params['model__C'])\n",
    "model_best.fit(X_train_tfidf, y_train)\n",
    "\n",
    "# 5. Make predictions on the transformed test data using the predict_proba() method and save the values of the second column\n",
    "probability_predictions_best = model_best.predict_proba(X_test_tfidf)[:, 1]\n",
    "\n",
    "# 6. Make predictions on the transformed test data using the predict() method\n",
    "class_label_predictions_best = model_best.predict(X_test_tfidf)\n",
    "\n",
    "# 7. Compute the Area Under the ROC curve (AUC) for the test data.\n",
    "auc_score = roc_auc_score(y_test, probability_predictions_best)\n",
    "print('AUC on the test data: {:.4f}'.format(auc_score))"
   ]
  },
  {
   "cell_type": "markdown",
   "metadata": {},
   "source": [
    "### Confusion Matrix with Default Hyperparameters"
   ]
  },
  {
   "cell_type": "code",
   "execution_count": 23,
   "metadata": {},
   "outputs": [
    {
     "data": {
      "text/html": [
       "<div>\n",
       "<style scoped>\n",
       "    .dataframe tbody tr th:only-of-type {\n",
       "        vertical-align: middle;\n",
       "    }\n",
       "\n",
       "    .dataframe tbody tr th {\n",
       "        vertical-align: top;\n",
       "    }\n",
       "\n",
       "    .dataframe thead th {\n",
       "        text-align: right;\n",
       "    }\n",
       "</style>\n",
       "<table border=\"1\" class=\"dataframe\">\n",
       "  <thead>\n",
       "    <tr style=\"text-align: right;\">\n",
       "      <th></th>\n",
       "      <th>Predicted: Review is Positive</th>\n",
       "      <th>Predicted: Review is not Positive</th>\n",
       "    </tr>\n",
       "  </thead>\n",
       "  <tbody>\n",
       "    <tr>\n",
       "      <th>Actual: Review is Positive</th>\n",
       "      <td>214</td>\n",
       "      <td>43</td>\n",
       "    </tr>\n",
       "    <tr>\n",
       "      <th>Actual: Review is not Positive</th>\n",
       "      <td>41</td>\n",
       "      <td>196</td>\n",
       "    </tr>\n",
       "  </tbody>\n",
       "</table>\n",
       "</div>"
      ],
      "text/plain": [
       "                                Predicted: Review is Positive  \\\n",
       "Actual: Review is Positive                                214   \n",
       "Actual: Review is not Positive                             41   \n",
       "\n",
       "                                Predicted: Review is not Positive  \n",
       "Actual: Review is Positive                                     43  \n",
       "Actual: Review is not Positive                                196  "
      ]
     },
     "execution_count": 23,
     "metadata": {},
     "output_type": "execute_result"
    }
   ],
   "source": [
    "# Create a confusion matrix to evaluate accuracy\n",
    "c_m_default = confusion_matrix(y_test, class_label_predictions, labels = [True, False])\n",
    "pd.DataFrame(c_m_default, columns = ['Predicted: Review is Positive', 'Predicted: Review is not Positive'], index = ['Actual: Review is Positive', 'Actual: Review is not Positive'])"
   ]
  },
  {
   "cell_type": "markdown",
   "metadata": {},
   "source": [
    "### Confusion Matrix with Best Hyperparameters"
   ]
  },
  {
   "cell_type": "code",
   "execution_count": 24,
   "metadata": {},
   "outputs": [
    {
     "data": {
      "text/html": [
       "<div>\n",
       "<style scoped>\n",
       "    .dataframe tbody tr th:only-of-type {\n",
       "        vertical-align: middle;\n",
       "    }\n",
       "\n",
       "    .dataframe tbody tr th {\n",
       "        vertical-align: top;\n",
       "    }\n",
       "\n",
       "    .dataframe thead th {\n",
       "        text-align: right;\n",
       "    }\n",
       "</style>\n",
       "<table border=\"1\" class=\"dataframe\">\n",
       "  <thead>\n",
       "    <tr style=\"text-align: right;\">\n",
       "      <th></th>\n",
       "      <th>Predicted: Review is Positive</th>\n",
       "      <th>Predicted: Review is not Positive</th>\n",
       "    </tr>\n",
       "  </thead>\n",
       "  <tbody>\n",
       "    <tr>\n",
       "      <th>Actual: Review is Positive</th>\n",
       "      <td>221</td>\n",
       "      <td>36</td>\n",
       "    </tr>\n",
       "    <tr>\n",
       "      <th>Actual: Review is not Positive</th>\n",
       "      <td>35</td>\n",
       "      <td>202</td>\n",
       "    </tr>\n",
       "  </tbody>\n",
       "</table>\n",
       "</div>"
      ],
      "text/plain": [
       "                                Predicted: Review is Positive  \\\n",
       "Actual: Review is Positive                                221   \n",
       "Actual: Review is not Positive                             35   \n",
       "\n",
       "                                Predicted: Review is not Positive  \n",
       "Actual: Review is Positive                                     36  \n",
       "Actual: Review is not Positive                                202  "
      ]
     },
     "execution_count": 24,
     "metadata": {},
     "output_type": "execute_result"
    }
   ],
   "source": [
    "# Create a confusion matrix to evaluate accuracy\n",
    "c_m_best = confusion_matrix(y_test, class_label_predictions_best, labels = [True, False])\n",
    "pd.DataFrame(c_m_best, columns = ['Predicted: Review is Positive', 'Predicted: Review is not Positive'], index = ['Actual: Review is Positive', 'Actual: Review is not Positive'])"
   ]
  },
  {
   "cell_type": "markdown",
   "metadata": {},
   "source": [
    "## ROC Curve"
   ]
  },
  {
   "cell_type": "code",
   "execution_count": 25,
   "metadata": {},
   "outputs": [],
   "source": [
    "fpr_default, tpr_default, thresholds_default = roc_curve(y_test, probability_predictions)\n",
    "fpr_best, tpr_best, thresholds_best = roc_curve(y_test, probability_predictions_best)"
   ]
  },
  {
   "cell_type": "markdown",
   "metadata": {},
   "source": [
    "### ROC Curve for Default Hyperparameters"
   ]
  },
  {
   "cell_type": "code",
   "execution_count": 26,
   "metadata": {},
   "outputs": [
    {
     "data": {
      "image/png": "[encoded data removed]",
      "text/plain": [
       "<Figure size 432x288 with 1 Axes>"
      ]
     },
     "metadata": {
      "needs_background": "light"
     },
     "output_type": "display_data"
    }
   ],
   "source": [
    "fig = plt.figure()\n",
    "ax = fig.add_subplot(111)\n",
    "sns.lineplot(x = fpr_default, y = tpr_default, label = 'Default', color = 'green')\n",
    "plt.title(\"Receiver operating characteristic (ROC) curve\")\n",
    "plt.xlabel(\"False positive rate\")\n",
    "plt.ylabel(\"True positive rate\")\n",
    "plt.legend()\n",
    "plt.show()"
   ]
  },
  {
   "cell_type": "code",
   "execution_count": 27,
   "metadata": {},
   "outputs": [
    {
     "name": "stdout",
     "output_type": "stream",
     "text": [
      "AUC score for default hyperparameters:  0.9194700290597448\n"
     ]
    }
   ],
   "source": [
    "auc_default = auc(fpr_default, tpr_default)\n",
    "print(\"AUC score for default hyperparameters: \", auc_default)"
   ]
  },
  {
   "cell_type": "markdown",
   "metadata": {},
   "source": [
    "### ROC Curve for Best Hyperparameters"
   ]
  },
  {
   "cell_type": "code",
   "execution_count": 28,
   "metadata": {},
   "outputs": [
    {
     "data": {
      "image/png": "[encoded data removed]",
      "text/plain": [
       "<Figure size 432x288 with 1 Axes>"
      ]
     },
     "metadata": {
      "needs_background": "light"
     },
     "output_type": "display_data"
    }
   ],
   "source": [
    "fig = plt.figure()\n",
    "ax = fig.add_subplot(111)\n",
    "sns.lineplot(x = fpr_best, y = tpr_best, label = 'Best', color = 'red')\n",
    "plt.title(\"Receiver operating characteristic (ROC) curve\")\n",
    "plt.xlabel(\"False positive rate\")\n",
    "plt.ylabel(\"True positive rate\")\n",
    "plt.legend()\n",
    "plt.show()"
   ]
  },
  {
   "cell_type": "code",
   "execution_count": 29,
   "metadata": {},
   "outputs": [
    {
     "name": "stdout",
     "output_type": "stream",
     "text": [
      "AUC score for best hyperparameters:  0.9346237830205716\n"
     ]
    }
   ],
   "source": [
    "auc_best = auc(fpr_best, tpr_best)\n",
    "print(\"AUC score for best hyperparameters: \", auc_best)"
   ]
  },
  {
   "cell_type": "markdown",
   "metadata": {},
   "source": [
    "### Check to See if Model Predicts Properly Using 2 Examples"
   ]
  },
  {
   "cell_type": "code",
   "execution_count": 30,
   "metadata": {},
   "outputs": [
    {
     "name": "stdout",
     "output_type": "stream",
     "text": [
      "Review #1:\n",
      "\n",
      "Many words - few practical tips! This book did not give much more (-valuable-) information than I already had found out by reading the manual delivered with my pocket computer. \n",
      "After reading the book I still had to search for web communities, where some of my questions could be answered. \n",
      "My expectations when buying the book were mainly focused on the need for practical hints concerning how to manage tasks, contacts and appointments. Unfortunately, in my view, these important and basic issues were treated too superficially.    \n",
      "\n",
      "\n",
      "Prediction: Is this a good review? False\n",
      "\n",
      "Actual: Is this a good review? False\n",
      "\n"
     ]
    }
   ],
   "source": [
    "print('Review #1:\\n')\n",
    "print(X_test.to_numpy()[108])\n",
    "\n",
    "print('\\nPrediction: Is this a good review? {}\\n'.format(class_label_predictions_best[108]))\n",
    "\n",
    "print('Actual: Is this a good review? {}\\n'.format(y_test.to_numpy()[108]))"
   ]
  },
  {
   "cell_type": "code",
   "execution_count": 31,
   "metadata": {},
   "outputs": [
    {
     "name": "stdout",
     "output_type": "stream",
     "text": [
      "Review #2:\n",
      "\n",
      "This book teaches poetic technique clearly while remaining friendly and encouraging.  My second-semester poetry creative writing students use this book as a text together with Michael J. Bugeja's ART AND CRAFT OF POETRY\n",
      "\n",
      "\n",
      "Prediction: Is this a good review? True\n",
      "\n",
      "Actual: Is this a good review? True\n",
      "\n"
     ]
    }
   ],
   "source": [
    "print('Review #2:\\n')\n",
    "print(X_test.to_numpy()[342])\n",
    "\n",
    "print('\\nPrediction: Is this a good review? {}\\n'.format(class_label_predictions_best[342]))\n",
    "\n",
    "print('Actual: Is this a good review? {}\\n'.format(y_test.to_numpy()[342]))"
   ]
  }
 ],
 "metadata": {
  "kernelspec": {
   "display_name": "Python 3",
   "language": "python",
   "name": "python3"
  },
  "language_info": {
   "codemirror_mode": {
    "name": "ipython",
    "version": 3
   },
   "file_extension": ".py",
   "mimetype": "text/x-python",
   "name": "python",
   "nbconvert_exporter": "python",
   "pygments_lexer": "ipython3",
   "version": "3.6.9"
  },
  "toc": {
   "base_numbering": 1,
   "nav_menu": {},
   "number_sections": false,
   "sideBar": true,
   "skip_h1_title": false,
   "title_cell": "Table of Contents",
   "title_sidebar": "Contents",
   "toc_cell": false,
   "toc_position": {},
   "toc_section_display": true,
   "toc_window_display": false
  },
  "varInspector": {
   "cols": {
    "lenName": 16,
    "lenType": 16,
    "lenVar": 40
   },
   "kernels_config": {
    "python": {
     "delete_cmd_postfix": "",
     "delete_cmd_prefix": "del ",
     "library": "var_list.py",
     "varRefreshCmd": "print(var_dic_list())"
    },
    "r": {
     "delete_cmd_postfix": ") ",
     "delete_cmd_prefix": "rm(",
     "library": "var_list.r",
     "varRefreshCmd": "cat(var_dic_list()) "
    }
   },
   "types_to_exclude": [
    "module",
    "function",
    "builtin_function_or_method",
    "instance",
    "_Feature"
   ],
   "window_display": false
  }
 },
 "nbformat": 4,
 "nbformat_minor": 2
}
